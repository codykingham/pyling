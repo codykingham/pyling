{
 "cells": [
  {
   "cell_type": "markdown",
   "metadata": {},
   "source": [
    "# Assignment 1 – variables, types, booleans, conditionals\n",
    "\n",
    "**Questions? Drop em in the Slack under #questions**\n",
    "\n",
    "## Introduction: Operationalizing Linguistic Research\n",
    "\n",
    "Often in the humanities we deal with subjective concepts, things which are not directly measurable. Linguistics, though, sits somewhere on the border of subjective and objective. In quantitative linguistics, we try to use objective data to clarify issues once thought to be only subjective. In doing so, we have to learn how to \"operationalize\" our research questions. \n",
    "\n",
    "To operationalize means to condense a complex question into a simpler one that can be addressed with empirical data (Stefanowitsch 2010). It's possible that we lose some nuance in the process. But we also enable progress to be made within a specific niche. An accumulation of this progress eventually allows us to re-evaluate our theoretical starting point. \n",
    "\n",
    "Consider, for instance, the following two research questions:\n",
    "\n",
    "> (1) In world languages, does the verb serve as the syntactic head of the sentence?\n",
    "\n",
    "> (2) In world languages, how predictive is a verb for other arguments in a sentence?\n",
    "\n",
    "The first question is a largely subjective one, which linguists continue to disagree on (e.g. Croft, *Radical Construction Grammar*, 2001). There is no way to test that hypothesis with only empirical data. \n",
    "\n",
    "The second question, on the other hand, can be answered with some Python, linguistic annotations, and a basic knowledge of statistics. And even though the answer to that question is simpler, it still has broader implications for question 1.\n",
    "\n",
    "<img src=\"../images/research_operationalization.png\" height=\"500px\" width=\"500px\"><br>\n",
    "*From question, to Python, to data, to theories*\n",
    "    \n",
    "**Further reading**<br>\n",
    "[Anatol Stefanowitsch. 2010. \"Empirical Cognitive Semantics\"](https://pdfs.semanticscholar.org/5237/c136ec1f1c09c42b7fb9ffc7b36a5f217489.pdf#page=364)\n",
    "\n",
    "<hr>\n",
    "\n",
    "## Exercise Brief: From Strings to Integers\n",
    "\n",
    "In the following exercises, we will practise miniature operationalizations, wherein we convert a small linguistic question into Python code that produces counts from which we can form theories. In Pythonic terms, we move from strings to integers.\n",
    "\n",
    "Besides strings and integers, the following exercises will also test your knowledge of booleans and conditionals."
   ]
  },
  {
   "cell_type": "markdown",
   "metadata": {},
   "source": [
    "## Warm-up"
   ]
  },
  {
   "cell_type": "markdown",
   "metadata": {},
   "source": [
    "Write code that prints the type of object each of these items represents."
   ]
  },
  {
   "cell_type": "code",
   "execution_count": null,
   "metadata": {},
   "outputs": [],
   "source": [
    "'meaning of life'\n",
    "42\n",
    "True"
   ]
  },
  {
   "cell_type": "markdown",
   "metadata": {},
   "source": [
    "Combine these two strings using variables."
   ]
  },
  {
   "cell_type": "code",
   "execution_count": null,
   "metadata": {},
   "outputs": [],
   "source": [
    "'μῆνιν ἄειδε θεὰ Πηληϊάδεω ' \n",
    "'Ἀχιλῆος οὐλομένην'"
   ]
  },
  {
   "cell_type": "markdown",
   "metadata": {},
   "source": [
    "Write code that shows the number of times the letter \"e\" appears in the text below."
   ]
  },
  {
   "cell_type": "code",
   "execution_count": null,
   "metadata": {},
   "outputs": [],
   "source": [
    "virgil = 'Arma virumque canō, Trōiae quī prīmus ab ōrīs'"
   ]
  },
  {
   "cell_type": "markdown",
   "metadata": {},
   "source": [
    "Observe the code and [text](https://www.sacred-texts.com/hin/rvsan/rv01001.htm) below. What does the `\\n` do (look closely for it)?"
   ]
  },
  {
   "cell_type": "code",
   "execution_count": null,
   "metadata": {},
   "outputs": [],
   "source": [
    "print('अग्निमीळे पुरोहितं यज्ञस्य देवं रत्वीजम \\nहोतारं रत्नधातमम')"
   ]
  },
  {
   "cell_type": "markdown",
   "metadata": {},
   "source": [
    "Change the code below so that it prints the statement after the colon (:) on a separate line. "
   ]
  },
  {
   "cell_type": "code",
   "execution_count": null,
   "metadata": {},
   "outputs": [],
   "source": [
    "print('Fair is foul, and foul is fair: Hover through the fog and filthy air.')"
   ]
  },
  {
   "cell_type": "markdown",
   "metadata": {},
   "source": [
    "Complete the code below to make it run without error."
   ]
  },
  {
   "cell_type": "code",
   "execution_count": null,
   "metadata": {},
   "outputs": [],
   "source": [
    "if\n",
    "    print 'scrumdiddlyumptious"
   ]
  },
  {
   "cell_type": "markdown",
   "metadata": {},
   "source": [
    "Does the following line of code evaluate to `True` or `False`?"
   ]
  },
  {
   "cell_type": "code",
   "execution_count": null,
   "metadata": {},
   "outputs": [],
   "source": [
    "not not True"
   ]
  },
  {
   "cell_type": "markdown",
   "metadata": {},
   "source": [
    "Below is the [longest word in the English language](https://en.wikipedia.org/wiki/Pneumonoultramicroscopicsilicovolcanoconiosis) (contained in a dictionary). Write code that shows how many characters this word contains."
   ]
  },
  {
   "cell_type": "code",
   "execution_count": null,
   "metadata": {},
   "outputs": [],
   "source": [
    "'Pneumonoultramicroscopicsilicovolcanoconiosis'"
   ]
  },
  {
   "cell_type": "markdown",
   "metadata": {},
   "source": [
    "## Exercise 1. Basic Statistics from Strings\n",
    "\n",
    "Below you see an excerpt of the first lines of Beowulf. Examine the various features of the text. For instance, we can see punctuation, and newlines. We can also see Old English characters.\n",
    "\n",
    "### Part A\n",
    "\n",
    "Write code that calculates the following statistics from the text:\n",
    "\n",
    "1. Store the number of sentences under a variable and use f-string to display the answer within a statement (e.g. \"The number of sentences is blank\"). *hint: think about punctuation*\n",
    "2. Store the number of lines and use f-string to print the answer within a statement.\n",
    "3. Use f-string to print within a statement how many more lines there are than sentences.\n",
    "4. What is the [ratio](https://www.mathsisfun.com/numbers/ratio.html) of lines to sentences? Print this in a statement as a decimal.\n",
    "\n",
    "NB: the Beowulf text would be easier to work with as a variable!\n",
    "\n",
    "[Beowulf source](https://www.poetryfoundation.org/poems/43521/beowulf-old-english-version)"
   ]
  },
  {
   "cell_type": "code",
   "execution_count": null,
   "metadata": {},
   "outputs": [],
   "source": [
    "'''\\\n",
    "Hwæt. We Gardena in geardagum, \n",
    "þeodcyninga, þrym gefrunon, \n",
    "hu ða æþelingas ellen fremedon. \n",
    "Oft Scyld Scefing sceaþena þreatum, \n",
    "monegum mægþum, meodosetla ofteah, \n",
    "egsode eorlas. Syððan ærest wearð \n",
    "feasceaft funden, he þæs frofre gebad, \n",
    "weox under wolcnum, weorðmyndum þah, \n",
    "oðþæt him æghwylc þara ymbsittendra \n",
    "ofer hronrade hyran scolde, \n",
    "gomban gyldan. þæt wæs god cyning. \n",
    "ðæm eafera wæs æfter cenned, \n",
    "geong in geardum, þone god sende \n",
    "folce to frofre; fyrenðearfe ongeat \n",
    "þe hie ær drugon aldorlease \n",
    "lange hwile. Him þæs liffrea, \n",
    "wuldres wealdend, woroldare forgeaf; \n",
    "Beowulf wæs breme blæd wide sprang, \n",
    "Scyldes eafera Scedelandum in. \n",
    "Swa sceal geong guma gode gewyrcean, \n",
    "fromum feohgiftum on fæder bearme, \n",
    "þæt hine on ylde eft gewunigen \n",
    "wilgesiþas, þonne wig cume, \n",
    "leode gelæsten; lofdædum sceal \n",
    "in mægþa gehwære man geþeon. \n",
    "Him ða Scyld gewat to gescæphwile \n",
    "felahror feran on frean wære. \n",
    "Hi hyne þa ætbæron to brimes faroðe, \n",
    "swæse gesiþas, swa he selfa bæd, \n",
    "þenden wordum weold wine Scyldinga; \n",
    "leof landfruma lange ahte. \n",
    "þær æt hyðe stod hringedstefna, \n",
    "isig ond utfus, æþelinges fær. \n",
    "Aledon þa leofne þeoden, \n",
    "beaga bryttan, on bearm scipes, \n",
    "mærne be mæste. þær wæs madma fela \n",
    "of feorwegum, frætwa, gelæded; \n",
    "ne hyrde ic cymlicor ceol gegyrwan \n",
    "hildewæpnum ond heaðowædum, \n",
    "billum ond byrnum; him on bearme læg \n",
    "madma mænigo, þa him mid scoldon \n",
    "on flodes æht feor gewitan. \n",
    "Nalæs hi hine læssan lacum teodan, \n",
    "þeodgestreonum, þon þa dydon \n",
    "þe hine æt frumsceafte forð onsendon \n",
    "ænne ofer yðe umborwesende. \n",
    "þa gyt hie him asetton segen geldenne \n",
    "heah ofer heafod, leton holm beran, \n",
    "geafon on garsecg; him wæs geomor sefa, \n",
    "murnende mod. Men ne cunnon \n",
    "secgan to soðe, selerædende, \n",
    "hæleð under heofenum, hwa þæm hlæste onfeng.\\\n",
    "'''"
   ]
  },
  {
   "cell_type": "markdown",
   "metadata": {},
   "source": [
    "### Part B\n",
    "\n",
    "We are also interested in the kinds of words that occur in this text. Write an analysis program that does the following:\n",
    "\n",
    "1. Counts any given word in the text (use spaces to distinguish from other runs of characters).\n",
    "2. If the word count is > 3, print the word & the count together (using \"+\", hint: and something else)\n",
    "3. Otherwise, print \"Try again!\"\n",
    "4. Use your program to find at least one word with a count > 3.\n",
    "5. [Write any answers you find in a markdown cell](https://www.earthdatascience.org/courses/intro-to-earth-data-science/open-reproducible-science/jupyter-python/code-markdown-cells-in-jupyter-notebook/)"
   ]
  },
  {
   "cell_type": "code",
   "execution_count": null,
   "metadata": {},
   "outputs": [],
   "source": [
    "word = ' lacum '\n",
    "\n",
    "# fill in the rest below"
   ]
  },
  {
   "cell_type": "markdown",
   "metadata": {},
   "source": [
    "## Midsommer Text Style\n",
    "\n",
    "Recall some of the facts we've learned about strings ([table source](https://github.com/cltl/python-for-text-analysis/blob/master/Assignments/ASSIGNMENT-1.ipynb)):\n",
    "\n",
    "| Topic | Explanation |\n",
    "|-----------|--------|\n",
    "| `quotes` |\tA string is delimited by single quotes ('...') or double quotes (\"...\") |\n",
    "| `special characters` |\tCertain special characters can be used, such as \"\\n\" (for newline) and \"\\t\" (for a tab) \t|  \t \n",
    "| `printing special characters` |\tTo print the special characters, they must be preceded by a backslash (\\\\)\t |\n",
    "| `continue on next line` |\tA backslash (\\\\) at the end of a line is used to continue a string on the next line\t  \t |\n",
    "| `multi-line strings` |\tA multi-line print statement should be enclosed by three double or three single quotes (\"\"\"...\"\"\" of '''...''')\t | \n",
    "<br>\n",
    "\n",
    "Now have a look at the excerpt below of Shakespeare's Midsommer Night's Dream from [a 1619 printing](https://archive.org/details/midsommernightsd1619shak/page/n43/mode/2up).\n",
    "\n",
    "<img src=\"../images/midsommer.png\" height=\"500px\" width=\"500px\">"
   ]
  },
  {
   "cell_type": "markdown",
   "metadata": {},
   "source": [
    "Using a double or single quote string, enter the text found above and reproduce the visual layout of the printing. Print the result."
   ]
  },
  {
   "cell_type": "code",
   "execution_count": null,
   "metadata": {},
   "outputs": [],
   "source": []
  },
  {
   "cell_type": "markdown",
   "metadata": {},
   "source": [
    "Now reproduce the first half of the printing using a triple quote string and print it."
   ]
  },
  {
   "cell_type": "code",
   "execution_count": null,
   "metadata": {},
   "outputs": [],
   "source": []
  },
  {
   "cell_type": "markdown",
   "metadata": {},
   "source": [
    "### Part 2\n",
    "\n",
    "Have a look at the code below and think about what it does."
   ]
  },
  {
   "cell_type": "code",
   "execution_count": null,
   "metadata": {},
   "outputs": [],
   "source": [
    "tab = 2\n",
    "line = '-' * tab\n",
    "print(line, 'a...line')"
   ]
  },
  {
   "cell_type": "markdown",
   "metadata": {},
   "source": [
    "Take the text you copied above for Midsommer Night's dream and write code so that you can arbitrarily change the indentations in the text. Use `*`."
   ]
  },
  {
   "cell_type": "markdown",
   "metadata": {},
   "source": [
    "## String methods\n",
    "\n",
    "We've already used at least one method of strings to count words and punctuation in texts. You find info about string methods in the [python documentation](https://docs.python.org/3/library/string.html). \n",
    "\n",
    "But the fastest way to see what you can do with something like a string is with `dir`. Try running the code below. Ignore the values with double underscores."
   ]
  },
  {
   "cell_type": "code",
   "execution_count": null,
   "metadata": {},
   "outputs": [],
   "source": [
    "dir('ترادف')"
   ]
  },
  {
   "cell_type": "markdown",
   "metadata": {},
   "source": [
    "Want to see what one of the items does? You can also use `help` to instantly access the documentation for that method."
   ]
  },
  {
   "cell_type": "code",
   "execution_count": null,
   "metadata": {},
   "outputs": [],
   "source": [
    "help('ترادف'.strip)"
   ]
  },
  {
   "cell_type": "markdown",
   "metadata": {},
   "source": [
    "You can also access string methods by writing the reserved Python variable `str`:"
   ]
  },
  {
   "cell_type": "code",
   "execution_count": null,
   "metadata": {},
   "outputs": [],
   "source": [
    "dir(str)"
   ]
  },
  {
   "cell_type": "markdown",
   "metadata": {},
   "source": [
    "## Text Annotation with `input()`\n",
    "\n",
    "\"transitive\" refers to verbs which occur with a direct object whereas \"intransitive\" refers to those verbs which do not require a direct object. It is hard to automate this kind of semantic interpretation. But we can use Python to make it easier to annotate such data. \n",
    "\n",
    "For the following sentences, write a program that:\n",
    "\n",
    "1. stores each sentence under a variable\n",
    "2. for each sentence, use the sentence as a prompt to the user for tagging with \"T\" or \"I\" (transitive/intransitive). Use `input` to do this.\n",
    "3. check the resulting input to make sure only \"T\" or \"I\" is accepted (e.g. \"tran\" is not accepted); tell the user that their input is not valid\n",
    "4. keep a count of how many sentences are tagged \"T\" or \"I\" and print the results at the end of the session\n",
    "5. if a \"to be\" verb is in the sentence, add \".copula\" to the user's tag\n",
    "\n",
    "```\n",
    "Sally kicked the ball.\n",
    "The kitty laid in the sun.\n",
    "My computer shut down.\n",
    "He threw the keyboard.\n",
    "It is a small world afterall!\n",
    "The fish slept all night.\n",
    "```"
   ]
  },
  {
   "cell_type": "code",
   "execution_count": null,
   "metadata": {},
   "outputs": [],
   "source": []
  },
  {
   "cell_type": "markdown",
   "metadata": {},
   "source": [
    "<hr>\n",
    "\n",
    "## Fun detour from text analysis"
   ]
  },
  {
   "cell_type": "markdown",
   "metadata": {},
   "source": [
    "## Alarm clock\n",
    "\n",
    "*The following exercise is borrowed from the [Python for Text Analysis](https://github.com/cltl/python-for-text-analysis/blob/master/Assignments/ASSIGNMENT-1.ipynb) course*\n",
    "\n",
    "Write code to set your alarm clock! Given the day of the week and information about whether you are currently on vacation or not, your code should print the time you want to be woken up following these constraints: \n",
    "\n",
    "Weekdays, the alarm should be \"7:00\" and on the weekend it should be \"10:00\". Unless we are on vacation -- then on weekdays it should be \"10:00\" and weekends it should be \"off\".\n",
    "\n",
    "\n",
    "Encode the weeks days as ints in the following way: 0=Sun, 1=Mon, 2=Tue, ...6=Sat. Encode the vacation infromation as boolean. Your code should assign the correct time to a variable as a string (following this format: \"7:00\") and print it.\n",
    "\n",
    "Note: Encoding the days as an integer helps you with defining conditions. You can check whether the week day is in a certain interval (instead of writing code for every single day). "
   ]
  },
  {
   "cell_type": "code",
   "execution_count": null,
   "metadata": {},
   "outputs": [],
   "source": [
    "# your code here"
   ]
  },
  {
   "cell_type": "markdown",
   "metadata": {},
   "source": [
    "### Debugging\n",
    "\n",
    "*The following debugging exercise is borrowed from the [Python for Text Analysis](https://github.com/cltl/python-for-text-analysis/blob/master/Assignments/ASSIGNMENT-1.ipynb) course*\n",
    "\n",
    "Debugging skills come in really handy, especially when you will be working with bigger programs. Therefore, it is good to practice this skill early on!\n",
    "\n",
    "The following cell does not run - it will throw an error instead. Can you figure out what is wrong? There is more than just one problem with the code. Solve the problems one by one and rerun the code after each step to check what is going on.\n",
    "\n",
    "**Attention: There is one bug in the code which is NOT going to give you an error message. If you solve all the other bugs, the code runs, but it is not doing what it is supposed to do.**"
   ]
  },
  {
   "cell_type": "code",
   "execution_count": null,
   "metadata": {},
   "outputs": [],
   "source": [
    "n_apples = input('How many apples would you like? ')\n",
    "n_oranges = input('How many oranges would you like? ')\n",
    "price_apple = 0.20\n",
    "price_orange = 0.30\n",
    "limit = 3\n",
    "\n",
    "print(f'I would like to by {n_apples} apples and {n_oranges} oranges.')\n",
    "price = n_apples * price_apple + n_oranges * price_orange\n",
    "print(f'The total price is {price} euros.')\n",
    "\n",
    "if price > limit: \n",
    "    print(f'This is too expensive! I only want to spend {limit} euros.')\n",
    "    n_apples_new = input('Choose fewer apples. ')\n",
    "    price_new = n_apples_new * (price_apple + n_oranges) * price_orange\n",
    "    print(f'The new price is {price_new} euros.')\n",
    "    if price_new > limit:\n",
    "        print('Still too expensive! I'm going home.')\n",
    "    else:\n",
    "        print('Ok, could you wrap them for me?')\n",
    "else:\n",
    "    print('Ok, could you wrap them for me?')"
   ]
  },
  {
   "cell_type": "markdown",
   "metadata": {},
   "source": [
    "<hr>"
   ]
  },
  {
   "cell_type": "markdown",
   "metadata": {},
   "source": [
    "## BYOT\n",
    "\n",
    "We will now begin to apply what you've learned to explore and describe the text you've brought. Probably you already know something about this text. But we will use Python to discover quantitative and qualitative facts that you probably don't know. These abilities set you on a path to already begin to imagine some research questions you might begin to ask.  \n",
    "\n",
    "Below we'll load the text you've selected for the first time. Be sure you've placed a [valid](../BYOT/README.md) text in the `BYOT` folder or the code will complain!\n",
    "\n",
    "Have a look at the code below. We haven't yet learned these kinds of statements. You call have a look at [get_byot.py](get_byot.py) to see what's happening. Don't worry if you can't understand it yet! We haven't gotten there!"
   ]
  },
  {
   "cell_type": "code",
   "execution_count": null,
   "metadata": {},
   "outputs": [],
   "source": [
    "from get_byot import your_text"
   ]
  },
  {
   "cell_type": "markdown",
   "metadata": {},
   "source": [
    "### The Stages of Text Exploration\n",
    "\n",
    "Anytime we sit down with a new dataset or text, we should start off by exploring the dataset a little bit at a time. Some texts can be enormous. And we have to take care that we don't accidentally print something so big that the [kernel](https://en.wikipedia.org/wiki/Kernel_(operating_system)) crashes.\n",
    "\n",
    "When exploring a text for the first time, start off with very basic information.\n",
    "\n",
    "Note that in the code above, we've imported a variable called `your_text`. \n",
    "\n",
    "Use a Python function to find out what kind of object `your_text` is."
   ]
  },
  {
   "cell_type": "code",
   "execution_count": null,
   "metadata": {},
   "outputs": [],
   "source": []
  },
  {
   "cell_type": "markdown",
   "metadata": {},
   "source": [
    "How many characters (how long) is `your_text`?"
   ]
  },
  {
   "cell_type": "code",
   "execution_count": null,
   "metadata": {},
   "outputs": [],
   "source": []
  },
  {
   "cell_type": "markdown",
   "metadata": {},
   "source": [
    "Use string slices to peek at the first 1000 characters in the text. "
   ]
  },
  {
   "cell_type": "code",
   "execution_count": null,
   "metadata": {},
   "outputs": [],
   "source": []
  },
  {
   "cell_type": "markdown",
   "metadata": {},
   "source": [
    "Now peek further (if necessary) to find where the boundary between the metadata and body of your text is."
   ]
  },
  {
   "cell_type": "code",
   "execution_count": null,
   "metadata": {},
   "outputs": [],
   "source": []
  },
  {
   "cell_type": "markdown",
   "metadata": {},
   "source": [
    "Some texts will also have metadata at the end. Does yours? Use negative indices to peek at the last several hundred characters at the end of the string. **But be careful, if you accidentally print the whole text, you might overload your browser**. Store the result in a variable first. Print the length of the variable before your print the index."
   ]
  },
  {
   "cell_type": "code",
   "execution_count": null,
   "metadata": {},
   "outputs": [],
   "source": []
  },
  {
   "cell_type": "markdown",
   "metadata": {},
   "source": [
    "Now that you know the indices of the front matter and back matter, isolate the body of the text and store it in a variable you can refer back to."
   ]
  },
  {
   "cell_type": "code",
   "execution_count": null,
   "metadata": {},
   "outputs": [],
   "source": []
  },
  {
   "cell_type": "markdown",
   "metadata": {},
   "source": [
    "Using the information gleaned in this assignment, discern the following information from the body of your text. Store the results in variables.\n",
    "\n",
    "* Roughly how many words (determined graphically) does your text contain? (NB: this will be a very rough estimate)\n",
    "* If your text contains punctuation, how many punctuated units (e.g. sentence, verse) does it contain? You can copy / paste a character if you need to.\n",
    "* On average, how many words are there per punctuated unit? (this will be rough)\n",
    "* Take the average you just calculated and create two variants. In one, convert the average to an integer. In the other, call `round()` on the number. Can you determine the difference between these two approaches? Use dummy numbers if you need to in order to answer this.\n",
    "* Create a 1000 character slice of your body text. Use `split` and a `for` loop to print each individual word in the text. Look back on the end of `Chapter 03 - Strings.ipynb` to remind yourself how to do this."
   ]
  },
  {
   "cell_type": "code",
   "execution_count": null,
   "metadata": {},
   "outputs": [],
   "source": []
  }
 ],
 "metadata": {
  "kernelspec": {
   "display_name": "Python 3",
   "language": "python",
   "name": "python3"
  },
  "language_info": {
   "codemirror_mode": {
    "name": "ipython",
    "version": 3
   },
   "file_extension": ".py",
   "mimetype": "text/x-python",
   "name": "python",
   "nbconvert_exporter": "python",
   "pygments_lexer": "ipython3",
   "version": "3.8.0"
  }
 },
 "nbformat": 4,
 "nbformat_minor": 4
}
