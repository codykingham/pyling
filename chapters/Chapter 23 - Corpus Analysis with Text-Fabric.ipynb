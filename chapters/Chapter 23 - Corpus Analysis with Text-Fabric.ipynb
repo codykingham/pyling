{
 "cells": [
  {
   "cell_type": "markdown",
   "metadata": {},
   "source": [
    "<img src=\"https://annotation.github.io/text-fabric/images/tf-small.png\">\n",
    "\n",
    "# Chapter 23 - Corpus Analysis with Text-Fabric\n",
    "\n",
    "If you work in particular areas of humanities, it may be the case that you work frequently\n",
    "with the same corpus or set of corpora. You may also want to annotate that corpus with\n",
    "features of interest for your research. In this case, it is helpful to have a tool that \n",
    "allows you to quickly and easily access your text corpus, as well as to easily add features\n",
    "to certain words, phrases, sentences, etc. that can be retrieved later with simple queries.\n",
    "\n",
    "[Text-Fabric](https://annotation.github.io/text-fabric/) is a tool build specifically with\n",
    "these use-cases in mind. In this notebook, we will explore the basic functionality of Text-Fabric,\n",
    "as well as review how to construct a basic Text-Fabric resource."
   ]
  },
  {
   "cell_type": "markdown",
   "metadata": {},
   "source": [
    "## How to model a text?\n",
    "\n",
    "There are lots of ways to store and model a text corpus. XML, for instance, \n",
    "is a hierarchical structure that allows for tree-like embedding of linguistic objects. \n",
    "It is the basis for standards such as TEI. But XML is not good at representing discontinuous\n",
    "items, something we encounter frequently in language:"
   ]
  },
  {
   "cell_type": "code",
   "execution_count": 3,
   "metadata": {},
   "outputs": [],
   "source": [
    "sentence = 'This sentence which I wrote is here.'\n",
    "\n",
    "# we can build such a tree like this:\n",
    "tree_hierarchy = \"\"\"\n",
    "\n",
    "<sentence>\n",
    "    <clause>\n",
    "    This sentence\n",
    "        <clause>\n",
    "        which I wrote\n",
    "        </clause>\n",
    "    is here.\n",
    "    </clause>\n",
    "</sentence>\n",
    "\n",
    "\"\"\"\n",
    "\n",
    "# but how do we model this??\n",
    "sentence2 = 'This sentence—yes, this one—is here'"
   ]
  },
  {
   "cell_type": "markdown",
   "metadata": {},
   "source": [
    "**XML is a form of in-line markup, where the annotations are mixed in with the text**. \n",
    "This makes it not only difficult to model discontinuous items, but also difficult to\n",
    "quickly select only those items of interest, since one has to first iterate over all\n",
    "of the annotation.\n",
    "\n",
    "**Text-Fabric is a form of stand-off markup, where the annotations are stored separately\n",
    "from the text**. This approach makes it easy to model dicontinuous items. It also maintains\n",
    "a separation of concerns between the text and the annotation. "
   ]
  },
  {
   "cell_type": "code",
   "execution_count": 5,
   "metadata": {},
   "outputs": [],
   "source": [
    "# stand-off markup in Text-Fabric style\n",
    "\n",
    "#          word number    1     2      3    4    5   6   7\n",
    "interrupted_sentence = 'This sentence—yes, this one—is here.'\n",
    "\n",
    "# word mapping to our new sentence objects\n",
    "# each number corresponds to a word in the text:\n",
    "\n",
    "object_to_slots = {\n",
    "    'sentence1': (1, 2, 6, 7),\n",
    "    'sentence2': (3, 4, 5),\n",
    "}"
   ]
  },
  {
   "cell_type": "markdown",
   "metadata": {},
   "source": [
    "Now we've defined our sentences in terms of the atomic items, or slots, they contain. \n",
    "In this case, we have arbitrarily chosen a \"word\" as the slots. But we could have chosen\n",
    "letters if we wanted. Notice that dividing the text this way allows the discontinuity to \n",
    "be reflected, without losing the information that sentence2 sits between the items of \n",
    "sentence 1.\n",
    "\n",
    "We can also assign integers to the new sentences themselves. That will allow us to associate\n",
    "features with those sentences. \n",
    "\n",
    "We need unique ID's then for each sentence. **Let's arbitrarily begin the sentence ID count at the \n",
    "number of slots in the corpus +1**. In this case, we have 7 words, so we'll say that ID 8 is the first\n",
    "sentence, ID 9 is the second, and so on. If we had more slots than 7, we would start the count higher \n",
    "of course."
   ]
  },
  {
   "cell_type": "code",
   "execution_count": 6,
   "metadata": {},
   "outputs": [],
   "source": [
    "#          word number    1     2      3    4    5   6   7\n",
    "interrupted_sentence = 'This sentence—yes, this one—is here.'\n",
    "\n",
    "# word mapping to our new sentence objects\n",
    "# each number corresponds to a word in the text:\n",
    "\n",
    "object_to_slots = {\n",
    "    8: (1, 2, 6, 7),\n",
    "    9: (3, 4, 5),\n",
    "}\n",
    "\n",
    "# to keep track of which integers belong to which\n",
    "# kinds of objects, we also create a dictionary that \n",
    "# stores each integer's object type\n",
    "\n",
    "object_types = {\n",
    "    1: 'word',\n",
    "    2: 'word',\n",
    "    3: 'word',\n",
    "    4: 'word',\n",
    "    5: 'word',\n",
    "    6: 'word',\n",
    "    7: 'word',\n",
    "    8: 'sentence',\n",
    "    9: 'sentence',\n",
    "}"
   ]
  },
  {
   "cell_type": "markdown",
   "metadata": {},
   "source": [
    "Now that we've divided the text into objects, we can begin to\n",
    "associate features with those objects. We've already seen an example of \n",
    "such a feature dictionary above with `object_types`. We can follow the\n",
    "same logic to assign other features. \n",
    "\n",
    "**The surface text itself can be modeled as a feature**. Done in this way,\n",
    "we can even choose to arbitrarily assign various kinds of transcriptions or\n",
    "formats to the text."
   ]
  },
  {
   "cell_type": "code",
   "execution_count": null,
   "metadata": {},
   "outputs": [],
   "source": [
    "plain_text = {\n",
    "    1: 'This ',\n",
    "    2: 'sentence—',\n",
    "    3: 'yes, ',\n",
    "    4: 'this ',\n",
    "    5: 'one—',\n",
    "    6: 'is ',\n",
    "    7: 'here.'\n",
    "}\n",
    "\n",
    "plain_text_no_punctuation = {\n",
    "    1: 'This',\n",
    "    2: 'sentence',\n",
    "    3: 'yes',\n",
    "    4: 'this',\n",
    "    5: 'one',\n",
    "    6: 'is',\n",
    "    7: 'here'\n",
    "}\n",
    "punctuation = {\n",
    "    1: ' ',\n",
    "    2: '—',\n",
    "    3: ', ',\n",
    "    4: ' ',\n",
    "    5: '—',\n",
    "    6: ' ',\n",
    "    7: '.'\n",
    "}\n",
    "greek_transcription = {\n",
    "    1: 'Θις ',\n",
    "    2: 'σεντενσε—',\n",
    "    3: 'ιες, ',\n",
    "    4: 'θις ',\n",
    "    5: 'ωνε—',\n",
    "    6: 'ις ',\n",
    "    7: 'ἑρε.'\n",
    "}\n",
    "parts_of_speech = {\n",
    "    1: 'demonstrative',\n",
    "    2: 'noun',\n",
    "    3: 'exclamation',\n",
    "    4: 'demonstrative',\n",
    "    5: 'noun',\n",
    "    6: 'verb',\n",
    "    7: 'adverb',\n",
    "}\n",
    "sentence_types = {\n",
    "    8: 'normal',\n",
    "    9: 'interrupting',\n",
    "}"
   ]
  },
  {
   "cell_type": "markdown",
   "metadata": {},
   "source": [
    "At this point, the possibilities are endless. Hopefully the benefits of working this way are clear.\n",
    "If you're a native Greek speaker, perhaps you'd like to use the Greek transcription. In that case,\n",
    "you don't even need to load the normal text. Or perhaps you're not interested in punctuation, you\n",
    "can decide to load the text without punctuation. If this were an XML dataset, we'd have to iterate\n",
    "through every single tag and piece of associated data to clean out what we want. With the Text-Fabric\n",
    "model, we only do that once: when we construct the text. And from then on the data is ready to go."
   ]
  },
  {
   "cell_type": "markdown",
   "metadata": {},
   "source": [
    "# Text-Fabric Data Model \n",
    "\n",
    "The presentation above shows the core operating principle behind Text-Fabric,\n",
    "though some of the terms of different:\n",
    "\n",
    "| | Basic Components |\n",
    "|------|------------------------------------------------------------------------------------|\n",
    "| slot | sequential, atomic item used as a reference point for building the text (word or letter, etc.) |\n",
    "| node | A unique \"ID\" number that corresponds to either a slot, or an item defined by a range of slots. |\n",
    "| edge | a relationship between two nodes                                                   |\n",
    "| feature | data associated with a given node |\n",
    "\n",
    "With these components, we can model and represent a whole text. Text-Fabric handles all of the administration\n",
    "for us by writing files which contain all of the relevant mappings and information. To build a Text-Fabric\n",
    "corpus, we just have to feed the Text-Fabric Python module the right set of dictionaries.\n",
    "\n",
    "## Getting Ready-made Corpora with Text-Fabric\n",
    "You can use Text-Fabric with a TF dataset stored locally on your machine. But Text-Fabric\n",
    "also has the capability of retrieving ready-made corpora stored in its public Github\n",
    "repository. Here are the set of corpora that are currently stored in the repository:\n",
    "\n",
    "| acronym       | language/writing system | name                             | period           | description                                                       | converted by                         |\n",
    "|---------------|-------------------------|----------------------------------|------------------|-------------------------------------------------------------------|--------------------------------------|\n",
    "| athenaeus     | Greek                   | Works of Athenaeus               | 80 - 170         | Deipnosophistae                                                   | Ernst Boogert                        |\n",
    "| banks         | modern english          | Iain M. Banks                    | 1984 - 1987      | 99 words from the SF novel Consider Phlebas                       | Dirk Roorda                          |\n",
    "| bhsa          | Hebrew                  | Hebrew Bible                     | 1000 BC - 900 AD | Biblia Hebraica Stuttgartensia (Amstelodamensis)                  | Dirk Roorda + ETCBC                  |\n",
    "| dss           | Hebrew                  | Dead Sea Scrolls                 | 300 BC - 100 AD  | Transcriptions with morphology based on Martin Abegg's data files | Dirk Roorda, Jarod Jacobs            |\n",
    "| nena          | Aramaic                 | North Eastern Neo-Aramaic Corpus | 2000-on          | Nena Cambridge                                                    | Cody Kingham                         |\n",
    "| oldbabylonian | Akkadian / cuneiform    | Old Babylonian letters           | 1900 - 1600 BC   | Altbabylonische Briefe in Umschrift und Übersetzung               | Dirk Roorda, Cale Johnson            |\n",
    "| peshitta      | Syriac                  | Syriac Old Testament             | 1000 BC - 900 AD | Vetus Testamentum Syriace                                         | Dirk Roorda, Hannes Vlaardingerbroek |\n",
    "| quran         | Arabic                  | Quran                            | 600 - 900        | Quranic Arabic Corpus                                             | Dirk Roorda, Cornelis van Lit        |\n",
    "| syrnt         | Syriac                  | Syriac New Testament             | 0 - 1000         | Novum Testamentum Syriace                                         | Dirk Roorda, Hannes Vlaardingerbroek |\n",
    "| tisch         | Greek                   | New Testament                    | 50 - 450         | Greek New Testament in Tischendorf 8thEdition                     | Cody Kingham                         |\n",
    "| uruk          | proto-cuneiform         | Uruk                             | 4000 - 3100 BC   | Archaic tablets from Uruk                                         | Dirk Roorda, Cale Johnson            |\n",
    "\n",
    "See the links to all the corpora [here](https://annotation.github.io/text-fabric/About/Corpora/). \n",
    "Most of the ready-made corpora are currently ancient languages, but the Text-Fabric library is \n",
    "always expanding.\n",
    "\n",
    "We will load Text-Fabric now and begin working with the Syriac New Testament."
   ]
  },
  {
   "cell_type": "code",
   "execution_count": 7,
   "metadata": {},
   "outputs": [],
   "source": [
    "# If you don't have Text-Fabric installed,\n",
    "# uncomment below and run, and it should work\n",
    "\n",
    "#! pip install text-fabric"
   ]
  },
  {
   "cell_type": "code",
   "execution_count": 8,
   "metadata": {},
   "outputs": [
    {
     "name": "stdout",
     "output_type": "stream",
     "text": [
      "rate limit is 60 requests per hour, with 58 left for this hour\n"
     ]
    },
    {
     "name": "stderr",
     "output_type": "stream",
     "text": [
      "To increase the rate,see https://annotation.github.io/text-fabric/Api/Repo/\n"
     ]
    },
    {
     "name": "stdout",
     "output_type": "stream",
     "text": [
      "\tconnecting to online GitHub repo annotation/app-syrnt ... connected\n",
      "\tcode/__init__.py...downloaded\n",
      "\tcode/app.py...downloaded\n",
      "\tcode/config.py...downloaded\n",
      "\tcode/static...directory\n",
      "\t\tcode/static/display.css...downloaded\n",
      "\t\tcode/static/logo.png...downloaded\n",
      "\tOK\n",
      "Using TF-app in /Users/cody/text-fabric-data/annotation/app-syrnt/code:\n",
      "\trv0.2=#677bff6df32d1052d521534a25aa7eb5ff8cacfd (latest release)\n",
      "rate limit is 60 requests per hour, with 41 left for this hour\n"
     ]
    },
    {
     "name": "stderr",
     "output_type": "stream",
     "text": [
      "To increase the rate,see https://annotation.github.io/text-fabric/Api/Repo/\n"
     ]
    },
    {
     "name": "stdout",
     "output_type": "stream",
     "text": [
      "\tconnecting to online GitHub repo etcbc/syrnt ... connected\n",
      "Using data in /Users/cody/text-fabric-data/etcbc/syrnt/tf/0.1:\n",
      "\tr0.3=#a997b71cacc2c8b342c78a1039339233d55510fa (latest release)\n",
      "   |     0.00s No structure info in otext, the structure part of the T-API cannot be used\n"
     ]
    },
    {
     "data": {
      "text/html": [
       "<b>Documentation:</b> <a target=\"_blank\" href=\"https://github.com/etcbc/syrnt/blob/master/docs\" title=\"provenance of SyrNT\">SYRNT</a> <a target=\"_blank\" href=\"https://annotation.github.io/text-fabric/Writing/Syriac\" title=\"('Syriac characters and transcriptions',)\">Character table</a> <a target=\"_blank\" href=\"https://github.com/etcbc/syrnt/blob/master/docs/transcription-0.1.md#transcription.md\" title=\"SYRNT feature documentation\">Feature docs</a> <a target=\"_blank\" href=\"https://github.com/annotation/app-syrnt\" title=\"syrnt API documentation\">syrnt API</a> <a target=\"_blank\" href=\"https://annotation.github.io/text-fabric/Api/Fabric/\" title=\"text-fabric-api\">Text-Fabric API 7.11.1</a> <a target=\"_blank\" href=\"https://annotation.github.io/text-fabric/Use/Search/\" title=\"Search Templates Introduction and Reference\">Search Reference</a><details open><summary><b>Loaded features</b>:</summary>\n",
       "<p><b>SyrNT</b>: <a target=\"_blank\" href=\"https://github.com/etcbc/syrnt/blob/master/docs/transcription-0.1.md#book\" title=\"/Users/cody/text-fabric-data/etcbc/syrnt/tf/0.1/book.tf\">book</a>  <a target=\"_blank\" href=\"https://github.com/etcbc/syrnt/blob/master/docs/transcription-0.1.md#book@ll\" title=\"/Users/cody/text-fabric-data/etcbc/syrnt/tf/0.1/book@en.tf\">book@ll</a>  <a target=\"_blank\" href=\"https://github.com/etcbc/syrnt/blob/master/docs/transcription-0.1.md#chapter\" title=\"/Users/cody/text-fabric-data/etcbc/syrnt/tf/0.1/chapter.tf\">chapter</a>  <a target=\"_blank\" href=\"https://github.com/etcbc/syrnt/blob/master/docs/transcription-0.1.md#demcat\" title=\"/Users/cody/text-fabric-data/etcbc/syrnt/tf/0.1/demcat.tf\">demcat</a>  <a target=\"_blank\" href=\"https://github.com/etcbc/syrnt/blob/master/docs/transcription-0.1.md#fmhdot\" title=\"/Users/cody/text-fabric-data/etcbc/syrnt/tf/0.1/fmhdot.tf\">fmhdot</a>  <a target=\"_blank\" href=\"https://github.com/etcbc/syrnt/blob/master/docs/transcription-0.1.md#gn\" title=\"/Users/cody/text-fabric-data/etcbc/syrnt/tf/0.1/gn.tf\">gn</a>  <a target=\"_blank\" href=\"https://github.com/etcbc/syrnt/blob/master/docs/transcription-0.1.md#lexeme\" title=\"/Users/cody/text-fabric-data/etcbc/syrnt/tf/0.1/lexeme.tf\">lexeme</a>  <a target=\"_blank\" href=\"https://github.com/etcbc/syrnt/blob/master/docs/transcription-0.1.md#lexeme_etcbc\" title=\"/Users/cody/text-fabric-data/etcbc/syrnt/tf/0.1/lexeme_etcbc.tf\">lexeme_etcbc</a>  <a target=\"_blank\" href=\"https://github.com/etcbc/syrnt/blob/master/docs/transcription-0.1.md#lexeme_sedra\" title=\"/Users/cody/text-fabric-data/etcbc/syrnt/tf/0.1/lexeme_sedra.tf\">lexeme_sedra</a>  <a target=\"_blank\" href=\"https://github.com/etcbc/syrnt/blob/master/docs/transcription-0.1.md#nmtyp\" title=\"/Users/cody/text-fabric-data/etcbc/syrnt/tf/0.1/nmtyp.tf\">nmtyp</a>  <a target=\"_blank\" href=\"https://github.com/etcbc/syrnt/blob/master/docs/transcription-0.1.md#ntyp\" title=\"/Users/cody/text-fabric-data/etcbc/syrnt/tf/0.1/ntyp.tf\">ntyp</a>  <a target=\"_blank\" href=\"https://github.com/etcbc/syrnt/blob/master/docs/transcription-0.1.md#nu\" title=\"/Users/cody/text-fabric-data/etcbc/syrnt/tf/0.1/nu.tf\">nu</a>  <a target=\"_blank\" href=\"https://github.com/etcbc/syrnt/blob/master/docs/transcription-0.1.md#otype\" title=\"/Users/cody/text-fabric-data/etcbc/syrnt/tf/0.1/otype.tf\">otype</a>  <a target=\"_blank\" href=\"https://github.com/etcbc/syrnt/blob/master/docs/transcription-0.1.md#prefix\" title=\"/Users/cody/text-fabric-data/etcbc/syrnt/tf/0.1/prefix.tf\">prefix</a>  <a target=\"_blank\" href=\"https://github.com/etcbc/syrnt/blob/master/docs/transcription-0.1.md#prefix_etcbc\" title=\"/Users/cody/text-fabric-data/etcbc/syrnt/tf/0.1/prefix_etcbc.tf\">prefix_etcbc</a>  <a target=\"_blank\" href=\"https://github.com/etcbc/syrnt/blob/master/docs/transcription-0.1.md#prefix_sedra\" title=\"/Users/cody/text-fabric-data/etcbc/syrnt/tf/0.1/prefix_sedra.tf\">prefix_sedra</a>  <a target=\"_blank\" href=\"https://github.com/etcbc/syrnt/blob/master/docs/transcription-0.1.md#prtyp\" title=\"/Users/cody/text-fabric-data/etcbc/syrnt/tf/0.1/prtyp.tf\">prtyp</a>  <a target=\"_blank\" href=\"https://github.com/etcbc/syrnt/blob/master/docs/transcription-0.1.md#ps\" title=\"/Users/cody/text-fabric-data/etcbc/syrnt/tf/0.1/ps.tf\">ps</a>  <a target=\"_blank\" href=\"https://github.com/etcbc/syrnt/blob/master/docs/transcription-0.1.md#ptctyp\" title=\"/Users/cody/text-fabric-data/etcbc/syrnt/tf/0.1/ptctyp.tf\">ptctyp</a>  <a target=\"_blank\" href=\"https://github.com/etcbc/syrnt/blob/master/docs/transcription-0.1.md#root\" title=\"/Users/cody/text-fabric-data/etcbc/syrnt/tf/0.1/root.tf\">root</a>  <a target=\"_blank\" href=\"https://github.com/etcbc/syrnt/blob/master/docs/transcription-0.1.md#root_etcbc\" title=\"/Users/cody/text-fabric-data/etcbc/syrnt/tf/0.1/root_etcbc.tf\">root_etcbc</a>  <a target=\"_blank\" href=\"https://github.com/etcbc/syrnt/blob/master/docs/transcription-0.1.md#root_sedra\" title=\"/Users/cody/text-fabric-data/etcbc/syrnt/tf/0.1/root_sedra.tf\">root_sedra</a>  <a target=\"_blank\" href=\"https://github.com/etcbc/syrnt/blob/master/docs/transcription-0.1.md#seyame\" title=\"/Users/cody/text-fabric-data/etcbc/syrnt/tf/0.1/seyame.tf\">seyame</a>  <a target=\"_blank\" href=\"https://github.com/etcbc/syrnt/blob/master/docs/transcription-0.1.md#sfcontract\" title=\"/Users/cody/text-fabric-data/etcbc/syrnt/tf/0.1/sfcontract.tf\">sfcontract</a>  <a target=\"_blank\" href=\"https://github.com/etcbc/syrnt/blob/master/docs/transcription-0.1.md#sfgn\" title=\"/Users/cody/text-fabric-data/etcbc/syrnt/tf/0.1/sfgn.tf\">sfgn</a>  <a target=\"_blank\" href=\"https://github.com/etcbc/syrnt/blob/master/docs/transcription-0.1.md#sfnu\" title=\"/Users/cody/text-fabric-data/etcbc/syrnt/tf/0.1/sfnu.tf\">sfnu</a>  <a target=\"_blank\" href=\"https://github.com/etcbc/syrnt/blob/master/docs/transcription-0.1.md#sfps\" title=\"/Users/cody/text-fabric-data/etcbc/syrnt/tf/0.1/sfps.tf\">sfps</a>  <a target=\"_blank\" href=\"https://github.com/etcbc/syrnt/blob/master/docs/transcription-0.1.md#sp\" title=\"/Users/cody/text-fabric-data/etcbc/syrnt/tf/0.1/sp.tf\">sp</a>  <a target=\"_blank\" href=\"https://github.com/etcbc/syrnt/blob/master/docs/transcription-0.1.md#st\" title=\"/Users/cody/text-fabric-data/etcbc/syrnt/tf/0.1/st.tf\">st</a>  <a target=\"_blank\" href=\"https://github.com/etcbc/syrnt/blob/master/docs/transcription-0.1.md#stem\" title=\"/Users/cody/text-fabric-data/etcbc/syrnt/tf/0.1/stem.tf\">stem</a>  <a target=\"_blank\" href=\"https://github.com/etcbc/syrnt/blob/master/docs/transcription-0.1.md#stem_etcbc\" title=\"/Users/cody/text-fabric-data/etcbc/syrnt/tf/0.1/stem_etcbc.tf\">stem_etcbc</a>  <a target=\"_blank\" href=\"https://github.com/etcbc/syrnt/blob/master/docs/transcription-0.1.md#stem_sedra\" title=\"/Users/cody/text-fabric-data/etcbc/syrnt/tf/0.1/stem_sedra.tf\">stem_sedra</a>  <a target=\"_blank\" href=\"https://github.com/etcbc/syrnt/blob/master/docs/transcription-0.1.md#suffix\" title=\"/Users/cody/text-fabric-data/etcbc/syrnt/tf/0.1/suffix.tf\">suffix</a>  <a target=\"_blank\" href=\"https://github.com/etcbc/syrnt/blob/master/docs/transcription-0.1.md#suffix_etcbc\" title=\"/Users/cody/text-fabric-data/etcbc/syrnt/tf/0.1/suffix_etcbc.tf\">suffix_etcbc</a>  <a target=\"_blank\" href=\"https://github.com/etcbc/syrnt/blob/master/docs/transcription-0.1.md#suffix_sedra\" title=\"/Users/cody/text-fabric-data/etcbc/syrnt/tf/0.1/suffix_sedra.tf\">suffix_sedra</a>  <a target=\"_blank\" href=\"https://github.com/etcbc/syrnt/blob/master/docs/transcription-0.1.md#verse\" title=\"/Users/cody/text-fabric-data/etcbc/syrnt/tf/0.1/verse.tf\">verse</a>  <a target=\"_blank\" href=\"https://github.com/etcbc/syrnt/blob/master/docs/transcription-0.1.md#vs\" title=\"/Users/cody/text-fabric-data/etcbc/syrnt/tf/0.1/vs.tf\">vs</a>  <a target=\"_blank\" href=\"https://github.com/etcbc/syrnt/blob/master/docs/transcription-0.1.md#vt\" title=\"/Users/cody/text-fabric-data/etcbc/syrnt/tf/0.1/vt.tf\">vt</a>  <a target=\"_blank\" href=\"https://github.com/etcbc/syrnt/blob/master/docs/transcription-0.1.md#word\" title=\"/Users/cody/text-fabric-data/etcbc/syrnt/tf/0.1/word.tf\">word</a>  <a target=\"_blank\" href=\"https://github.com/etcbc/syrnt/blob/master/docs/transcription-0.1.md#word_etcbc\" title=\"/Users/cody/text-fabric-data/etcbc/syrnt/tf/0.1/word_etcbc.tf\">word_etcbc</a>  <a target=\"_blank\" href=\"https://github.com/etcbc/syrnt/blob/master/docs/transcription-0.1.md#word_sedra\" title=\"/Users/cody/text-fabric-data/etcbc/syrnt/tf/0.1/word_sedra.tf\">word_sedra</a>  <b><i><a target=\"_blank\" href=\"https://github.com/etcbc/syrnt/blob/master/docs/transcription-0.1.md#oslots\" title=\"/Users/cody/text-fabric-data/etcbc/syrnt/tf/0.1/oslots.tf\">oslots</a></i></b> </p></details>"
      ],
      "text/plain": [
       "<IPython.core.display.HTML object>"
      ]
     },
     "metadata": {},
     "output_type": "display_data"
    },
    {
     "data": {
      "text/html": [
       "<style>\n",
       "@font-face {\n",
       "  font-family: \"Estrangelo Edessa\";\n",
       "  src:\n",
       "    local(\"SyrCOMEdessa.otf\"),\n",
       "    url(\"https://github.com/annotation/text-fabric/blob/master/tf/server/static/fonts/SyrCOMEdessa.woff?raw=true\");\n",
       "}\n",
       ".features {\n",
       "    font-family: monospace;\n",
       "    font-size: medium;\n",
       "    font-weight: bold;\n",
       "    color: #0a6611;\n",
       "    display: flex;\n",
       "    flex-flow: column nowrap;\n",
       "    padding: 0.1em;\n",
       "    margin: 0.1em;\n",
       "    direction: ltr;\n",
       "}\n",
       ".features div,.features span {\n",
       "    padding: 0;\n",
       "    margin: -0.1rem 0;\n",
       "}\n",
       ".features .f {\n",
       "    font-family: sans-serif;\n",
       "    font-size: x-small;\n",
       "    font-weight: normal;\n",
       "    color: #5555bb;\n",
       "}\n",
       ".features .xft {\n",
       "  color: #000000;\n",
       "  background-color: #eeeeee;\n",
       "  font-size: medium;\n",
       "  margin: 0.1em 0em;\n",
       "}\n",
       ".features .xft .f {\n",
       "  color: #000000;\n",
       "  background-color: #eeeeee;\n",
       "  font-style: italic;\n",
       "  font-size: small;\n",
       "  font-weight: normal;\n",
       "}\n",
       ".verse {\n",
       "    display: flex;\n",
       "    flex-flow: row wrap;\n",
       "    direction: rtl;\n",
       "}\n",
       ".vl {\n",
       "    display: flex;\n",
       "    flex-flow: column nowrap;\n",
       "    justify-content: flex-end;\n",
       "    align-items: flex-end;\n",
       "    direction: ltr;\n",
       "    width: 100%;\n",
       "}\n",
       ".outeritem {\n",
       "    display: flex;\n",
       "    flex-flow: row wrap;\n",
       "    direction: rtl;\n",
       "}\n",
       ".word {\n",
       "    padding: 0.1em;\n",
       "    margin: 0.1em;\n",
       "    border-radius: 0.1em;\n",
       "    border: 1px solid #cccccc;\n",
       "    display: flex;\n",
       "    flex-flow: column nowrap;\n",
       "    direction: rtl;\n",
       "    background-color: #ffffff;\n",
       "}\n",
       ".lextp {\n",
       "    padding: 0.1em;\n",
       "    margin: 0.1em;\n",
       "    border-radius: 0.1em;\n",
       "    border: 2px solid #888888;\n",
       "    width: fit-content;\n",
       "    display: flex;\n",
       "    flex-flow: column nowrap;\n",
       "    direction: rtl;\n",
       "    background-color: #ffffff;\n",
       "}\n",
       ".occs {\n",
       "    font-size: x-small;\n",
       "}\n",
       ".tr,.tr a:visited,.tr a:link {\n",
       "    font-family: sans-serif;\n",
       "    font-size: large;\n",
       "    color: #000044;\n",
       "    direction: ltr;\n",
       "    text-decoration: none;\n",
       "}\n",
       ".trb,.trb a:visited,.trb a:link {\n",
       "    font-family: sans-serif;\n",
       "    font-size: normal;\n",
       "    direction: ltr;\n",
       "    text-decoration: none;\n",
       "}\n",
       ".sy,.sy a:visited,.sy a:link {\n",
       "    font-family: \"Estrangelo Edessa\", sans-serif;\n",
       "    font-size: large;\n",
       "    color: #000044;\n",
       "    direction: rtl;\n",
       "    text-decoration: none;\n",
       "}\n",
       ".syb,.syb a:visited,.syb a:link {\n",
       "    font-family: \"Estrangelo Edessa\", sans-serif;\n",
       "    font-size: large;\n",
       "    line-height: 2;\n",
       "    direction: rtl;\n",
       "    text-decoration: none;\n",
       "}\n",
       ".vn {\n",
       "  font-size: small !important;\n",
       "  padding-right: 1em;\n",
       "}\n",
       ".sp,.sp a:visited,.sp a:link {\n",
       "    font-family: monospace;\n",
       "    font-size: medium;\n",
       "    color: #0000bb;\n",
       "    text-decoration: none;\n",
       "}\n",
       ".lexeme {\n",
       "    font-family: monospace;\n",
       "    font-size: medium;\n",
       "    color: #0000bb;\n",
       "}\n",
       ".vs {\n",
       "    font-family: monospace;\n",
       "    font-size: medium;\n",
       "    font-weight: bold;\n",
       "    color: #0000bb;\n",
       "}\n",
       ".vt {\n",
       "    font-family: monospace;\n",
       "    font-size: medium;\n",
       "    font-weight: bold;\n",
       "    color: #0000bb;\n",
       "}\n",
       ".nd {\n",
       "    font-family: monospace;\n",
       "    font-size: x-small;\n",
       "    color: #999999;\n",
       "}\n",
       ".hl {\n",
       "    background-color: #ffee66;\n",
       "}\n",
       "\n",
       "\n",
       "tr.tf, td.tf, th.tf {\n",
       "  text-align: left;\n",
       "}\n",
       "\n",
       "span.hldot {\n",
       "\tbackground-color: var(--hl-strong);\n",
       "\tborder: 0.2rem solid var(--hl-rim);\n",
       "\tborder-radius: 0.4rem;\n",
       "\t/*\n",
       "\tdisplay: inline-block;\n",
       "\twidth: 0.8rem;\n",
       "\theight: 0.8rem;\n",
       "\t*/\n",
       "}\n",
       "span.hl {\n",
       "\tbackground-color: var(--hl-strong);\n",
       "\tborder-width: 0;\n",
       "\tborder-radius: 0.1rem;\n",
       "\tborder-style: solid;\n",
       "}\n",
       "\n",
       "span.hlup {\n",
       "\tborder-color: var(--hl-dark);\n",
       "\tborder-width: 0.1rem;\n",
       "\tborder-style: solid;\n",
       "\tborder-radius: 0.2rem;\n",
       "  padding: 0.2rem;\n",
       "}\n",
       "\n",
       ":root {\n",
       "\t--hl-strong:        hsla( 60, 100%,  70%, 0.9  );\n",
       "\t--hl-rim:           hsla( 55, 100%,  60%, 0.9  );\n",
       "\t--hl-dark:          hsla( 55, 100%,  40%, 0.9  );\n",
       "}\n",
       "</style>"
      ],
      "text/plain": [
       "<IPython.core.display.HTML object>"
      ]
     },
     "metadata": {},
     "output_type": "display_data"
    }
   ],
   "source": [
    "from tf.app import use\n",
    "\n",
    "syrnt = use('syrnt') # load the corpus using the ready-made method"
   ]
  },
  {
   "cell_type": "markdown",
   "metadata": {},
   "source": [
    "## `tf` Data Location\n",
    "\n",
    "Text-Fabric has now downloaded the corpus to your machine and loaded it into memory.\n",
    "\n",
    "**Note the links above lead to documentation about the features particular to this corpus.**\n",
    "Text-Fabric does not prescribe any kind of features. A feature is arbitrarilly created for\n",
    "a given corpus. So this documentation is important for knowing how to interact with that corpus.\n",
    "\n",
    "Let's find out where this data is loaded."
   ]
  },
  {
   "cell_type": "code",
   "execution_count": 16,
   "metadata": {},
   "outputs": [
    {
     "name": "stdout",
     "output_type": "stream",
     "text": [
      "['/Users/cody/text-fabric-data/etcbc/syrnt/tf']\n"
     ]
    }
   ],
   "source": [
    "print(syrnt.mLocations)"
   ]
  },
  {
   "cell_type": "markdown",
   "metadata": {},
   "source": [
    "We can also see the version of the dataset we've loaded below."
   ]
  },
  {
   "cell_type": "code",
   "execution_count": 24,
   "metadata": {},
   "outputs": [
    {
     "data": {
      "text/plain": [
       "'0.1'"
      ]
     },
     "execution_count": 24,
     "metadata": {},
     "output_type": "execute_result"
    }
   ],
   "source": [
    "syrnt.version"
   ]
  },
  {
   "cell_type": "markdown",
   "metadata": {},
   "source": [
    "**The file path above + the version tells you where the Text-Fabric data files\n",
    "have been downloaded.**"
   ]
  },
  {
   "cell_type": "code",
   "execution_count": 28,
   "metadata": {},
   "outputs": [
    {
     "name": "stdout",
     "output_type": "stream",
     "text": [
      "/Users/cody/text-fabric-data/etcbc/syrnt/tf/0.1\n"
     ]
    }
   ],
   "source": [
    "path_to_versions = syrnt.mLocations[0]\n",
    "version = '/' + syrnt.version\n",
    "path_to_data = path_to_versions + version\n",
    "\n",
    "print(path_to_data)"
   ]
  },
  {
   "cell_type": "markdown",
   "metadata": {},
   "source": [
    "## TF Data Files"
   ]
  },
  {
   "cell_type": "markdown",
   "metadata": {},
   "source": [
    "Let's have a look at the files that have been \n",
    "downloaded. \n",
    "\n",
    "We'll use a set of terminal commands to peek into that \n",
    "folder. *Don't worry if you don't understand the terminal commands.*\n",
    "\n",
    "You could also navigate manually to the location indicated by the file path\n",
    "and have a look yourself."
   ]
  },
  {
   "cell_type": "code",
   "execution_count": 29,
   "metadata": {},
   "outputs": [
    {
     "name": "stdout",
     "output_type": "stream",
     "text": [
      "__checkout__.txt ntyp.tf          root.tf          stem_etcbc.tf\n",
      "book.tf          nu.tf            root_etcbc.tf    stem_sedra.tf\n",
      "book@en.tf       oslots.tf        root_sedra.tf    suffix.tf\n",
      "chapter.tf       otext.tf         seyame.tf        suffix_etcbc.tf\n",
      "demcat.tf        otype.tf         sfcontract.tf    suffix_sedra.tf\n",
      "fmhdot.tf        prefix.tf        sfgn.tf          verse.tf\n",
      "gn.tf            prefix_etcbc.tf  sfnu.tf          vs.tf\n",
      "lexeme.tf        prefix_sedra.tf  sfps.tf          vt.tf\n",
      "lexeme_etcbc.tf  prtyp.tf         sp.tf            word.tf\n",
      "lexeme_sedra.tf  ps.tf            st.tf            word_etcbc.tf\n",
      "nmtyp.tf         ptctyp.tf        stem.tf          word_sedra.tf\n"
     ]
    }
   ],
   "source": [
    "! ls $path_to_data"
   ]
  },
  {
   "cell_type": "markdown",
   "metadata": {},
   "source": [
    "### otype (\"object type\")"
   ]
  },
  {
   "cell_type": "markdown",
   "metadata": {},
   "source": [
    "We see a bunch of files with the `tf` extension. These are all files \n",
    "which contain Text-Fabric formatted data. Let's have a look at the file\n",
    "called `otype`. "
   ]
  },
  {
   "cell_type": "code",
   "execution_count": 40,
   "metadata": {},
   "outputs": [
    {
     "name": "stdout",
     "output_type": "stream",
     "text": [
      "@node\n",
      "@dataset=syrnt\n",
      "@datasetName=Syriac New Testament\n",
      "@description=?\n",
      "@email1=dirk.roorda@dans.knaw.nl\n",
      "@encoders=Ancient Biblical Manuscript Center  (transcription),George A. Kiraz and James W. Bennett (database)and Hannes Vlaardingerbroek and Dirk Roorda (TF)\n",
      "@source=SEDRA\n",
      "@sourceUrl=https://sedra.bethmardutho.org/about/contributors\n",
      "@valueType=str\n",
      "@writtenBy=Text-Fabric\n",
      "@dateWritten=2018-10-18T09:38:33Z\n",
      "\n",
      "1-109640\tword\n",
      "109641-109667\tbook\n",
      "109668-109927\tchapter\n",
      "109928-112965\tlexeme\n",
      "112966-120922\tverse\n"
     ]
    }
   ],
   "source": [
    "! cat $path_to_data/otype.tf"
   ]
  },
  {
   "cell_type": "markdown",
   "metadata": {},
   "source": [
    "This is the entire contents of the file. The top of a TF file contains \n",
    "metadata tags, marked with `@` symbols, followed by the name of the field,\n",
    "and the metadata.\n",
    "\n",
    "Below the metadata we can see the actual data itself. The first column\n",
    "contains a range of node ID numbers, and the second column contains a \n",
    "string associated with those numbers, telling us—in this case—the \"otype\"\n",
    "or object type of each of these nodes.\n",
    "\n",
    "**Can you guess which of these items is the slots?**"
   ]
  },
  {
   "cell_type": "markdown",
   "metadata": {},
   "source": [
    "### oslots (\"object slots\")"
   ]
  },
  {
   "cell_type": "markdown",
   "metadata": {},
   "source": [
    "Above in our mock dataset we mapped tuples of slots to sentence\n",
    "IDs. The `oslots` file does something similar to this, mapping a \n",
    "given node number to a range of corresponding slots."
   ]
  },
  {
   "cell_type": "code",
   "execution_count": 88,
   "metadata": {},
   "outputs": [
    {
     "name": "stdout",
     "output_type": "stream",
     "text": [
      "@edge\n",
      "@dataset=syrnt\n",
      "@datasetName=Syriac New Testament\n",
      "@description=?\n",
      "@email1=dirk.roorda@dans.knaw.nl\n",
      "@encoders=Ancient Biblical Manuscript Center  (transcription),George A. Kiraz and James W. Bennett (database)and Hannes Vlaardingerbroek and Dirk Roorda (TF)\n",
      "@source=SEDRA\n",
      "@sourceUrl=https://sedra.bethmardutho.org/about/contributors\n",
      "@valueType=str\n",
      "@writtenBy=Text-Fabric\n",
      "@dateWritten=2018-10-18T09:38:38Z\n",
      "\n",
      "109641\t1-13979\n",
      "13980-22772\n",
      "22773-38006\n",
      "38007-50414\n",
      "50415-65797\n",
      "65798-71565\n",
      "71566-77551\n",
      "77552-81288\n",
      "\n",
      "-- first 20 lines of file --\n"
     ]
    }
   ],
   "source": [
    "! head -20 $path_to_data/oslots.tf; echo \"\\n-- first 20 lines of file --\""
   ]
  },
  {
   "cell_type": "markdown",
   "metadata": {},
   "source": [
    "Note that the file begins with one column, but then switches to a single column.\n",
    "**That is because the Text-Fabric data format optimizes storage by *inferring* the node numbers\n",
    "when one node follows subsequently from another.** \n",
    "\n",
    "For example, above the first line, \n",
    "\n",
    "```\n",
    "109641\t1-13979\n",
    "``` \n",
    "\n",
    "defines the range of slots belonging to node `109641`. The second line:\n",
    "\n",
    "```\n",
    "13980-22772\n",
    "```\n",
    "\n",
    "Defines the range of slots belonging to `109642`, which is inferred from\n",
    "the fact it immediately follows `109642`. If there is interruption from one\n",
    "node to the next (i.e. they are not subsequent) then the second column will \n",
    "briefly re-appear to update the position. \n",
    "\n",
    "Note also that we can look up the object type of `109641` in the `otype` file\n",
    "referred to further above. It is a book node."
   ]
  },
  {
   "cell_type": "markdown",
   "metadata": {},
   "source": [
    "#### feature files"
   ]
  },
  {
   "cell_type": "markdown",
   "metadata": {},
   "source": [
    "Let's have a look at a different file. word.tf, which we can see from the \n",
    "[documentation](https://github.com/etcbc/syrnt/blob/master/docs/transcription-0.1.md#node-type-word)\n",
    "contains the plain text of a word."
   ]
  },
  {
   "cell_type": "code",
   "execution_count": 89,
   "metadata": {},
   "outputs": [
    {
     "name": "stdout",
     "output_type": "stream",
     "text": [
      "@node\n",
      "@dataset=syrnt\n",
      "@datasetName=Syriac New Testament\n",
      "@description=full form of the word in syriac script\n",
      "@email1=dirk.roorda@dans.knaw.nl\n",
      "@encoders=Ancient Biblical Manuscript Center  (transcription),George A. Kiraz and James W. Bennett (database)and Hannes Vlaardingerbroek and Dirk Roorda (TF)\n",
      "@source=SEDRA\n",
      "@sourceUrl=https://sedra.bethmardutho.org/about/contributors\n",
      "@valueType=str\n",
      "@writtenBy=Text-Fabric\n",
      "@dateWritten=2018-10-18T09:38:37Z\n",
      "\n",
      "ܟܬܒܐ\n",
      "ܕܝܠܝܕܘܬܗ\n",
      "ܕܝܫܘܥ\n",
      "ܡܫܝܚܐ\n",
      "ܒܪܗ\n",
      "ܕܕܘܝܕ\n",
      "ܒܪܗ\n",
      "ܕܐܒܪܗܡ\n",
      "ܐܒܪܗܡ\n",
      "ܐܘܠܕ\n",
      "ܠܐܝܣܚܩ\n",
      "ܐܝܣܚܩ\n",
      "ܐܘܠܕ\n",
      "\n",
      "-- first 25 lines of file --\n"
     ]
    }
   ],
   "source": [
    "! head -25 $path_to_data/word.tf; echo \"\\n-- first 25 lines of file --\""
   ]
  },
  {
   "cell_type": "markdown",
   "metadata": {},
   "source": [
    "The file contains the plain text features corresponding to word nodes.\n",
    "\n",
    "If the first item in the file is associated with node 1, there is no need\n",
    "to write \"1\". Text-Fabric can simply assume the count."
   ]
  },
  {
   "cell_type": "markdown",
   "metadata": {},
   "source": [
    "# Interacting with a TF corpus\n",
    "\n",
    "Text-Fabric is not just a data model, but also a Python library that interacts with\n",
    "that model in efficient ways. The library supplies a set of Python objects that can\n",
    "be used to iterate over nodes, select features on those nodes, or compare relations\n",
    "between the nodes. \n",
    "\n",
    "The Text-Fabric objects are made available through the `api`.\n",
    "\n",
    "#### [Read about the Text-Fabric API here](https://annotation.github.io/text-fabric/Api/Fabric/#text-fabric-api)\n",
    "\n",
    "Here are the basic objects for interacting with a loaded Text-Fabric corpus:\n",
    "\n",
    "| object | what it does                          |\n",
    "|--------|---------------------------------------|\n",
    "| N      | gives access to nodes                 |\n",
    "| F      | gives access to node features         |\n",
    "| L      | retrieves embedding or embedded nodes |\n",
    "| T      | retrieves text and section markers    |\n",
    "| E      | retrieves edge data from a node       |\n",
    "\n",
    "Read about [other objects here](https://annotation.github.io/text-fabric/Api/Fabric/#loading)."
   ]
  },
  {
   "cell_type": "code",
   "execution_count": 57,
   "metadata": {},
   "outputs": [
    {
     "data": {
      "text/plain": [
       "['AllComputeds',\n",
       " 'AllEdges',\n",
       " 'AllFeatures',\n",
       " 'C',\n",
       " 'Call',\n",
       " 'Computed',\n",
       " 'ComputedString',\n",
       " 'Cs',\n",
       " 'E',\n",
       " 'Eall',\n",
       " 'Edge',\n",
       " 'EdgeString',\n",
       " 'Es',\n",
       " 'F',\n",
       " 'Fall',\n",
       " 'Feature',\n",
       " 'FeatureString',\n",
       " 'Fs',\n",
       " 'L',\n",
       " 'Locality',\n",
       " 'N',\n",
       " 'Nodes',\n",
       " 'S',\n",
       " 'Search',\n",
       " 'T',\n",
       " 'TF',\n",
       " 'Text',\n",
       " '__class__',\n",
       " '__delattr__',\n",
       " '__dict__',\n",
       " '__dir__',\n",
       " '__doc__',\n",
       " '__eq__',\n",
       " '__format__',\n",
       " '__ge__',\n",
       " '__getattribute__',\n",
       " '__gt__',\n",
       " '__hash__',\n",
       " '__init__',\n",
       " '__init_subclass__',\n",
       " '__le__',\n",
       " '__lt__',\n",
       " '__module__',\n",
       " '__ne__',\n",
       " '__new__',\n",
       " '__reduce__',\n",
       " '__reduce_ex__',\n",
       " '__repr__',\n",
       " '__setattr__',\n",
       " '__sizeof__',\n",
       " '__str__',\n",
       " '__subclasshook__',\n",
       " '__weakref__',\n",
       " 'cache',\n",
       " 'ensureLoaded',\n",
       " 'error',\n",
       " 'ignored',\n",
       " 'indent',\n",
       " 'info',\n",
       " 'isSilent',\n",
       " 'loadLog',\n",
       " 'makeAvailableIn',\n",
       " 'otypeRank',\n",
       " 'reset',\n",
       " 'setSilent',\n",
       " 'silentOff',\n",
       " 'silentOn',\n",
       " 'sortKey',\n",
       " 'sortKeyTuple',\n",
       " 'sortNodes',\n",
       " 'warning']"
      ]
     },
     "execution_count": 57,
     "metadata": {},
     "output_type": "execute_result"
    }
   ],
   "source": [
    "dir(syrnt.api)"
   ]
  },
  {
   "cell_type": "markdown",
   "metadata": {},
   "source": [
    "## Access all nodes\n",
    "\n",
    "Let's start off with simple node interactions."
   ]
  },
  {
   "cell_type": "code",
   "execution_count": 58,
   "metadata": {},
   "outputs": [],
   "source": [
    "N = syrnt.api.N"
   ]
  },
  {
   "cell_type": "code",
   "execution_count": 60,
   "metadata": {},
   "outputs": [
    {
     "name": "stdout",
     "output_type": "stream",
     "text": [
      "120922\n"
     ]
    }
   ],
   "source": [
    "number_of_nodes = 0\n",
    "\n",
    "for node in N():\n",
    "    number_of_nodes += 1\n",
    "    \n",
    "print(number_of_nodes)"
   ]
  },
  {
   "cell_type": "markdown",
   "metadata": {},
   "source": [
    "We've now iterated through all of the nodes in the corpus and counted them."
   ]
  },
  {
   "cell_type": "markdown",
   "metadata": {},
   "source": [
    "## Access features of nodes\n",
    "\n",
    "If we want to know the `otype` (object type) of each node, we need the \n",
    "`F` (feature) object."
   ]
  },
  {
   "cell_type": "code",
   "execution_count": 61,
   "metadata": {},
   "outputs": [],
   "source": [
    "F = syrnt.api.F"
   ]
  },
  {
   "cell_type": "markdown",
   "metadata": {},
   "source": [
    "### [See F documentation](https://annotation.github.io/text-fabric/Api/Features/)\n",
    "\n",
    "We can get a feature value with the following pattern:\n",
    "\n",
    "```\n",
    "\n",
    "F.feature_name.v(node)\n",
    "\n",
    "```\n",
    "\n",
    "Remember that `1` will be the first slot in the corpus. Let's call the \n",
    "feature `otype` on this slot."
   ]
  },
  {
   "cell_type": "code",
   "execution_count": 62,
   "metadata": {},
   "outputs": [
    {
     "data": {
      "text/plain": [
       "'word'"
      ]
     },
     "execution_count": 62,
     "metadata": {},
     "output_type": "execute_result"
    }
   ],
   "source": [
    "F.otype.v(1)"
   ]
  },
  {
   "cell_type": "markdown",
   "metadata": {},
   "source": [
    "Now let's apply this method to our count and count object types."
   ]
  },
  {
   "cell_type": "code",
   "execution_count": 65,
   "metadata": {},
   "outputs": [
    {
     "name": "stdout",
     "output_type": "stream",
     "text": [
      "120922\n",
      "\n",
      "book count is 27\n",
      "chapter count is 260\n",
      "verse count is 7957\n",
      "lexeme count is 3038\n",
      "word count is 109640\n"
     ]
    }
   ],
   "source": [
    "number_of_nodes = 0\n",
    "otype_counts = {}\n",
    "\n",
    "for node in N():\n",
    "    \n",
    "    # count the node and get the type\n",
    "    number_of_nodes += 1\n",
    "    otype = F.otype.v(node)\n",
    "    \n",
    "    # count the otype in the dictionary\n",
    "    if otype in otype_counts:\n",
    "        otype_counts[otype] += 1\n",
    "    else:\n",
    "        otype_counts[otype] = 1\n",
    "    \n",
    "print(number_of_nodes)\n",
    "\n",
    "print()\n",
    "for otype,count in otype_counts.items():\n",
    "    print(otype, 'count is', count)"
   ]
  },
  {
   "cell_type": "markdown",
   "metadata": {},
   "source": [
    "## Get a generator for specific feature types\n",
    "\n",
    "What if we're only interested in, say, the word nodes? \n",
    "\n",
    "We can use the following syntax to get a generator object (which we can\n",
    "convert to a list or simply loop over) that yields only certain feature types.\n",
    "\n",
    "```\n",
    "F.feature_name.s('feature_value')\n",
    "```"
   ]
  },
  {
   "cell_type": "code",
   "execution_count": 66,
   "metadata": {},
   "outputs": [
    {
     "name": "stdout",
     "output_type": "stream",
     "text": [
      "109640\n"
     ]
    }
   ],
   "source": [
    "word_counts = 0\n",
    "\n",
    "for word in F.otype.s('word'):\n",
    "    word_counts += 1\n",
    "    \n",
    "print(word_counts)"
   ]
  },
  {
   "cell_type": "markdown",
   "metadata": {},
   "source": [
    "We could also do this for other features. Below we only iterate over the nodes\n",
    "that have a part of speech feature (sp) of `verb`."
   ]
  },
  {
   "cell_type": "code",
   "execution_count": 73,
   "metadata": {},
   "outputs": [
    {
     "name": "stdout",
     "output_type": "stream",
     "text": [
      "30441\n"
     ]
    }
   ],
   "source": [
    "verb_count = 0\n",
    "\n",
    "for word in F.sp.s('verb'):\n",
    "    verb_count += 1\n",
    "\n",
    "print(verb_count)"
   ]
  },
  {
   "cell_type": "markdown",
   "metadata": {},
   "source": [
    "## Access embedders or embedded nodes\n",
    "\n",
    "As we saw above in the `oslots` file, the first book node in the corpus\n",
    "contains a large range of slots:\n",
    "\n",
    "```\n",
    "109641    1-13979\n",
    "```\n",
    "\n",
    "But there are also nodes contained within the book that contain smaller\n",
    "ranges of slots, such as chapters.\n",
    "\n",
    "For instance, the first chapter in this corpus contains slots 1-290. In \n",
    "other words, according to the slots, the chapter is embedded in the book.\n",
    "\n",
    "**If a node's range of slots intersects with, and is smaller than, another\n",
    "node's, it is embedded in that node; and if it intersects and is bigger than\n",
    "another node's, it embeds that node**.\n",
    "\n",
    "For a more expansive definition, see the documentation."
   ]
  },
  {
   "cell_type": "markdown",
   "metadata": {},
   "source": [
    "We can access embedded nodes using Text-Fabric's `L` object using the following syntax:\n",
    "\n",
    "#### [See L documentation](https://annotation.github.io/text-fabric/Api/Locality/#locality)\n",
    "\n",
    "```\n",
    "L.u(node, \"embedder_otype\")\n",
    "```\n",
    "or\n",
    "```\n",
    "L.d(node, \"embedded_otype\")\n",
    "```"
   ]
  },
  {
   "cell_type": "markdown",
   "metadata": {},
   "source": [
    "Some examples:"
   ]
  },
  {
   "cell_type": "code",
   "execution_count": 91,
   "metadata": {},
   "outputs": [],
   "source": [
    "L = syrnt.api.L"
   ]
  },
  {
   "cell_type": "code",
   "execution_count": 94,
   "metadata": {},
   "outputs": [
    {
     "name": "stdout",
     "output_type": "stream",
     "text": [
      "(109668, 109669, 109670, 109671, 109672, 109673, 109674, 109675, 109676, 109677, 109678, 109679, 109680, 109681, 109682, 109683, 109684, 109685, 109686, 109687, 109688, 109689, 109690, 109691, 109692, 109693, 109694, 109695)\n",
      "\n",
      "first book contains 28 chapters\n"
     ]
    }
   ],
   "source": [
    "first_book_chapters = L.d(109641, 'chapter')\n",
    "\n",
    "print(first_book_chapters)\n",
    "print()\n",
    "print('first book contains', len(first_book_chapters), 'chapters')"
   ]
  },
  {
   "cell_type": "markdown",
   "metadata": {},
   "source": [
    "Let's retrieve the first chapter, starting with a slot this time."
   ]
  },
  {
   "cell_type": "code",
   "execution_count": 95,
   "metadata": {},
   "outputs": [
    {
     "data": {
      "text/plain": [
       "(109668,)"
      ]
     },
     "execution_count": 95,
     "metadata": {},
     "output_type": "execute_result"
    }
   ],
   "source": [
    "first_chapter = L.u(1, 'chapter')\n",
    "\n",
    "first_chapter"
   ]
  },
  {
   "cell_type": "markdown",
   "metadata": {},
   "source": [
    "Note that even when an item is embedded by only 1 node, `L` still\n",
    "returns a tuple. So we need to index the tuple to retrieve the node number\n",
    "of the first chapter."
   ]
  },
  {
   "cell_type": "code",
   "execution_count": 96,
   "metadata": {},
   "outputs": [],
   "source": [
    "first_chapter_node = first_chapter[0]"
   ]
  },
  {
   "cell_type": "markdown",
   "metadata": {},
   "source": [
    "And we can go back down to the words, confirming that slot `1` is contained in this chapter:"
   ]
  },
  {
   "cell_type": "code",
   "execution_count": 98,
   "metadata": {},
   "outputs": [
    {
     "name": "stdout",
     "output_type": "stream",
     "text": [
      "(1, 2, 3, 4, 5, 6, 7, 8, 9, 10, 11, 12, 13, 14, 15, 16, 17, 18, 19, 20, 21, 22, 23, 24, 25, 26, 27, 28, 29, 30, 31, 32, 33, 34, 35, 36, 37, 38, 39, 40, 41, 42, 43, 44, 45, 46, 47, 48, 49, 50, 51, 52, 53, 54, 55, 56, 57, 58, 59, 60, 61, 62, 63, 64, 65, 66, 67, 68, 69, 70, 71, 72, 73, 74, 75, 76, 77, 78, 79, 80, 81, 82, 83, 84, 85, 86, 87, 88, 89, 90, 91, 92, 93, 94, 95, 96, 97, 98, 99, 100, 101, 102, 103, 104, 105, 106, 107, 108, 109, 110, 111, 112, 113, 114, 115, 116, 117, 118, 119, 120, 121, 122, 123, 124, 125, 126, 127, 128, 129, 130, 131, 132, 133, 134, 135, 136, 137, 138, 139, 140, 141, 142, 143, 144, 145, 146, 147, 148, 149, 150, 151, 152, 153, 154, 155, 156, 157, 158, 159, 160, 161, 162, 163, 164, 165, 166, 167, 168, 169, 170, 171, 172, 173, 174, 175, 176, 177, 178, 179, 180, 181, 182, 183, 184, 185, 186, 187, 188, 189, 190, 191, 192, 193, 194, 195, 196, 197, 198, 199, 200, 201, 202, 203, 204, 205, 206, 207, 208, 209, 210, 211, 212, 213, 214, 215, 216, 217, 218, 219, 220, 221, 222, 223, 224, 225, 226, 227, 228, 229, 230, 231, 232, 233, 234, 235, 236, 237, 238, 239, 240, 241, 242, 243, 244, 245, 246, 247, 248, 249, 250, 251, 252, 253, 254, 255, 256, 257, 258, 259, 260, 261, 262, 263, 264, 265, 266, 267, 268, 269, 270, 271, 272, 273, 274, 275, 276, 277, 278, 279, 280, 281, 282, 283, 284, 285, 286, 287, 288, 289, 290)\n"
     ]
    }
   ],
   "source": [
    "print(L.d(first_chapter_node, 'word'))"
   ]
  },
  {
   "cell_type": "markdown",
   "metadata": {},
   "source": [
    "## Get text for a node\n",
    "\n",
    "The `T` object provides a convenient way to quickly access the surface text \n",
    "of any given node in the dataset.\n",
    "\n",
    "### [See the T documentation](https://annotation.github.io/text-fabric/Api/Text/)\n",
    "\n",
    "```\n",
    "T.text(node, fmt=\"format_here\")\n",
    "```"
   ]
  },
  {
   "cell_type": "markdown",
   "metadata": {},
   "source": [
    "Note that `fmt` is an optional argument, and the string value that accompanies it will\n",
    "be unique to the particular corpus you're working with. It allows you to specific alternative\n",
    "representations of the text such as transcriptions. You can also ignore it if you\n",
    "only want the default representation."
   ]
  },
  {
   "cell_type": "code",
   "execution_count": 101,
   "metadata": {},
   "outputs": [],
   "source": [
    "T = syrnt.api.T"
   ]
  },
  {
   "cell_type": "code",
   "execution_count": 104,
   "metadata": {},
   "outputs": [
    {
     "name": "stdout",
     "output_type": "stream",
     "text": [
      "ܟܬܒܐ \n"
     ]
    }
   ],
   "source": [
    "print(T.text(1))"
   ]
  },
  {
   "cell_type": "code",
   "execution_count": 105,
   "metadata": {},
   "outputs": [
    {
     "name": "stdout",
     "output_type": "stream",
     "text": [
      "ܟܬܒܐ ܕܝܠܝܕܘܬܗ ܕܝܫܘܥ ܡܫܝܚܐ ܒܪܗ ܕܕܘܝܕ ܒܪܗ ܕܐܒܪܗܡ \n"
     ]
    }
   ],
   "source": [
    "first_verse = L.u(1, 'verse')[0]\n",
    "\n",
    "print(T.text(first_verse))"
   ]
  },
  {
   "cell_type": "code",
   "execution_count": 106,
   "metadata": {},
   "outputs": [
    {
     "name": "stdout",
     "output_type": "stream",
     "text": [
      "ܟܬܒܐ ܕܝܠܝܕܘܬܗ ܕܝܫܘܥ ܡܫܝܚܐ ܒܪܗ ܕܕܘܝܕ ܒܪܗ ܕܐܒܪܗܡ ܐܒܪܗܡ ܐܘܠܕ ܠܐܝܣܚܩ ܐܝܣܚܩ ܐܘܠܕ ܠܝܥܩܘܒ ܝܥܩܘܒ ܐܘܠܕ ܠܝܗܘܕܐ ܘܠܐܚܘܗܝ ܝܗܘܕܐ ܐܘܠܕ ܠܦܪܨ ܘܠܙܪܚ ܡܢ ܬܡܪ ܦܪܨ ܐܘܠܕ ܠܚܨܪܘܢ ܚܨܪܘܢ ܐܘܠܕ ܠܐܪܡ ܐܪܡ ܐܘܠܕ ܠܥܡܝܢܕܒ ܥܡܝܢܕܒ ܐܘܠܕ ܠܢܚܫܘܢ ܢܚܫܘܢ ܐܘܠܕ ܠܣܠܡܘܢ ܣܠܡܘܢ ܐܘܠܕ ܠܒܥܙ ܡܢ ܪܚܒ ܒܥܙ ܐܘܠܕ ܠܥܘܒܝܕ ܡܢ ܪܥܘܬ ܥܘܒܝܕ ܐܘܠܕ ܠܐܝܫܝ ܐܝܫܝ ܐܘܠܕ ܠܕܘܝܕ ܡܠܟܐ ܕܘܝܕ ܐܘܠܕ ܠܫܠܝܡܘܢ ܡܢ ܐܢܬܬܗ ܕܐܘܪܝܐ ܫܠܝܡܘܢ ܐܘܠܕ ܠܪܚܒܥܡ ܪܚܒܥܡ ܐܘܠܕ ܠܐܒܝܐ ܐܒܝܐ ܐܘܠܕ ܠܐܣܐ ܐܣܐ ܐܘܠܕ ܠܝܗܘܫܦܛ ܝܗܘܫܦܛ ܐܘܠܕ ܠܝܘܪܡ ܝܘܪܡ ܐܘܠܕ ܠܥܘܙܝܐ ܥܘܙܝܐ ܐܘܠܕ ܠܝܘܬܡ ܝܘܬܡ ܐܘܠܕ ܠܐܚܙ ܐܚܙ ܐܘܠܕ ܠܚܙܩܝܐ ܚܙܩܝܐ ܐܘܠܕ ܠܡܢܫܐ ܡܢܫܐ ܐܘܠܕ ܠܐܡܘܢ ܐܡܘܢ ܐܘܠܕ ܠܝܘܫܝܐ ܝܘܫܝܐ ܐܘܠܕ ܠܝܘܟܢܝܐ ܘܠܐܚܘܗܝ ܒܓܠܘܬܐ ܕܒܒܠ ܡܢ ܒܬܪ ܓܠܘܬܐ ܕܝܢ ܕܒܒܠ ܝܘܟܢܝܐ ܐܘܠܕ ܠܫܠܬܐܝܠ ܫܠܬܐܝܠ ܐܘܠܕ ܠܙܘܪܒܒܠ ܙܘܪܒܒܠ ܐܘܠܕ ܠܐܒܝܘܕ ܐܒܝܘܕ ܐܘܠܕ ܠܐܠܝܩܝܡ ܐܠܝܩܝܡ ܐܘܠܕ ܠܥܙܘܪ ܥܙܘܪ ܐܘܠܕ ܠܙܕܘܩ ܙܕܘܩ ܐܘܠܕ ܠܐܟܝܢ ܐܟܝܢ ܐܘܠܕ ܠܐܠܝܘܕ ܐܠܝܘܕ ܐܘܠܕ ܠܐܠܝܥܙܪ ܐܠܝܥܙܪ ܐܘܠܕ ܠܡܬܢ ܡܬܢ ܐܘܠܕ ܠܝܥܩܘܒ ܝܥܩܘܒ ܐܘܠܕ ܠܝܘܣܦ ܓܒܪܗ ܕܡܪܝܡ ܕܡܢܗ ܐܬܝܠܕ ܝܫܘܥ ܕܡܬܩܪܐ ܡܫܝܚܐ ܟܠܗܝܢ ܗܟܝܠ ܫܪܒܬܐ ܡܢ ܐܒܪܗܡ ܥܕܡܐ ܠܕܘܝܕ ܫܪܒܬܐ ܐܪܒܥܣܪܐ ܘܡܢ ܕܘܝܕ ܥܕܡܐ ܠܓܠܘܬܐ ܕܒܒܠ ܫܪܒܬܐ ܐܪܒܥܣܪܐ ܘܡܢ ܓܠܘܬܐ ܕܒܒܠ ܥܕܡܐ ܠܡܫܝܚܐ ܫܪܒܬܐ ܐܪܒܥܣܪܐ ܝܠܕܗ ܕܝܢ ܕܝܫܘܥ ܡܫܝܚܐ ܗܟܢܐ ܗܘܐ ܟܕ ܡܟܝܪܐ ܗܘܬ ܡܪܝܡ ܐܡܗ ܠܝܘܣܦ ܥܕܠܐ ܢܫܬܘܬܦܘܢ ܐܫܬܟܚܬ ܒܛܢܐ ܡܢ ܪܘܚܐ ܕܩܘܕܫܐ ܝܘܣܦ ܕܝܢ ܒܥܠܗ ܟܐܢܐ ܗܘܐ ܘܠܐ ܨܒܐ ܕܢܦܪܣܝܗ ܘܐܬܪܥܝ ܗܘܐ ܕܡܛܫܝܐܝܬ ܢܫܪܝܗ ܟܕ ܗܠܝܢ ܕܝܢ ܐܬܪܥܝ ܐܬܚܙܝ ܠܗ ܡܠܐܟܐ ܕܡܪܝܐ ܒܚܠܡܐ ܘܐܡܪ ܠܗ ܝܘܣܦ ܒܪܗ ܕܕܘܝܕ ܠܐ ܬܕܚܠ ܠܡܣܒ ܠܡܪܝܡ ܐܢܬܬܟ ܗܘ ܓܝܪ ܕܐܬܝܠܕ ܒܗ ܡܢ ܪܘܚܐ ܗܘ ܕܩܘܕܫܐ ܬܐܠܕ ܕܝܢ ܒܪܐ ܘܬܩܪܐ ܫܡܗ ܝܫܘܥ ܗܘ ܓܝܪ ܢܚܝܘܗܝ ܠܥܡܗ ܡܢ ܚܛܗܝܗܘܢ ܗܕܐ ܕܝܢ ܟܠܗ ܕܗܘܬ ܕܢܬܡܠܐ ܡܕܡ ܕܐܬܐܡܪ ܡܢ ܡܪܝܐ ܒܝܕ ܢܒܝܐ ܕܗܐ ܒܬܘܠܬܐ ܬܒܛܢ ܘܬܐܠܕ ܒܪܐ ܘܢܩܪܘܢ ܫܡܗ ܥܡܢܘܐܝܠ ܕܡܬܬܪܓܡ ܥܡܢ ܐܠܗܢ ܟܕ ܩܡ ܕܝܢ ܝܘܣܦ ܡܢ ܫܢܬܗ ܥܒܕ ܐܝܟܢܐ ܕܦܩܕ ܠܗ ܡܠܐܟܗ ܕܡܪܝܐ ܘܕܒܪܗ ܠܐܢܬܬܗ ܘܠܐ ܚܟܡܗ ܥܕܡܐ ܕܝܠܕܬܗ ܠܒܪܗ ܒܘܟܪܐ ܘܩܪܬ ܫܡܗ ܝܫܘܥ \n"
     ]
    }
   ],
   "source": [
    "print(T.text(first_chapter_node))"
   ]
  },
  {
   "cell_type": "markdown",
   "metadata": {},
   "source": [
    "Additional formats are defined in the `otext` file with a series of metadata statements:"
   ]
  },
  {
   "cell_type": "code",
   "execution_count": 99,
   "metadata": {},
   "outputs": [
    {
     "name": "stdout",
     "output_type": "stream",
     "text": [
      "@config\n",
      "@dataset=syrnt\n",
      "@datasetName=Syriac New Testament\n",
      "@email1=dirk.roorda@dans.knaw.nl\n",
      "@encoders=Ancient Biblical Manuscript Center  (transcription),George A. Kiraz and James W. Bennett (database)and Hannes Vlaardingerbroek and Dirk Roorda (TF)\n",
      "@fmt:lex-orig-full={lexeme} \n",
      "@fmt:lex-trans-full={lexeme_etcbc} \n",
      "@fmt:text-orig-full={word} \n",
      "@fmt:text-trans-full={word_etcbc} \n",
      "@sectionFeatures=book,chapter,verse\n",
      "@sectionTypes=book,chapter,verse\n",
      "@source=SEDRA\n",
      "@sourceUrl=https://sedra.bethmardutho.org/about/contributors\n",
      "@writtenBy=Text-Fabric\n",
      "@dateWritten=2018-10-18T09:38:38Z\n",
      "\n"
     ]
    }
   ],
   "source": [
    "! cat $path_to_data/otext.tf"
   ]
  },
  {
   "cell_type": "markdown",
   "metadata": {},
   "source": [
    "The relevant lines here are those beginning with `@fmt`. Note the names `lex-orig-full` and `lex-trans-full`. \n",
    "The subsequent values `{lexeme}` and `{lexeme_etcbc}` tell which node features are used to compile\n",
    "the text format. \n",
    "\n",
    "### [You can read about how a fmt string should be written here](https://annotation.github.io/text-fabric/Api/Text/#text-representation)\n",
    "\n",
    "Let's have a look at the two alternative formats."
   ]
  },
  {
   "cell_type": "code",
   "execution_count": 107,
   "metadata": {},
   "outputs": [
    {
     "data": {
      "text/plain": [
       "'ܟܬܒܐ ܝܠܝܕܘܬܐ ܝܫܘܥ ܡܫܝܚܐ ܒܪܐ ܕܘܝܕ ܒܪܐ ܐܒܪܗܡ ܐܒܪܗܡ ܝܠܕ ܐܝܣܚܩ ܐܝܣܚܩ ܝܠܕ ܝܥܩܘܒ ܝܥܩܘܒ ܝܠܕ ܝܗܘܕܐ ܐܚܐ ܝܗܘܕܐ ܝܠܕ ܦܪܨ ܙܪܚ ܡܢ ܬܡܪ ܦܪܨ ܝܠܕ ܚܨܪܘܢ ܚܨܪܘܢ ܝܠܕ ܐܪܡ ܐܪܡ ܝܠܕ ܥܡܝܢܕܒ ܥܡܝܢܕܒ ܝܠܕ ܢܚܫܘܢ ܢܚܫܘܢ ܝܠܕ ܣܠܡܘܢ ܣܠܡܘܢ ܝܠܕ ܒܥܙ ܡܢ ܪܚܒ ܒܥܙ ܝܠܕ ܥܘܒܝܕ ܡܢ ܪܥܘܬ ܥܘܒܝܕ ܝܠܕ ܐܝܫܝ ܐܝܫܝ ܝܠܕ ܕܘܝܕ ܡܠܟܐ ܕܘܝܕ ܝܠܕ ܫܠܝܡܘܢ ܡܢ ܐܢܬܬܐ ܐܘܪܝܐ ܫܠܝܡܘܢ ܝܠܕ ܪܚܒܥܡ ܪܚܒܥܡ ܝܠܕ ܐܒܝܐ ܐܒܝܐ ܝܠܕ ܐܣܐ ܐܣܐ ܝܠܕ ܝܗܘܫܦܛ ܝܗܘܫܦܛ ܝܠܕ ܝܘܪܡ ܝܘܪܡ ܝܠܕ ܥܘܙܝܐ ܥܘܙܝܐ ܝܠܕ ܝܘܬܡ ܝܘܬܡ ܝܠܕ ܐܚܙ ܐܚܙ ܝܠܕ ܚܙܩܝܐ ܚܙܩܝܐ ܝܠܕ ܡܢܫܐ ܡܢܫܐ ܝܠܕ ܐܡܘܢ ܐܡܘܢ ܝܠܕ ܝܘܫܝܐ ܝܘܫܝܐ ܝܠܕ ܝܘܟܢܝܐ ܐܚܐ ܓܠܘܬܐ ܒܒܠ ܡܢ ܒܬܪ ܓܠܘܬܐ ܕܝܢ ܒܒܠ ܝܘܟܢܝܐ ܝܠܕ ܫܠܬܐܝܠ ܫܠܬܐܝܠ ܝܠܕ ܙܘܪܒܒܠ ܙܘܪܒܒܠ ܝܠܕ ܐܒܝܘܕ ܐܒܝܘܕ ܝܠܕ ܐܠܝܩܝܡ ܐܠܝܩܝܡ ܝܠܕ ܥܙܘܪ ܥܙܘܪ ܝܠܕ ܙܕܘܩ ܙܕܘܩ ܝܠܕ ܐܟܝܢ ܐܟܝܢ ܝܠܕ ܐܠܝܘܕ ܐܠܝܘܕ ܝܠܕ ܐܠܝܥܙܪ ܐܠܝܥܙܪ ܝܠܕ ܡܬܢ ܡܬܢ ܝܠܕ ܝܥܩܘܒ ܝܥܩܘܒ ܝܠܕ ܝܘܣܦ ܓܒܪܐ ܡܪܝܡ ܡܢ ܝܠܕ ܝܫܘܥ ܩܪܐ ܡܫܝܚܐ ܟܠ ܗܟܝܠ ܫܪܒܬܐ ܡܢ ܐܒܪܗܡ ܥܕܡܐ ܕܘܝܕ ܫܪܒܬܐ ܐܪܒܥܣܪ ܡܢ ܕܘܝܕ ܥܕܡܐ ܓܠܘܬܐ ܒܒܠ ܫܪܒܬܐ ܐܪܒܥܣܪ ܡܢ ܓܠܘܬܐ ܒܒܠ ܥܕܡܐ ܡܫܝܚܐ ܫܪܒܬܐ ܐܪܒܥܣܪ ܝܠܕܐ ܕܝܢ ܝܫܘܥ ܡܫܝܚܐ ܗܟܢܐ ܗܘܐ ܟܕ ܡܟܪ ܗܘܐ ܡܪܝܡ ܐܡܐ ܝܘܣܦ ܥܕܠܐ ܫܘܬܦ ܫܟܚ ܒܛܢܬܐ ܡܢ ܪܘܚܐ ܩܘܕܫܐ ܝܘܣܦ ܕܝܢ ܒܥܠܐ ܟܐܢܐ ܗܘܐ ܠܐ ܨܒܐ ܦܪܣܝ ܪܥܐ ܗܘܐ ܡܛܫܝܐܝܬ ܫܪܐ ܟܕ ܗܢܐ ܕܝܢ ܪܥܐ ܚܙܐ ܠ ܡܠܐܟܐ ܡܪܝܐ ܚܠܡܐ ܐܡܪ ܠ ܝܘܣܦ ܒܪܐ ܕܘܝܕ ܠܐ ܕܚܠ ܢܣܒ ܡܪܝܡ ܐܢܬܬܐ ܗܘ ܓܝܪ ܝܠܕ ܒ ܡܢ ܪܘܚܐ ܗܘ ܩܘܕܫܐ ܝܠܕ ܕܝܢ ܒܪܐ ܩܪܐ ܫܡܐ ܝܫܘܥ ܗܘ ܓܝܪ ܚܝܐ ܥܡܐ ܡܢ ܚܛܗܐ ܗܢܐ ܕܝܢ ܟܠ ܗܘܐ ܡܠܐ ܡܕܡ ܐܡܪ ܡܢ ܡܪܝܐ ܐܝܕܐ ܢܒܝܐ ܗܐ ܒܬܘܠܬܐ ܒܛܢ ܝܠܕ ܒܪܐ ܩܪܐ ܫܡܐ ܥܡܢܘܐܝܠ ܬܪܓܡ ܥܡ ܐܠܗܐ ܟܕ ܩܡ ܕܝܢ ܝܘܣܦ ܡܢ ܫܢܬܐ ܥܒܕ ܐܝܟܢܐ ܦܩܕ ܠ ܡܠܐܟܐ ܡܪܝܐ ܕܒܪ ܐܢܬܬܐ ܠܐ ܚܟܡ ܥܕܡܐ ܝܠܕ ܒܪܐ ܒܘܟܪܐ ܩܪܐ ܫܡܐ ܝܫܘܥ '"
      ]
     },
     "execution_count": 107,
     "metadata": {},
     "output_type": "execute_result"
    }
   ],
   "source": [
    "T.text(first_chapter_node, fmt='lex-orig-full')"
   ]
  },
  {
   "cell_type": "markdown",
   "metadata": {},
   "source": [
    "Look closely and you'll notice this text is different from the one above, written now using only lexical forms."
   ]
  },
  {
   "cell_type": "code",
   "execution_count": 108,
   "metadata": {},
   "outputs": [
    {
     "data": {
      "text/plain": [
       "'KTB> JLJDWT> JCW< MCJX> BR> DWJD BR> >BRHM >BRHM JLD >JSXQ >JSXQ JLD J<QWB J<QWB JLD JHWD> >X> JHWD> JLD PRY ZRX MN TMR PRY JLD XYRWN XYRWN JLD >RM >RM JLD <MJNDB <MJNDB JLD NXCWN NXCWN JLD SLMWN SLMWN JLD B<Z MN RXB B<Z JLD <WBJD MN R<WT <WBJD JLD >JCJ >JCJ JLD DWJD MLK> DWJD JLD CLJMWN MN >NTT> >WRJ> CLJMWN JLD RXB<M RXB<M JLD >BJ> >BJ> JLD >S> >S> JLD JHWCPV JHWCPV JLD JWRM JWRM JLD <WZJ> <WZJ> JLD JWTM JWTM JLD >XZ >XZ JLD XZQJ> XZQJ> JLD MNC> MNC> JLD >MWN >MWN JLD JWCJ> JWCJ> JLD JWKNJ> >X> GLWT> BBL MN BTR GLWT> DJN BBL JWKNJ> JLD CLT>JL CLT>JL JLD ZWRBBL ZWRBBL JLD >BJWD >BJWD JLD >LJQJM >LJQJM JLD <ZWR <ZWR JLD ZDWQ ZDWQ JLD >KJN >KJN JLD >LJWD >LJWD JLD >LJ<ZR >LJ<ZR JLD MTN MTN JLD J<QWB J<QWB JLD JWSP GBR> MRJM MN JLD JCW< QR> MCJX> KL HKJL CRBT> MN >BRHM <DM> DWJD CRBT> >RB<SR MN DWJD <DM> GLWT> BBL CRBT> >RB<SR MN GLWT> BBL <DM> MCJX> CRBT> >RB<SR JLD> DJN JCW< MCJX> HKN> HW> KD MKR HW> MRJM >M> JWSP <DL> CWTP CKX BVNT> MN RWX> QWDC> JWSP DJN B<L> K>N> HW> L> YB> PRSJ R<> HW> MVCJ>JT CR> KD HN> DJN R<> XZ> L ML>K> MRJ> XLM> >MR L JWSP BR> DWJD L> DXL NSB MRJM >NTT> HW GJR JLD B MN RWX> HW QWDC> JLD DJN BR> QR> CM> JCW< HW GJR XJ> <M> MN XVH> HN> DJN KL HW> ML> MDM >MR MN MRJ> >JD> NBJ> H> BTWLT> BVN JLD BR> QR> CM> <MNW>JL TRGM <M >LH> KD QM DJN JWSP MN CNT> <BD >JKN> PQD L ML>K> MRJ> DBR >NTT> L> XKM <DM> JLD BR> BWKR> QR> CM> JCW< '"
      ]
     },
     "execution_count": 108,
     "metadata": {},
     "output_type": "execute_result"
    }
   ],
   "source": [
    "T.text(first_chapter_node, fmt='lex-trans-full')"
   ]
  },
  {
   "cell_type": "markdown",
   "metadata": {},
   "source": [
    "This is an ASCII trasncription version of the text."
   ]
  },
  {
   "cell_type": "markdown",
   "metadata": {},
   "source": [
    "## Get Section Data with T\n",
    "\n",
    "T can also be used to go back and forth from various section data to\n",
    "various nodes. \n",
    "\n",
    "\n",
    "### To go from a section to a node\n",
    "\n",
    "```\n",
    "T.nodeFromSection((section1, section1.1, section1.2))\n",
    "```\n",
    "\n",
    "Let's say we are interested in a given book, in this case the book \n",
    "of \"Hebrews\". We can select the book simply wiht `T.nodeFromSection`\n",
    "by feeding it a tuple."
   ]
  },
  {
   "cell_type": "code",
   "execution_count": 111,
   "metadata": {},
   "outputs": [
    {
     "name": "stdout",
     "output_type": "stream",
     "text": [
      "109659\n"
     ]
    }
   ],
   "source": [
    "hebrews = T.nodeFromSection(('Hebrews',))\n",
    "\n",
    "print(hebrews)"
   ]
  },
  {
   "cell_type": "markdown",
   "metadata": {},
   "source": [
    "We can further specify chapter and verse like this:\n"
   ]
  },
  {
   "cell_type": "code",
   "execution_count": 113,
   "metadata": {},
   "outputs": [
    {
     "name": "stdout",
     "output_type": "stream",
     "text": [
      "119785\n"
     ]
    }
   ],
   "source": [
    "hebrews_1_1 = T.nodeFromSection(('Hebrews', 1, 1))\n",
    "\n",
    "print(hebrews_1_1)"
   ]
  },
  {
   "cell_type": "markdown",
   "metadata": {},
   "source": [
    "\n",
    "### To go from a node to a section\n",
    "\n",
    "```\n",
    "T.sectionFromNode(node)\n",
    "```"
   ]
  },
  {
   "cell_type": "markdown",
   "metadata": {},
   "source": [
    "If we want the section data from a node instead, we can use this function."
   ]
  },
  {
   "cell_type": "code",
   "execution_count": 114,
   "metadata": {},
   "outputs": [
    {
     "name": "stdout",
     "output_type": "stream",
     "text": [
      "('Mark', 14, 22)\n"
     ]
    }
   ],
   "source": [
    "random_slot = 21342\n",
    "\n",
    "print(T.sectionFromNode(random_slot))"
   ]
  },
  {
   "cell_type": "markdown",
   "metadata": {},
   "source": [
    "## Pretty representation of objects\n",
    "\n",
    "Text-Fabric also can represent nodes with formatted HTML to facilitate \n",
    "the data exploration process. \n",
    "\n",
    "### [Read about pretty methods here](https://annotation.github.io/text-fabric/apidocs/html/tf/applib/display.html#tf.applib.display.plain)"
   ]
  },
  {
   "cell_type": "code",
   "execution_count": 134,
   "metadata": {},
   "outputs": [],
   "source": [
    "pretty = syrnt.pretty\n",
    "plain = syrnt.plain\n",
    "prettyTuple = syrnt.prettyTuple"
   ]
  },
  {
   "cell_type": "code",
   "execution_count": 135,
   "metadata": {},
   "outputs": [
    {
     "data": {
      "text/html": [
       "<a href=\"https://github.com/etcbc/syrnt/blob/master/plain/0.1/Matthew.txt\" title=\"show this passage in the SyrNT source\" sec=\"Matthew 1:1\">Matthew 1:1</a>\n",
       "<div class=\"outeritem\">\n",
       "<div class=\"word  \" >\n",
       "<div class=\"sy\">ܟܬܒܐ </div>\n",
       "<div class=\"features\"> <span class=\"word_etcbc\">KTB></span> <span class=\"lexeme_etcbc\">KTB></span> <span class=\"sp\">noun</span></div>\n",
       "\n",
       "\n",
       "</div>\n",
       "\n",
       "</div>"
      ],
      "text/plain": [
       "<IPython.core.display.HTML object>"
      ]
     },
     "metadata": {},
     "output_type": "display_data"
    }
   ],
   "source": [
    "pretty(1)"
   ]
  },
  {
   "cell_type": "code",
   "execution_count": 136,
   "metadata": {},
   "outputs": [
    {
     "data": {
      "text/html": [
       "<div class=\"verse  \" >\n",
       "\n",
       "    <div class=\"vl\">\n",
       "        <div class=\"vrs\"><a href=\"https://github.com/etcbc/syrnt/blob/master/plain/0.1/Matthew.txt\" title=\"show this passage in the SyrNT source\" sec=\"Matthew 1:1\">Matthew 1:1</a></div>\n",
       "        \n",
       "        <div class=\"features\"></div>\n",
       "    </div>\n",
       "\n",
       "<div class=\"word  \" >\n",
       "<div class=\"sy\">ܟܬܒܐ </div>\n",
       "<div class=\"features\"> <span class=\"word_etcbc\">KTB></span> <span class=\"lexeme_etcbc\">KTB></span> <span class=\"sp\">noun</span></div>\n",
       "\n",
       "\n",
       "</div>\n",
       "\n",
       "<div class=\"word  \" >\n",
       "<div class=\"sy\">ܕܝܠܝܕܘܬܗ </div>\n",
       "<div class=\"features\"> <span class=\"word_etcbc\">DJLJDWTH</span> <span class=\"lexeme_etcbc\">JLJDWT></span> <span class=\"sp\">noun</span></div>\n",
       "\n",
       "\n",
       "</div>\n",
       "\n",
       "<div class=\"word  \" >\n",
       "<div class=\"sy\">ܕܝܫܘܥ </div>\n",
       "<div class=\"features\"> <span class=\"word_etcbc\">DJCW&lt;</span> <span class=\"lexeme_etcbc\">JCW&lt;</span> <span class=\"sp\">noun</span></div>\n",
       "\n",
       "\n",
       "</div>\n",
       "\n",
       "<div class=\"word  \" >\n",
       "<div class=\"sy\">ܡܫܝܚܐ </div>\n",
       "<div class=\"features\"> <span class=\"word_etcbc\">MCJX></span> <span class=\"lexeme_etcbc\">MCJX></span> <span class=\"sp\">verb</span> <span class=\"vs\">peal</span></div>\n",
       "\n",
       "\n",
       "</div>\n",
       "\n",
       "<div class=\"word  \" >\n",
       "<div class=\"sy\">ܒܪܗ </div>\n",
       "<div class=\"features\"> <span class=\"word_etcbc\">BRH</span> <span class=\"lexeme_etcbc\">BR></span> <span class=\"sp\">noun</span></div>\n",
       "\n",
       "\n",
       "</div>\n",
       "\n",
       "<div class=\"word  \" >\n",
       "<div class=\"sy\">ܕܕܘܝܕ </div>\n",
       "<div class=\"features\"> <span class=\"word_etcbc\">DDWJD</span> <span class=\"lexeme_etcbc\">DWJD</span> <span class=\"sp\">noun</span></div>\n",
       "\n",
       "\n",
       "</div>\n",
       "\n",
       "<div class=\"word  \" >\n",
       "<div class=\"sy\">ܒܪܗ </div>\n",
       "<div class=\"features\"> <span class=\"word_etcbc\">BRH</span> <span class=\"lexeme_etcbc\">BR></span> <span class=\"sp\">noun</span></div>\n",
       "\n",
       "\n",
       "</div>\n",
       "\n",
       "<div class=\"word  \" >\n",
       "<div class=\"sy\">ܕܐܒܪܗܡ </div>\n",
       "<div class=\"features\"> <span class=\"word_etcbc\">D>BRHM</span> <span class=\"lexeme_etcbc\">>BRHM</span> <span class=\"sp\">noun</span></div>\n",
       "\n",
       "\n",
       "</div>\n",
       "\n",
       "\n",
       "</div>\n"
      ],
      "text/plain": [
       "<IPython.core.display.HTML object>"
      ]
     },
     "metadata": {},
     "output_type": "display_data"
    }
   ],
   "source": [
    "pretty(first_verse)"
   ]
  },
  {
   "cell_type": "code",
   "execution_count": 139,
   "metadata": {},
   "outputs": [
    {
     "data": {
      "text/html": [
       "<p><b>result</b> <i>0</i></p>"
      ],
      "text/plain": [
       "<IPython.core.display.HTML object>"
      ]
     },
     "metadata": {},
     "output_type": "display_data"
    },
    {
     "data": {
      "text/html": [
       "<div class=\"verse  \" >\n",
       "\n",
       "    <div class=\"vl\">\n",
       "        <div class=\"vrs\"><a href=\"https://github.com/etcbc/syrnt/blob/master/plain/0.1/Matthew.txt\" title=\"show this passage in the SyrNT source\" sec=\"Matthew 1:1\">Matthew 1:1</a></div>\n",
       "        \n",
       "        <div class=\"features\"></div>\n",
       "    </div>\n",
       "\n",
       "<div class=\"word  hl\" >\n",
       "<div class=\"sy\">ܟܬܒܐ </div>\n",
       "<div class=\"features\"> <span class=\"word_etcbc\">KTB></span> <span class=\"lexeme_etcbc\">KTB></span> <span class=\"sp\">noun</span></div>\n",
       "\n",
       "\n",
       "</div>\n",
       "\n",
       "<div class=\"word  \" >\n",
       "<div class=\"sy\">ܕܝܠܝܕܘܬܗ </div>\n",
       "<div class=\"features\"> <span class=\"word_etcbc\">DJLJDWTH</span> <span class=\"lexeme_etcbc\">JLJDWT></span> <span class=\"sp\">noun</span></div>\n",
       "\n",
       "\n",
       "</div>\n",
       "\n",
       "<div class=\"word  \" >\n",
       "<div class=\"sy\">ܕܝܫܘܥ </div>\n",
       "<div class=\"features\"> <span class=\"word_etcbc\">DJCW&lt;</span> <span class=\"lexeme_etcbc\">JCW&lt;</span> <span class=\"sp\">noun</span></div>\n",
       "\n",
       "\n",
       "</div>\n",
       "\n",
       "<div class=\"word  \" >\n",
       "<div class=\"sy\">ܡܫܝܚܐ </div>\n",
       "<div class=\"features\"> <span class=\"word_etcbc\">MCJX></span> <span class=\"lexeme_etcbc\">MCJX></span> <span class=\"sp\">verb</span> <span class=\"vs\">peal</span></div>\n",
       "\n",
       "\n",
       "</div>\n",
       "\n",
       "<div class=\"word  \" >\n",
       "<div class=\"sy\">ܒܪܗ </div>\n",
       "<div class=\"features\"> <span class=\"word_etcbc\">BRH</span> <span class=\"lexeme_etcbc\">BR></span> <span class=\"sp\">noun</span></div>\n",
       "\n",
       "\n",
       "</div>\n",
       "\n",
       "<div class=\"word  \" >\n",
       "<div class=\"sy\">ܕܕܘܝܕ </div>\n",
       "<div class=\"features\"> <span class=\"word_etcbc\">DDWJD</span> <span class=\"lexeme_etcbc\">DWJD</span> <span class=\"sp\">noun</span></div>\n",
       "\n",
       "\n",
       "</div>\n",
       "\n",
       "<div class=\"word  \" >\n",
       "<div class=\"sy\">ܒܪܗ </div>\n",
       "<div class=\"features\"> <span class=\"word_etcbc\">BRH</span> <span class=\"lexeme_etcbc\">BR></span> <span class=\"sp\">noun</span></div>\n",
       "\n",
       "\n",
       "</div>\n",
       "\n",
       "<div class=\"word  \" >\n",
       "<div class=\"sy\">ܕܐܒܪܗܡ </div>\n",
       "<div class=\"features\"> <span class=\"word_etcbc\">D>BRHM</span> <span class=\"lexeme_etcbc\">>BRHM</span> <span class=\"sp\">noun</span></div>\n",
       "\n",
       "\n",
       "</div>\n",
       "\n",
       "\n",
       "</div>\n"
      ],
      "text/plain": [
       "<IPython.core.display.HTML object>"
      ]
     },
     "metadata": {},
     "output_type": "display_data"
    }
   ],
   "source": [
    "prettyTuple((first_verse, 1), seq=0) # seq = result number"
   ]
  },
  {
   "cell_type": "markdown",
   "metadata": {},
   "source": [
    "Note that with `prettyTuple`, we get highlighting behavior when an \n",
    "embedded node is included in the tuple."
   ]
  },
  {
   "cell_type": "markdown",
   "metadata": {},
   "source": [
    "# Writing Text-Fabric Queries\n",
    "\n",
    "You can choose to maneuver the corpus programmatically with Python classes as we've \n",
    "seen above. But you can also use the `Text-Fabric` query language, Search, which is useful\n",
    "for quickly writing patterns that express relationships within the text.\n",
    "\n",
    "Note that TF Search has its own syntax, which you can read about below.\n",
    "\n",
    "### [Read about the syntax for TF Search](https://annotation.github.io/text-fabric/Use/Search/)\n",
    "\n",
    "The syntax is relatively straightforward: we specify nodes or features of those \n",
    "nodes, and we can specific embedding relations by indenting one node underneath another.\n",
    "And we can specify particular sequences between nodes embedded at the same level."
   ]
  },
  {
   "cell_type": "code",
   "execution_count": 121,
   "metadata": {},
   "outputs": [],
   "source": [
    "search = syrnt.search # NB: not stored under standard API"
   ]
  },
  {
   "cell_type": "code",
   "execution_count": 133,
   "metadata": {},
   "outputs": [
    {
     "name": "stdout",
     "output_type": "stream",
     "text": [
      "  0.17s 30441 results\n"
     ]
    }
   ],
   "source": [
    "verb_query = search('word sp=verb') # query in the string"
   ]
  },
  {
   "cell_type": "code",
   "execution_count": 123,
   "metadata": {},
   "outputs": [
    {
     "data": {
      "text/plain": [
       "list"
      ]
     },
     "execution_count": 123,
     "metadata": {},
     "output_type": "execute_result"
    }
   ],
   "source": [
    "type(verb_query)"
   ]
  },
  {
   "cell_type": "code",
   "execution_count": 124,
   "metadata": {},
   "outputs": [
    {
     "data": {
      "text/plain": [
       "[(4,), (10,), (13,), (16,), (20,), (26,), (29,), (32,), (35,), (38,)]"
      ]
     },
     "execution_count": 124,
     "metadata": {},
     "output_type": "execute_result"
    }
   ],
   "source": [
    "verb_query[:10]"
   ]
  },
  {
   "cell_type": "markdown",
   "metadata": {},
   "source": [
    "Note that the results of the search is returned as tuples of node numbers.\n",
    "\n",
    "We can take these nodes and do normal Text-Fabric things with them, as I showed\n",
    "above.\n",
    "\n",
    "We can also visualize the query results with the show method, which applies the\n",
    "pretty methods to a list of tuples."
   ]
  },
  {
   "cell_type": "code",
   "execution_count": 125,
   "metadata": {},
   "outputs": [],
   "source": [
    "show = syrnt.show"
   ]
  },
  {
   "cell_type": "code",
   "execution_count": 129,
   "metadata": {},
   "outputs": [
    {
     "data": {
      "text/html": [
       "<p><b>result</b> <i>1</i></p>"
      ],
      "text/plain": [
       "<IPython.core.display.HTML object>"
      ]
     },
     "metadata": {},
     "output_type": "display_data"
    },
    {
     "data": {
      "text/html": [
       "<div class=\"verse  \" >\n",
       "\n",
       "    <div class=\"vl\">\n",
       "        <div class=\"vrs\"><a href=\"https://github.com/etcbc/syrnt/blob/master/plain/0.1/Matthew.txt\" title=\"show this passage in the SyrNT source\" sec=\"Matthew 1:1\">Matthew 1:1</a></div>\n",
       "        \n",
       "        <div class=\"features\"></div>\n",
       "    </div>\n",
       "\n",
       "<div class=\"word  \" >\n",
       "<div class=\"sy\">ܟܬܒܐ </div>\n",
       "<div class=\"features\"> <span class=\"word_etcbc\">KTB></span> <span class=\"lexeme_etcbc\">KTB></span> <span class=\"sp\">noun</span></div>\n",
       "\n",
       "\n",
       "</div>\n",
       "\n",
       "<div class=\"word  \" >\n",
       "<div class=\"sy\">ܕܝܠܝܕܘܬܗ </div>\n",
       "<div class=\"features\"> <span class=\"word_etcbc\">DJLJDWTH</span> <span class=\"lexeme_etcbc\">JLJDWT></span> <span class=\"sp\">noun</span></div>\n",
       "\n",
       "\n",
       "</div>\n",
       "\n",
       "<div class=\"word  \" >\n",
       "<div class=\"sy\">ܕܝܫܘܥ </div>\n",
       "<div class=\"features\"> <span class=\"word_etcbc\">DJCW&lt;</span> <span class=\"lexeme_etcbc\">JCW&lt;</span> <span class=\"sp\">noun</span></div>\n",
       "\n",
       "\n",
       "</div>\n",
       "\n",
       "<div class=\"word  hl\" >\n",
       "<div class=\"sy\">ܡܫܝܚܐ </div>\n",
       "<div class=\"features\"> <span class=\"word_etcbc\">MCJX></span> <span class=\"lexeme_etcbc\">MCJX></span> <span class=\"sp\">verb</span> <span class=\"vs\">peal</span></div>\n",
       "\n",
       "\n",
       "</div>\n",
       "\n",
       "<div class=\"word  \" >\n",
       "<div class=\"sy\">ܒܪܗ </div>\n",
       "<div class=\"features\"> <span class=\"word_etcbc\">BRH</span> <span class=\"lexeme_etcbc\">BR></span> <span class=\"sp\">noun</span></div>\n",
       "\n",
       "\n",
       "</div>\n",
       "\n",
       "<div class=\"word  \" >\n",
       "<div class=\"sy\">ܕܕܘܝܕ </div>\n",
       "<div class=\"features\"> <span class=\"word_etcbc\">DDWJD</span> <span class=\"lexeme_etcbc\">DWJD</span> <span class=\"sp\">noun</span></div>\n",
       "\n",
       "\n",
       "</div>\n",
       "\n",
       "<div class=\"word  \" >\n",
       "<div class=\"sy\">ܒܪܗ </div>\n",
       "<div class=\"features\"> <span class=\"word_etcbc\">BRH</span> <span class=\"lexeme_etcbc\">BR></span> <span class=\"sp\">noun</span></div>\n",
       "\n",
       "\n",
       "</div>\n",
       "\n",
       "<div class=\"word  \" >\n",
       "<div class=\"sy\">ܕܐܒܪܗܡ </div>\n",
       "<div class=\"features\"> <span class=\"word_etcbc\">D>BRHM</span> <span class=\"lexeme_etcbc\">>BRHM</span> <span class=\"sp\">noun</span></div>\n",
       "\n",
       "\n",
       "</div>\n",
       "\n",
       "\n",
       "</div>\n"
      ],
      "text/plain": [
       "<IPython.core.display.HTML object>"
      ]
     },
     "metadata": {},
     "output_type": "display_data"
    },
    {
     "data": {
      "text/html": [
       "<p><b>result</b> <i>2</i></p>"
      ],
      "text/plain": [
       "<IPython.core.display.HTML object>"
      ]
     },
     "metadata": {},
     "output_type": "display_data"
    },
    {
     "data": {
      "text/html": [
       "<div class=\"verse  \" >\n",
       "\n",
       "    <div class=\"vl\">\n",
       "        <div class=\"vrs\"><a href=\"https://github.com/etcbc/syrnt/blob/master/plain/0.1/Matthew.txt\" title=\"show this passage in the SyrNT source\" sec=\"Matthew 1:2\">Matthew 1:2</a></div>\n",
       "        \n",
       "        <div class=\"features\"></div>\n",
       "    </div>\n",
       "\n",
       "<div class=\"word  \" >\n",
       "<div class=\"sy\">ܐܒܪܗܡ </div>\n",
       "<div class=\"features\"> <span class=\"word_etcbc\">>BRHM</span> <span class=\"lexeme_etcbc\">>BRHM</span> <span class=\"sp\">noun</span></div>\n",
       "\n",
       "\n",
       "</div>\n",
       "\n",
       "<div class=\"word  hl\" >\n",
       "<div class=\"sy\">ܐܘܠܕ </div>\n",
       "<div class=\"features\"> <span class=\"word_etcbc\">>WLD</span> <span class=\"lexeme_etcbc\">JLD</span> <span class=\"sp\">verb</span> <span class=\"vs\">aphel</span> <span class=\"vt\">perfect</span></div>\n",
       "\n",
       "\n",
       "</div>\n",
       "\n",
       "<div class=\"word  \" >\n",
       "<div class=\"sy\">ܠܐܝܣܚܩ </div>\n",
       "<div class=\"features\"> <span class=\"word_etcbc\">L>JSXQ</span> <span class=\"lexeme_etcbc\">>JSXQ</span> <span class=\"sp\">noun</span></div>\n",
       "\n",
       "\n",
       "</div>\n",
       "\n",
       "<div class=\"word  \" >\n",
       "<div class=\"sy\">ܐܝܣܚܩ </div>\n",
       "<div class=\"features\"> <span class=\"word_etcbc\">>JSXQ</span> <span class=\"lexeme_etcbc\">>JSXQ</span> <span class=\"sp\">noun</span></div>\n",
       "\n",
       "\n",
       "</div>\n",
       "\n",
       "<div class=\"word  \" >\n",
       "<div class=\"sy\">ܐܘܠܕ </div>\n",
       "<div class=\"features\"> <span class=\"word_etcbc\">>WLD</span> <span class=\"lexeme_etcbc\">JLD</span> <span class=\"sp\">verb</span> <span class=\"vs\">aphel</span> <span class=\"vt\">perfect</span></div>\n",
       "\n",
       "\n",
       "</div>\n",
       "\n",
       "<div class=\"word  \" >\n",
       "<div class=\"sy\">ܠܝܥܩܘܒ </div>\n",
       "<div class=\"features\"> <span class=\"word_etcbc\">LJ&lt;QWB</span> <span class=\"lexeme_etcbc\">J&lt;QWB</span> <span class=\"sp\">noun</span></div>\n",
       "\n",
       "\n",
       "</div>\n",
       "\n",
       "<div class=\"word  \" >\n",
       "<div class=\"sy\">ܝܥܩܘܒ </div>\n",
       "<div class=\"features\"> <span class=\"word_etcbc\">J&lt;QWB</span> <span class=\"lexeme_etcbc\">J&lt;QWB</span> <span class=\"sp\">noun</span></div>\n",
       "\n",
       "\n",
       "</div>\n",
       "\n",
       "<div class=\"word  \" >\n",
       "<div class=\"sy\">ܐܘܠܕ </div>\n",
       "<div class=\"features\"> <span class=\"word_etcbc\">>WLD</span> <span class=\"lexeme_etcbc\">JLD</span> <span class=\"sp\">verb</span> <span class=\"vs\">aphel</span> <span class=\"vt\">perfect</span></div>\n",
       "\n",
       "\n",
       "</div>\n",
       "\n",
       "<div class=\"word  \" >\n",
       "<div class=\"sy\">ܠܝܗܘܕܐ </div>\n",
       "<div class=\"features\"> <span class=\"word_etcbc\">LJHWD></span> <span class=\"lexeme_etcbc\">JHWD></span> <span class=\"sp\">noun</span></div>\n",
       "\n",
       "\n",
       "</div>\n",
       "\n",
       "<div class=\"word  \" >\n",
       "<div class=\"sy\">ܘܠܐܚܘܗܝ </div>\n",
       "<div class=\"features\"> <span class=\"word_etcbc\">WL>XWHJ</span> <span class=\"lexeme_etcbc\">>X></span> <span class=\"sp\">noun</span></div>\n",
       "\n",
       "\n",
       "</div>\n",
       "\n",
       "\n",
       "</div>\n"
      ],
      "text/plain": [
       "<IPython.core.display.HTML object>"
      ]
     },
     "metadata": {},
     "output_type": "display_data"
    },
    {
     "data": {
      "text/html": [
       "<p><b>result</b> <i>3</i></p>"
      ],
      "text/plain": [
       "<IPython.core.display.HTML object>"
      ]
     },
     "metadata": {},
     "output_type": "display_data"
    },
    {
     "data": {
      "text/html": [
       "<div class=\"verse  \" >\n",
       "\n",
       "    <div class=\"vl\">\n",
       "        <div class=\"vrs\"><a href=\"https://github.com/etcbc/syrnt/blob/master/plain/0.1/Matthew.txt\" title=\"show this passage in the SyrNT source\" sec=\"Matthew 1:2\">Matthew 1:2</a></div>\n",
       "        \n",
       "        <div class=\"features\"></div>\n",
       "    </div>\n",
       "\n",
       "<div class=\"word  \" >\n",
       "<div class=\"sy\">ܐܒܪܗܡ </div>\n",
       "<div class=\"features\"> <span class=\"word_etcbc\">>BRHM</span> <span class=\"lexeme_etcbc\">>BRHM</span> <span class=\"sp\">noun</span></div>\n",
       "\n",
       "\n",
       "</div>\n",
       "\n",
       "<div class=\"word  \" >\n",
       "<div class=\"sy\">ܐܘܠܕ </div>\n",
       "<div class=\"features\"> <span class=\"word_etcbc\">>WLD</span> <span class=\"lexeme_etcbc\">JLD</span> <span class=\"sp\">verb</span> <span class=\"vs\">aphel</span> <span class=\"vt\">perfect</span></div>\n",
       "\n",
       "\n",
       "</div>\n",
       "\n",
       "<div class=\"word  \" >\n",
       "<div class=\"sy\">ܠܐܝܣܚܩ </div>\n",
       "<div class=\"features\"> <span class=\"word_etcbc\">L>JSXQ</span> <span class=\"lexeme_etcbc\">>JSXQ</span> <span class=\"sp\">noun</span></div>\n",
       "\n",
       "\n",
       "</div>\n",
       "\n",
       "<div class=\"word  \" >\n",
       "<div class=\"sy\">ܐܝܣܚܩ </div>\n",
       "<div class=\"features\"> <span class=\"word_etcbc\">>JSXQ</span> <span class=\"lexeme_etcbc\">>JSXQ</span> <span class=\"sp\">noun</span></div>\n",
       "\n",
       "\n",
       "</div>\n",
       "\n",
       "<div class=\"word  hl\" >\n",
       "<div class=\"sy\">ܐܘܠܕ </div>\n",
       "<div class=\"features\"> <span class=\"word_etcbc\">>WLD</span> <span class=\"lexeme_etcbc\">JLD</span> <span class=\"sp\">verb</span> <span class=\"vs\">aphel</span> <span class=\"vt\">perfect</span></div>\n",
       "\n",
       "\n",
       "</div>\n",
       "\n",
       "<div class=\"word  \" >\n",
       "<div class=\"sy\">ܠܝܥܩܘܒ </div>\n",
       "<div class=\"features\"> <span class=\"word_etcbc\">LJ&lt;QWB</span> <span class=\"lexeme_etcbc\">J&lt;QWB</span> <span class=\"sp\">noun</span></div>\n",
       "\n",
       "\n",
       "</div>\n",
       "\n",
       "<div class=\"word  \" >\n",
       "<div class=\"sy\">ܝܥܩܘܒ </div>\n",
       "<div class=\"features\"> <span class=\"word_etcbc\">J&lt;QWB</span> <span class=\"lexeme_etcbc\">J&lt;QWB</span> <span class=\"sp\">noun</span></div>\n",
       "\n",
       "\n",
       "</div>\n",
       "\n",
       "<div class=\"word  \" >\n",
       "<div class=\"sy\">ܐܘܠܕ </div>\n",
       "<div class=\"features\"> <span class=\"word_etcbc\">>WLD</span> <span class=\"lexeme_etcbc\">JLD</span> <span class=\"sp\">verb</span> <span class=\"vs\">aphel</span> <span class=\"vt\">perfect</span></div>\n",
       "\n",
       "\n",
       "</div>\n",
       "\n",
       "<div class=\"word  \" >\n",
       "<div class=\"sy\">ܠܝܗܘܕܐ </div>\n",
       "<div class=\"features\"> <span class=\"word_etcbc\">LJHWD></span> <span class=\"lexeme_etcbc\">JHWD></span> <span class=\"sp\">noun</span></div>\n",
       "\n",
       "\n",
       "</div>\n",
       "\n",
       "<div class=\"word  \" >\n",
       "<div class=\"sy\">ܘܠܐܚܘܗܝ </div>\n",
       "<div class=\"features\"> <span class=\"word_etcbc\">WL>XWHJ</span> <span class=\"lexeme_etcbc\">>X></span> <span class=\"sp\">noun</span></div>\n",
       "\n",
       "\n",
       "</div>\n",
       "\n",
       "\n",
       "</div>\n"
      ],
      "text/plain": [
       "<IPython.core.display.HTML object>"
      ]
     },
     "metadata": {},
     "output_type": "display_data"
    }
   ],
   "source": [
    "show(verb_query[:3]) # show first 3"
   ]
  },
  {
   "cell_type": "markdown",
   "metadata": {},
   "source": [
    "And we can also write more advanced queries:"
   ]
  },
  {
   "cell_type": "code",
   "execution_count": 131,
   "metadata": {},
   "outputs": [
    {
     "name": "stdout",
     "output_type": "stream",
     "text": [
      "  0.34s 8491 results\n"
     ]
    }
   ],
   "source": [
    "# write the query in a large string\n",
    "# indentation specifies embedding into verse\n",
    "# <: specifies adjacent order between the two words\n",
    "noun_verb_query = \"\"\"\n",
    "\n",
    "verse\n",
    "    word sp=noun\n",
    "    <: word sp=verb\n",
    "\n",
    "\"\"\"\n",
    "\n",
    "noun_verb_results = search(noun_verb_query)"
   ]
  },
  {
   "cell_type": "markdown",
   "metadata": {},
   "source": [
    "Note that we can also use the optional argument `end` to restrict the `show` method to a certain \n",
    "number of results."
   ]
  },
  {
   "cell_type": "code",
   "execution_count": 132,
   "metadata": {},
   "outputs": [
    {
     "data": {
      "text/html": [
       "<p><b>result</b> <i>1</i></p>"
      ],
      "text/plain": [
       "<IPython.core.display.HTML object>"
      ]
     },
     "metadata": {},
     "output_type": "display_data"
    },
    {
     "data": {
      "text/html": [
       "<div class=\"verse  \" >\n",
       "\n",
       "    <div class=\"vl\">\n",
       "        <div class=\"vrs\"><a href=\"https://github.com/etcbc/syrnt/blob/master/plain/0.1/Matthew.txt\" title=\"show this passage in the SyrNT source\" sec=\"Matthew 1:1\">Matthew 1:1</a></div>\n",
       "        \n",
       "        <div class=\"features\"></div>\n",
       "    </div>\n",
       "\n",
       "<div class=\"word  \" >\n",
       "<div class=\"sy\">ܟܬܒܐ </div>\n",
       "<div class=\"features\"> <span class=\"word_etcbc\">KTB></span> <span class=\"lexeme_etcbc\">KTB></span> <span class=\"sp\">noun</span></div>\n",
       "\n",
       "\n",
       "</div>\n",
       "\n",
       "<div class=\"word  \" >\n",
       "<div class=\"sy\">ܕܝܠܝܕܘܬܗ </div>\n",
       "<div class=\"features\"> <span class=\"word_etcbc\">DJLJDWTH</span> <span class=\"lexeme_etcbc\">JLJDWT></span> <span class=\"sp\">noun</span></div>\n",
       "\n",
       "\n",
       "</div>\n",
       "\n",
       "<div class=\"word  hl\" >\n",
       "<div class=\"sy\">ܕܝܫܘܥ </div>\n",
       "<div class=\"features\"> <span class=\"word_etcbc\">DJCW&lt;</span> <span class=\"lexeme_etcbc\">JCW&lt;</span> <span class=\"sp\">noun</span></div>\n",
       "\n",
       "\n",
       "</div>\n",
       "\n",
       "<div class=\"word  hl\" >\n",
       "<div class=\"sy\">ܡܫܝܚܐ </div>\n",
       "<div class=\"features\"> <span class=\"word_etcbc\">MCJX></span> <span class=\"lexeme_etcbc\">MCJX></span> <span class=\"sp\">verb</span> <span class=\"vs\">peal</span></div>\n",
       "\n",
       "\n",
       "</div>\n",
       "\n",
       "<div class=\"word  \" >\n",
       "<div class=\"sy\">ܒܪܗ </div>\n",
       "<div class=\"features\"> <span class=\"word_etcbc\">BRH</span> <span class=\"lexeme_etcbc\">BR></span> <span class=\"sp\">noun</span></div>\n",
       "\n",
       "\n",
       "</div>\n",
       "\n",
       "<div class=\"word  \" >\n",
       "<div class=\"sy\">ܕܕܘܝܕ </div>\n",
       "<div class=\"features\"> <span class=\"word_etcbc\">DDWJD</span> <span class=\"lexeme_etcbc\">DWJD</span> <span class=\"sp\">noun</span></div>\n",
       "\n",
       "\n",
       "</div>\n",
       "\n",
       "<div class=\"word  \" >\n",
       "<div class=\"sy\">ܒܪܗ </div>\n",
       "<div class=\"features\"> <span class=\"word_etcbc\">BRH</span> <span class=\"lexeme_etcbc\">BR></span> <span class=\"sp\">noun</span></div>\n",
       "\n",
       "\n",
       "</div>\n",
       "\n",
       "<div class=\"word  \" >\n",
       "<div class=\"sy\">ܕܐܒܪܗܡ </div>\n",
       "<div class=\"features\"> <span class=\"word_etcbc\">D>BRHM</span> <span class=\"lexeme_etcbc\">>BRHM</span> <span class=\"sp\">noun</span></div>\n",
       "\n",
       "\n",
       "</div>\n",
       "\n",
       "\n",
       "</div>\n"
      ],
      "text/plain": [
       "<IPython.core.display.HTML object>"
      ]
     },
     "metadata": {},
     "output_type": "display_data"
    },
    {
     "data": {
      "text/html": [
       "<p><b>result</b> <i>2</i></p>"
      ],
      "text/plain": [
       "<IPython.core.display.HTML object>"
      ]
     },
     "metadata": {},
     "output_type": "display_data"
    },
    {
     "data": {
      "text/html": [
       "<div class=\"verse  \" >\n",
       "\n",
       "    <div class=\"vl\">\n",
       "        <div class=\"vrs\"><a href=\"https://github.com/etcbc/syrnt/blob/master/plain/0.1/Matthew.txt\" title=\"show this passage in the SyrNT source\" sec=\"Matthew 1:2\">Matthew 1:2</a></div>\n",
       "        \n",
       "        <div class=\"features\"></div>\n",
       "    </div>\n",
       "\n",
       "<div class=\"word  hl\" >\n",
       "<div class=\"sy\">ܐܒܪܗܡ </div>\n",
       "<div class=\"features\"> <span class=\"word_etcbc\">>BRHM</span> <span class=\"lexeme_etcbc\">>BRHM</span> <span class=\"sp\">noun</span></div>\n",
       "\n",
       "\n",
       "</div>\n",
       "\n",
       "<div class=\"word  hl\" >\n",
       "<div class=\"sy\">ܐܘܠܕ </div>\n",
       "<div class=\"features\"> <span class=\"word_etcbc\">>WLD</span> <span class=\"lexeme_etcbc\">JLD</span> <span class=\"sp\">verb</span> <span class=\"vs\">aphel</span> <span class=\"vt\">perfect</span></div>\n",
       "\n",
       "\n",
       "</div>\n",
       "\n",
       "<div class=\"word  \" >\n",
       "<div class=\"sy\">ܠܐܝܣܚܩ </div>\n",
       "<div class=\"features\"> <span class=\"word_etcbc\">L>JSXQ</span> <span class=\"lexeme_etcbc\">>JSXQ</span> <span class=\"sp\">noun</span></div>\n",
       "\n",
       "\n",
       "</div>\n",
       "\n",
       "<div class=\"word  \" >\n",
       "<div class=\"sy\">ܐܝܣܚܩ </div>\n",
       "<div class=\"features\"> <span class=\"word_etcbc\">>JSXQ</span> <span class=\"lexeme_etcbc\">>JSXQ</span> <span class=\"sp\">noun</span></div>\n",
       "\n",
       "\n",
       "</div>\n",
       "\n",
       "<div class=\"word  \" >\n",
       "<div class=\"sy\">ܐܘܠܕ </div>\n",
       "<div class=\"features\"> <span class=\"word_etcbc\">>WLD</span> <span class=\"lexeme_etcbc\">JLD</span> <span class=\"sp\">verb</span> <span class=\"vs\">aphel</span> <span class=\"vt\">perfect</span></div>\n",
       "\n",
       "\n",
       "</div>\n",
       "\n",
       "<div class=\"word  \" >\n",
       "<div class=\"sy\">ܠܝܥܩܘܒ </div>\n",
       "<div class=\"features\"> <span class=\"word_etcbc\">LJ&lt;QWB</span> <span class=\"lexeme_etcbc\">J&lt;QWB</span> <span class=\"sp\">noun</span></div>\n",
       "\n",
       "\n",
       "</div>\n",
       "\n",
       "<div class=\"word  \" >\n",
       "<div class=\"sy\">ܝܥܩܘܒ </div>\n",
       "<div class=\"features\"> <span class=\"word_etcbc\">J&lt;QWB</span> <span class=\"lexeme_etcbc\">J&lt;QWB</span> <span class=\"sp\">noun</span></div>\n",
       "\n",
       "\n",
       "</div>\n",
       "\n",
       "<div class=\"word  \" >\n",
       "<div class=\"sy\">ܐܘܠܕ </div>\n",
       "<div class=\"features\"> <span class=\"word_etcbc\">>WLD</span> <span class=\"lexeme_etcbc\">JLD</span> <span class=\"sp\">verb</span> <span class=\"vs\">aphel</span> <span class=\"vt\">perfect</span></div>\n",
       "\n",
       "\n",
       "</div>\n",
       "\n",
       "<div class=\"word  \" >\n",
       "<div class=\"sy\">ܠܝܗܘܕܐ </div>\n",
       "<div class=\"features\"> <span class=\"word_etcbc\">LJHWD></span> <span class=\"lexeme_etcbc\">JHWD></span> <span class=\"sp\">noun</span></div>\n",
       "\n",
       "\n",
       "</div>\n",
       "\n",
       "<div class=\"word  \" >\n",
       "<div class=\"sy\">ܘܠܐܚܘܗܝ </div>\n",
       "<div class=\"features\"> <span class=\"word_etcbc\">WL>XWHJ</span> <span class=\"lexeme_etcbc\">>X></span> <span class=\"sp\">noun</span></div>\n",
       "\n",
       "\n",
       "</div>\n",
       "\n",
       "\n",
       "</div>\n"
      ],
      "text/plain": [
       "<IPython.core.display.HTML object>"
      ]
     },
     "metadata": {},
     "output_type": "display_data"
    },
    {
     "data": {
      "text/html": [
       "<p><b>result</b> <i>3</i></p>"
      ],
      "text/plain": [
       "<IPython.core.display.HTML object>"
      ]
     },
     "metadata": {},
     "output_type": "display_data"
    },
    {
     "data": {
      "text/html": [
       "<div class=\"verse  \" >\n",
       "\n",
       "    <div class=\"vl\">\n",
       "        <div class=\"vrs\"><a href=\"https://github.com/etcbc/syrnt/blob/master/plain/0.1/Matthew.txt\" title=\"show this passage in the SyrNT source\" sec=\"Matthew 1:2\">Matthew 1:2</a></div>\n",
       "        \n",
       "        <div class=\"features\"></div>\n",
       "    </div>\n",
       "\n",
       "<div class=\"word  \" >\n",
       "<div class=\"sy\">ܐܒܪܗܡ </div>\n",
       "<div class=\"features\"> <span class=\"word_etcbc\">>BRHM</span> <span class=\"lexeme_etcbc\">>BRHM</span> <span class=\"sp\">noun</span></div>\n",
       "\n",
       "\n",
       "</div>\n",
       "\n",
       "<div class=\"word  \" >\n",
       "<div class=\"sy\">ܐܘܠܕ </div>\n",
       "<div class=\"features\"> <span class=\"word_etcbc\">>WLD</span> <span class=\"lexeme_etcbc\">JLD</span> <span class=\"sp\">verb</span> <span class=\"vs\">aphel</span> <span class=\"vt\">perfect</span></div>\n",
       "\n",
       "\n",
       "</div>\n",
       "\n",
       "<div class=\"word  \" >\n",
       "<div class=\"sy\">ܠܐܝܣܚܩ </div>\n",
       "<div class=\"features\"> <span class=\"word_etcbc\">L>JSXQ</span> <span class=\"lexeme_etcbc\">>JSXQ</span> <span class=\"sp\">noun</span></div>\n",
       "\n",
       "\n",
       "</div>\n",
       "\n",
       "<div class=\"word  hl\" >\n",
       "<div class=\"sy\">ܐܝܣܚܩ </div>\n",
       "<div class=\"features\"> <span class=\"word_etcbc\">>JSXQ</span> <span class=\"lexeme_etcbc\">>JSXQ</span> <span class=\"sp\">noun</span></div>\n",
       "\n",
       "\n",
       "</div>\n",
       "\n",
       "<div class=\"word  hl\" >\n",
       "<div class=\"sy\">ܐܘܠܕ </div>\n",
       "<div class=\"features\"> <span class=\"word_etcbc\">>WLD</span> <span class=\"lexeme_etcbc\">JLD</span> <span class=\"sp\">verb</span> <span class=\"vs\">aphel</span> <span class=\"vt\">perfect</span></div>\n",
       "\n",
       "\n",
       "</div>\n",
       "\n",
       "<div class=\"word  \" >\n",
       "<div class=\"sy\">ܠܝܥܩܘܒ </div>\n",
       "<div class=\"features\"> <span class=\"word_etcbc\">LJ&lt;QWB</span> <span class=\"lexeme_etcbc\">J&lt;QWB</span> <span class=\"sp\">noun</span></div>\n",
       "\n",
       "\n",
       "</div>\n",
       "\n",
       "<div class=\"word  \" >\n",
       "<div class=\"sy\">ܝܥܩܘܒ </div>\n",
       "<div class=\"features\"> <span class=\"word_etcbc\">J&lt;QWB</span> <span class=\"lexeme_etcbc\">J&lt;QWB</span> <span class=\"sp\">noun</span></div>\n",
       "\n",
       "\n",
       "</div>\n",
       "\n",
       "<div class=\"word  \" >\n",
       "<div class=\"sy\">ܐܘܠܕ </div>\n",
       "<div class=\"features\"> <span class=\"word_etcbc\">>WLD</span> <span class=\"lexeme_etcbc\">JLD</span> <span class=\"sp\">verb</span> <span class=\"vs\">aphel</span> <span class=\"vt\">perfect</span></div>\n",
       "\n",
       "\n",
       "</div>\n",
       "\n",
       "<div class=\"word  \" >\n",
       "<div class=\"sy\">ܠܝܗܘܕܐ </div>\n",
       "<div class=\"features\"> <span class=\"word_etcbc\">LJHWD></span> <span class=\"lexeme_etcbc\">JHWD></span> <span class=\"sp\">noun</span></div>\n",
       "\n",
       "\n",
       "</div>\n",
       "\n",
       "<div class=\"word  \" >\n",
       "<div class=\"sy\">ܘܠܐܚܘܗܝ </div>\n",
       "<div class=\"features\"> <span class=\"word_etcbc\">WL>XWHJ</span> <span class=\"lexeme_etcbc\">>X></span> <span class=\"sp\">noun</span></div>\n",
       "\n",
       "\n",
       "</div>\n",
       "\n",
       "\n",
       "</div>\n"
      ],
      "text/plain": [
       "<IPython.core.display.HTML object>"
      ]
     },
     "metadata": {},
     "output_type": "display_data"
    },
    {
     "data": {
      "text/html": [
       "<p><b>result</b> <i>4</i></p>"
      ],
      "text/plain": [
       "<IPython.core.display.HTML object>"
      ]
     },
     "metadata": {},
     "output_type": "display_data"
    },
    {
     "data": {
      "text/html": [
       "<div class=\"verse  \" >\n",
       "\n",
       "    <div class=\"vl\">\n",
       "        <div class=\"vrs\"><a href=\"https://github.com/etcbc/syrnt/blob/master/plain/0.1/Matthew.txt\" title=\"show this passage in the SyrNT source\" sec=\"Matthew 1:2\">Matthew 1:2</a></div>\n",
       "        \n",
       "        <div class=\"features\"></div>\n",
       "    </div>\n",
       "\n",
       "<div class=\"word  \" >\n",
       "<div class=\"sy\">ܐܒܪܗܡ </div>\n",
       "<div class=\"features\"> <span class=\"word_etcbc\">>BRHM</span> <span class=\"lexeme_etcbc\">>BRHM</span> <span class=\"sp\">noun</span></div>\n",
       "\n",
       "\n",
       "</div>\n",
       "\n",
       "<div class=\"word  \" >\n",
       "<div class=\"sy\">ܐܘܠܕ </div>\n",
       "<div class=\"features\"> <span class=\"word_etcbc\">>WLD</span> <span class=\"lexeme_etcbc\">JLD</span> <span class=\"sp\">verb</span> <span class=\"vs\">aphel</span> <span class=\"vt\">perfect</span></div>\n",
       "\n",
       "\n",
       "</div>\n",
       "\n",
       "<div class=\"word  \" >\n",
       "<div class=\"sy\">ܠܐܝܣܚܩ </div>\n",
       "<div class=\"features\"> <span class=\"word_etcbc\">L>JSXQ</span> <span class=\"lexeme_etcbc\">>JSXQ</span> <span class=\"sp\">noun</span></div>\n",
       "\n",
       "\n",
       "</div>\n",
       "\n",
       "<div class=\"word  \" >\n",
       "<div class=\"sy\">ܐܝܣܚܩ </div>\n",
       "<div class=\"features\"> <span class=\"word_etcbc\">>JSXQ</span> <span class=\"lexeme_etcbc\">>JSXQ</span> <span class=\"sp\">noun</span></div>\n",
       "\n",
       "\n",
       "</div>\n",
       "\n",
       "<div class=\"word  \" >\n",
       "<div class=\"sy\">ܐܘܠܕ </div>\n",
       "<div class=\"features\"> <span class=\"word_etcbc\">>WLD</span> <span class=\"lexeme_etcbc\">JLD</span> <span class=\"sp\">verb</span> <span class=\"vs\">aphel</span> <span class=\"vt\">perfect</span></div>\n",
       "\n",
       "\n",
       "</div>\n",
       "\n",
       "<div class=\"word  \" >\n",
       "<div class=\"sy\">ܠܝܥܩܘܒ </div>\n",
       "<div class=\"features\"> <span class=\"word_etcbc\">LJ&lt;QWB</span> <span class=\"lexeme_etcbc\">J&lt;QWB</span> <span class=\"sp\">noun</span></div>\n",
       "\n",
       "\n",
       "</div>\n",
       "\n",
       "<div class=\"word  hl\" >\n",
       "<div class=\"sy\">ܝܥܩܘܒ </div>\n",
       "<div class=\"features\"> <span class=\"word_etcbc\">J&lt;QWB</span> <span class=\"lexeme_etcbc\">J&lt;QWB</span> <span class=\"sp\">noun</span></div>\n",
       "\n",
       "\n",
       "</div>\n",
       "\n",
       "<div class=\"word  hl\" >\n",
       "<div class=\"sy\">ܐܘܠܕ </div>\n",
       "<div class=\"features\"> <span class=\"word_etcbc\">>WLD</span> <span class=\"lexeme_etcbc\">JLD</span> <span class=\"sp\">verb</span> <span class=\"vs\">aphel</span> <span class=\"vt\">perfect</span></div>\n",
       "\n",
       "\n",
       "</div>\n",
       "\n",
       "<div class=\"word  \" >\n",
       "<div class=\"sy\">ܠܝܗܘܕܐ </div>\n",
       "<div class=\"features\"> <span class=\"word_etcbc\">LJHWD></span> <span class=\"lexeme_etcbc\">JHWD></span> <span class=\"sp\">noun</span></div>\n",
       "\n",
       "\n",
       "</div>\n",
       "\n",
       "<div class=\"word  \" >\n",
       "<div class=\"sy\">ܘܠܐܚܘܗܝ </div>\n",
       "<div class=\"features\"> <span class=\"word_etcbc\">WL>XWHJ</span> <span class=\"lexeme_etcbc\">>X></span> <span class=\"sp\">noun</span></div>\n",
       "\n",
       "\n",
       "</div>\n",
       "\n",
       "\n",
       "</div>\n"
      ],
      "text/plain": [
       "<IPython.core.display.HTML object>"
      ]
     },
     "metadata": {},
     "output_type": "display_data"
    },
    {
     "data": {
      "text/html": [
       "<p><b>result</b> <i>5</i></p>"
      ],
      "text/plain": [
       "<IPython.core.display.HTML object>"
      ]
     },
     "metadata": {},
     "output_type": "display_data"
    },
    {
     "data": {
      "text/html": [
       "<div class=\"verse  \" >\n",
       "\n",
       "    <div class=\"vl\">\n",
       "        <div class=\"vrs\"><a href=\"https://github.com/etcbc/syrnt/blob/master/plain/0.1/Matthew.txt\" title=\"show this passage in the SyrNT source\" sec=\"Matthew 1:3\">Matthew 1:3</a></div>\n",
       "        \n",
       "        <div class=\"features\"></div>\n",
       "    </div>\n",
       "\n",
       "<div class=\"word  hl\" >\n",
       "<div class=\"sy\">ܝܗܘܕܐ </div>\n",
       "<div class=\"features\"> <span class=\"word_etcbc\">JHWD></span> <span class=\"lexeme_etcbc\">JHWD></span> <span class=\"sp\">noun</span></div>\n",
       "\n",
       "\n",
       "</div>\n",
       "\n",
       "<div class=\"word  hl\" >\n",
       "<div class=\"sy\">ܐܘܠܕ </div>\n",
       "<div class=\"features\"> <span class=\"word_etcbc\">>WLD</span> <span class=\"lexeme_etcbc\">JLD</span> <span class=\"sp\">verb</span> <span class=\"vs\">aphel</span> <span class=\"vt\">perfect</span></div>\n",
       "\n",
       "\n",
       "</div>\n",
       "\n",
       "<div class=\"word  \" >\n",
       "<div class=\"sy\">ܠܦܪܨ </div>\n",
       "<div class=\"features\"> <span class=\"word_etcbc\">LPRY</span> <span class=\"lexeme_etcbc\">PRY</span> <span class=\"sp\">noun</span></div>\n",
       "\n",
       "\n",
       "</div>\n",
       "\n",
       "<div class=\"word  \" >\n",
       "<div class=\"sy\">ܘܠܙܪܚ </div>\n",
       "<div class=\"features\"> <span class=\"word_etcbc\">WLZRX</span> <span class=\"lexeme_etcbc\">ZRX</span> <span class=\"sp\">noun</span></div>\n",
       "\n",
       "\n",
       "</div>\n",
       "\n",
       "<div class=\"word  \" >\n",
       "<div class=\"sy\">ܡܢ </div>\n",
       "<div class=\"features\"> <span class=\"word_etcbc\">MN</span> <span class=\"lexeme_etcbc\">MN</span> <span class=\"sp\">particle</span></div>\n",
       "\n",
       "\n",
       "</div>\n",
       "\n",
       "<div class=\"word  \" >\n",
       "<div class=\"sy\">ܬܡܪ </div>\n",
       "<div class=\"features\"> <span class=\"word_etcbc\">TMR</span> <span class=\"lexeme_etcbc\">TMR</span> <span class=\"sp\">noun</span></div>\n",
       "\n",
       "\n",
       "</div>\n",
       "\n",
       "<div class=\"word  \" >\n",
       "<div class=\"sy\">ܦܪܨ </div>\n",
       "<div class=\"features\"> <span class=\"word_etcbc\">PRY</span> <span class=\"lexeme_etcbc\">PRY</span> <span class=\"sp\">noun</span></div>\n",
       "\n",
       "\n",
       "</div>\n",
       "\n",
       "<div class=\"word  \" >\n",
       "<div class=\"sy\">ܐܘܠܕ </div>\n",
       "<div class=\"features\"> <span class=\"word_etcbc\">>WLD</span> <span class=\"lexeme_etcbc\">JLD</span> <span class=\"sp\">verb</span> <span class=\"vs\">aphel</span> <span class=\"vt\">perfect</span></div>\n",
       "\n",
       "\n",
       "</div>\n",
       "\n",
       "<div class=\"word  \" >\n",
       "<div class=\"sy\">ܠܚܨܪܘܢ </div>\n",
       "<div class=\"features\"> <span class=\"word_etcbc\">LXYRWN</span> <span class=\"lexeme_etcbc\">XYRWN</span> <span class=\"sp\">noun</span></div>\n",
       "\n",
       "\n",
       "</div>\n",
       "\n",
       "<div class=\"word  \" >\n",
       "<div class=\"sy\">ܚܨܪܘܢ </div>\n",
       "<div class=\"features\"> <span class=\"word_etcbc\">XYRWN</span> <span class=\"lexeme_etcbc\">XYRWN</span> <span class=\"sp\">noun</span></div>\n",
       "\n",
       "\n",
       "</div>\n",
       "\n",
       "<div class=\"word  \" >\n",
       "<div class=\"sy\">ܐܘܠܕ </div>\n",
       "<div class=\"features\"> <span class=\"word_etcbc\">>WLD</span> <span class=\"lexeme_etcbc\">JLD</span> <span class=\"sp\">verb</span> <span class=\"vs\">aphel</span> <span class=\"vt\">perfect</span></div>\n",
       "\n",
       "\n",
       "</div>\n",
       "\n",
       "<div class=\"word  \" >\n",
       "<div class=\"sy\">ܠܐܪܡ </div>\n",
       "<div class=\"features\"> <span class=\"word_etcbc\">L>RM</span> <span class=\"lexeme_etcbc\">>RM</span> <span class=\"sp\">noun</span></div>\n",
       "\n",
       "\n",
       "</div>\n",
       "\n",
       "\n",
       "</div>\n"
      ],
      "text/plain": [
       "<IPython.core.display.HTML object>"
      ]
     },
     "metadata": {},
     "output_type": "display_data"
    }
   ],
   "source": [
    "show(noun_verb_results, end=5)"
   ]
  },
  {
   "cell_type": "markdown",
   "metadata": {},
   "source": [
    "## Building a Text-Fabric Corpus"
   ]
  },
  {
   "cell_type": "markdown",
   "metadata": {},
   "source": [
    "We have been working with a ready-made Text-Fabric Corpus. But you can also\n",
    "build your own with whatever text you already have. Text-Fabric also has \n",
    "a class for compiling and saving Text-Fabric files. \n",
    "\n",
    "### [See the tutorial to make your own corpus](https://nbviewer.jupyter.org/github/annotation/banks/blob/master/programs/convert.ipynb)"
   ]
  }
 ],
 "metadata": {
  "kernelspec": {
   "display_name": "Python 3",
   "language": "python",
   "name": "python3"
  },
  "language_info": {
   "codemirror_mode": {
    "name": "ipython",
    "version": 3
   },
   "file_extension": ".py",
   "mimetype": "text/x-python",
   "name": "python",
   "nbconvert_exporter": "python",
   "pygments_lexer": "ipython3",
   "version": "3.8.0"
  }
 },
 "nbformat": 4,
 "nbformat_minor": 4
}
