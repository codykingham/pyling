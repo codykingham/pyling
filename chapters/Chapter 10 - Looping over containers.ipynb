{
 "cells": [
  {
   "cell_type": "markdown",
   "metadata": {},
   "source": [
    "This material is copied (possibily with some modifications) from the [Python for Text-Analysis course](https://github.com/cltl/python-for-text-analysis/tree/master/Chapters)."
   ]
  },
  {
   "cell_type": "markdown",
   "metadata": {},
   "source": [
    "# Chapter 10 - Looping over containers\n",
    "So far, you have been introduced to **integers** (e.g. 1) **strings** (e.g. 'hello'), **lists** (e.g. [1, 'a', 3] , and **sets** (e.g. {1, 2, 'Python'}). You have learned how to create and inspect them using methods and built-in functions. \n",
    "\n",
    "However, you'll find that most of the time, you want to carry out some operation for all the items in a sequence. Built-in functions and methods are then not always the answer. However, the **for-loop** is!\n",
    "\n",
    "The goal of this chapter is to introduce you to the **for-loop**, which is the most commonly used loop. \n",
    "\n",
    "**At the end of this chapter, you will be able to:**\n",
    "* loop over a list\n",
    "* loop over a set\n",
    "* loop over a string\n",
    "* work with a new data structure: tuples\n",
    "* use two slightly more advanced concepts:\n",
    "    * break\n",
    "    * continue\n",
    "    \n",
    "**If you want to learn more about these topics, you might find the following links useful:**\n",
    "* [Loop like a native](https://www.youtube.com/watch?v=EnSu9hHGq5o): really good video "
   ]
  },
  {
   "cell_type": "markdown",
   "metadata": {},
   "source": [
    "If you have **questions** about this chapter, contact Cody in the Slack group."
   ]
  },
  {
   "cell_type": "markdown",
   "metadata": {},
   "source": [
    "## 1. Looping over a list\n",
    "Let's look at an example using a **for-loop** over a list."
   ]
  },
  {
   "cell_type": "code",
   "execution_count": null,
   "metadata": {},
   "outputs": [],
   "source": [
    "for number in [1,2,3]:\n",
    "    print(number)"
   ]
  },
  {
   "cell_type": "markdown",
   "metadata": {},
   "source": [
    "This loop prints the numbers 1, 2, and 3, each on a new line. The variable name **number** is just something I have chosen. It could have been anything, even something like **sugar_bunny**. But **number** is nice and descriptive. OK, so how does the loop work?\n",
    "\n",
    "* The Python interpreter starts by checking whether there's anything to iterate over. If the list is empty, it just passes over the for-loop and does nothing.\n",
    "* Then, the first value in the iterable (in this case a list) gets assigned to the variable **number**.\n",
    "* Following this, we enter a **for-loop context**, indicated by the indentation (four spaces preceding the print function). This **for-loop context** can be as big as you want. All Python cares about is those four spaces. Everything that is indented is part of the **for-loop context**.\n",
    "* Then, Python carries out all the operations in the **for-loop context**. In this case, this is just **print(number)**. Because number refers to the first element of the list, it prints 1.\n",
    "* Once all operations in the **for-loop context** have been carried out, the interpreter checks if there are any more elements in the list. If so, the next value (in this case 2) gets assigned to the variable **number**.\n",
    "* Then, we move to step 3 again: enter the **for-loop context**, carry out all the operations, and check if there's another element in the list, and so on, until there are no more elements left."
   ]
  },
  {
   "cell_type": "markdown",
   "metadata": {},
   "source": [
    "Please note that if a container (in this case a list) is empty, we will not print anything."
   ]
  },
  {
   "cell_type": "code",
   "execution_count": null,
   "metadata": {
    "collapsed": true,
    "jupyter": {
     "outputs_hidden": true
    }
   },
   "outputs": [],
   "source": [
    "for number in []:\n",
    "    print(number)"
   ]
  },
  {
   "cell_type": "markdown",
   "metadata": {},
   "source": [
    "Loops work extremely well with **if-statements**"
   ]
  },
  {
   "cell_type": "code",
   "execution_count": null,
   "metadata": {
    "collapsed": true,
    "jupyter": {
     "outputs_hidden": true
    }
   },
   "outputs": [],
   "source": [
    "for item in ['Python', 'is', 'really', 'nice', 'right?']:\n",
    "    if item.startswith('r'):\n",
    "        print(item, 'startswith the letter r')\n",
    "    else:\n",
    "        print(item, 'does not start with the letter r')"
   ]
  },
  {
   "cell_type": "markdown",
   "metadata": {},
   "source": [
    "### Tip: \n",
    "\n",
    "You can reverse the order of a list by using list.reverse() or list[::-1]:"
   ]
  },
  {
   "cell_type": "code",
   "execution_count": null,
   "metadata": {
    "scrolled": true
   },
   "outputs": [],
   "source": [
    "a_list = [1,2,3,4]\n",
    "a_list.reverse()\n",
    "\n",
    "for item in a_list:\n",
    "    print(item)"
   ]
  },
  {
   "cell_type": "code",
   "execution_count": null,
   "metadata": {},
   "outputs": [],
   "source": [
    "a_list = [1,2,3,4]\n",
    "\n",
    "for item in a_list[::-1]:\n",
    "    print(item)"
   ]
  },
  {
   "cell_type": "markdown",
   "metadata": {},
   "source": [
    "## 2. Looping over a set\n",
    "It is also possible to loop over a set"
   ]
  },
  {
   "cell_type": "code",
   "execution_count": null,
   "metadata": {},
   "outputs": [],
   "source": [
    "a_set = {'sets', 'are', 'unordered'}\n",
    "for item in a_set:\n",
    "    print(item)"
   ]
  },
  {
   "cell_type": "markdown",
   "metadata": {},
   "source": [
    "## 3. Looping over a string\n",
    "Although you might not expect this, you can actually loop over a string."
   ]
  },
  {
   "cell_type": "code",
   "execution_count": null,
   "metadata": {
    "collapsed": true,
    "jupyter": {
     "outputs_hidden": true
    }
   },
   "outputs": [],
   "source": [
    "word = \"hippopotamus\"\n",
    "\n",
    "for letter in word:\n",
    "    print(letter)"
   ]
  },
  {
   "cell_type": "markdown",
   "metadata": {},
   "source": [
    "## 4. Tuples"
   ]
  },
  {
   "cell_type": "markdown",
   "metadata": {},
   "source": [
    "One data structure (a new one!) is very frequently used with for loops. This data structure is a tuple. It's very simple to create a tuple."
   ]
  },
  {
   "cell_type": "code",
   "execution_count": null,
   "metadata": {
    "collapsed": true,
    "jupyter": {
     "outputs_hidden": true
    }
   },
   "outputs": [],
   "source": [
    "a_tuple = (1, 'a', 2)\n",
    "print(a_tuple)"
   ]
  },
  {
   "cell_type": "markdown",
   "metadata": {},
   "source": [
    "* a tuple is defined in the same way as a list, except that the whole set of elements is enclosed in parentheses instead of square brackets.\n",
    "* the elements of a tuple have a defined order, just like a list.\n",
    "* tuples can contain **immutable** objects.\n",
    "* tuples can contain **mutable** objects, but we would advise you not to use sets and lists in tuples\n",
    "* items cannot be added or removed (with some exceptions which are not important here)\n",
    "* a tuple can be empty\n",
    "* tuples have two methods: **index** and **count**\n",
    "\n",
    "**Important for use**\n",
    "* you can unpack tuples\n",
    "* tuples are often used with for-loops"
   ]
  },
  {
   "cell_type": "code",
   "execution_count": null,
   "metadata": {
    "collapsed": true,
    "jupyter": {
     "outputs_hidden": true
    }
   },
   "outputs": [],
   "source": [
    "help(tuple)"
   ]
  },
  {
   "cell_type": "markdown",
   "metadata": {},
   "source": [
    "A tuple can be empty. You can use **()** or **tuple()**:"
   ]
  },
  {
   "cell_type": "code",
   "execution_count": null,
   "metadata": {
    "collapsed": true,
    "jupyter": {
     "outputs_hidden": true
    }
   },
   "outputs": [],
   "source": [
    "an_empty_tuple = ()\n",
    "print(an_empty_tuple)"
   ]
  },
  {
   "cell_type": "code",
   "execution_count": null,
   "metadata": {
    "collapsed": true,
    "jupyter": {
     "outputs_hidden": true
    }
   },
   "outputs": [],
   "source": [
    "another_empty_tuple = tuple()\n",
    "print(another_empty_tuple)"
   ]
  },
  {
   "cell_type": "markdown",
   "metadata": {},
   "source": [
    "## 5. Unpacking variables\n",
    "\n",
    "It's possible to **unpack** tuples to separate variables"
   ]
  },
  {
   "cell_type": "code",
   "execution_count": null,
   "metadata": {
    "collapsed": true,
    "jupyter": {
     "outputs_hidden": true
    }
   },
   "outputs": [],
   "source": [
    "a_tuple = (1, 'a', 2)\n",
    "first_el, second_el, third_el = a_tuple\n",
    "print(first_el)\n",
    "print(second_el)\n",
    "print(third_el)"
   ]
  },
  {
   "cell_type": "markdown",
   "metadata": {},
   "source": [
    "### 5.1 Using tuples in a for-loop\n",
    "\n",
    "In addition, **tuples are often used with for-loops**. When working with Python, it's quite common that you end up with data structures like the following example:"
   ]
  },
  {
   "cell_type": "code",
   "execution_count": null,
   "metadata": {
    "collapsed": true,
    "jupyter": {
     "outputs_hidden": true
    }
   },
   "outputs": [],
   "source": [
    "language_data = [('the', 'determiner'),\n",
    "                 ('house', 'noun'),\n",
    "                 ('is', 'verb'),\n",
    "                 ('big', 'adjective')]"
   ]
  },
  {
   "cell_type": "markdown",
   "metadata": {},
   "source": [
    "Usually, you would like to loop through such an example. One way of doing that is the following:"
   ]
  },
  {
   "cell_type": "code",
   "execution_count": null,
   "metadata": {
    "collapsed": true,
    "jupyter": {
     "outputs_hidden": true
    }
   },
   "outputs": [],
   "source": [
    "for item in language_data:\n",
    "    print(item[0], item[1])"
   ]
  },
  {
   "cell_type": "markdown",
   "metadata": {},
   "source": [
    "However, we can unpack the tuple **within** the for-loop to make it more readable:"
   ]
  },
  {
   "cell_type": "code",
   "execution_count": null,
   "metadata": {
    "collapsed": true,
    "jupyter": {
     "outputs_hidden": true
    }
   },
   "outputs": [],
   "source": [
    "for word, part_of_speech in language_data:\n",
    "    print(word, part_of_speech)"
   ]
  },
  {
   "cell_type": "markdown",
   "metadata": {},
   "source": [
    "**Note about unpacking**\n",
    "\n",
    "Unpacking is an operation that can also be used with other containers, for instance with lists:"
   ]
  },
  {
   "cell_type": "code",
   "execution_count": null,
   "metadata": {},
   "outputs": [],
   "source": [
    "a_list = [1,2,3]\n",
    "first_el, second_el, third_el = a_list\n",
    "print(first_el)\n",
    "print(second_el)\n",
    "print(third_el)"
   ]
  },
  {
   "cell_type": "markdown",
   "metadata": {},
   "source": [
    "## 6. Continue and break"
   ]
  },
  {
   "cell_type": "markdown",
   "metadata": {},
   "source": [
    "**break**\n",
    "\n",
    "The break statement lets us escape a loop."
   ]
  },
  {
   "cell_type": "code",
   "execution_count": null,
   "metadata": {
    "collapsed": true,
    "jupyter": {
     "outputs_hidden": true
    }
   },
   "outputs": [],
   "source": [
    "word = \"hippopotamus\"\n",
    "\n",
    "for letter in word:\n",
    "    print(letter)\n",
    "    if letter ==\"o\":\n",
    "        break"
   ]
  },
  {
   "cell_type": "markdown",
   "metadata": {},
   "source": [
    "**continue**\n",
    "\n",
    "The continue statement ends the current iteration and jumps to the top of the loop and starts the next iteration."
   ]
  },
  {
   "cell_type": "code",
   "execution_count": null,
   "metadata": {
    "collapsed": true,
    "jupyter": {
     "outputs_hidden": true
    }
   },
   "outputs": [],
   "source": [
    "word = \"hippopotamus\"\n",
    "\n",
    "for letter in word:\n",
    "    if letter ==\"o\":\n",
    "        continue\n",
    "    print(letter)"
   ]
  },
  {
   "cell_type": "markdown",
   "metadata": {},
   "source": [
    "In the two examples above, not all letters in the word 'hippopotamus' are printed. Both break and continue teleport you to another part of the code. break teleports out of the loop, continue teleports you to the next iteration of the loop."
   ]
  },
  {
   "cell_type": "markdown",
   "metadata": {},
   "source": [
    "## Exercises"
   ]
  },
  {
   "cell_type": "markdown",
   "metadata": {},
   "source": [
    "### Exercise 1:\n",
    "\n",
    "Use a loop to print each word in the list in a new line (i.e. only use a single print statement and do not use '\\n' to start a new line)."
   ]
  },
  {
   "cell_type": "code",
   "execution_count": null,
   "metadata": {
    "collapsed": true,
    "jupyter": {
     "outputs_hidden": true
    }
   },
   "outputs": [],
   "source": [
    "sentence = 'Now I know a lot about looping'\n",
    "word_list = sentence.split()\n",
    "\n",
    "# your code here\n"
   ]
  },
  {
   "cell_type": "markdown",
   "metadata": {},
   "source": [
    "### Exercise 2:\n",
    "\n",
    "We have a collection of numbers and want to know how many unique numbers we have. Then we want to print each of them on a single line using a single print statment and not using '\\n' to stat a new line. "
   ]
  },
  {
   "cell_type": "code",
   "execution_count": null,
   "metadata": {
    "collapsed": true,
    "jupyter": {
     "outputs_hidden": true
    }
   },
   "outputs": [],
   "source": [
    "number_collection = [1,2,2,3,50, 50, 60, 57, 58, 3, 37, 37]\n",
    "unique_number = # your code here\n",
    "\n",
    "# print each number on a single line\n",
    "# your code here"
   ]
  },
  {
   "cell_type": "markdown",
   "metadata": {},
   "source": [
    "### Exercise 3:\n",
    "    \n",
    "Why might unpacking lists in this way sometimes be a bad idea? \n",
    "Hint: Think of mutability and consider the code below.\n"
   ]
  },
  {
   "cell_type": "code",
   "execution_count": null,
   "metadata": {
    "collapsed": true,
    "jupyter": {
     "outputs_hidden": true
    }
   },
   "outputs": [],
   "source": [
    "a_list = [1,2,3]\n",
    "first_el, second_el, third_el = a_list\n",
    "print(first_el)\n",
    "print(second_el)\n",
    "print(third_el)\n",
    "\n",
    "a_list.append(5)\n",
    "first_el, second_el, third_el = a_list\n",
    "print(first_el)\n",
    "print(second_el)\n",
    "print(third_el)"
   ]
  },
  {
   "cell_type": "code",
   "execution_count": null,
   "metadata": {
    "collapsed": true,
    "jupyter": {
     "outputs_hidden": true
    }
   },
   "outputs": [],
   "source": [
    "a_list.append(5)\n",
    "first_el, second_el, third_el = a_list\n",
    "print(first_el)\n",
    "print(second_el)\n",
    "print(third_el)"
   ]
  },
  {
   "cell_type": "markdown",
   "metadata": {},
   "source": [
    "### Exercise 4:\n",
    "    \n",
    "You could even do this with a set. However, not a good idea either? Why? Hint: Think about order. "
   ]
  },
  {
   "cell_type": "code",
   "execution_count": null,
   "metadata": {},
   "outputs": [],
   "source": [
    "a_set = {1,2,3,}\n",
    "first_el, second_el, third_el = a_set\n",
    "print(first_el)\n",
    "print(second_el)\n",
    "print(third_el)\n"
   ]
  },
  {
   "cell_type": "markdown",
   "metadata": {},
   "source": [
    "### Exercise 5:\n",
    "\n",
    "Please use the **break** statement to make the loop stop after word 'really'"
   ]
  },
  {
   "cell_type": "code",
   "execution_count": null,
   "metadata": {
    "collapsed": true,
    "jupyter": {
     "outputs_hidden": true
    }
   },
   "outputs": [],
   "source": [
    "['Python', 'is', 'really', 'nice', 'right?']\n",
    "# your code here"
   ]
  },
  {
   "cell_type": "markdown",
   "metadata": {},
   "source": [
    "Please use the **continue** statement to make sure that words that start with the letter 'r' are not printed"
   ]
  },
  {
   "cell_type": "code",
   "execution_count": null,
   "metadata": {
    "collapsed": true,
    "jupyter": {
     "outputs_hidden": true
    }
   },
   "outputs": [],
   "source": [
    "['Python', 'is', 'really', 'nice', 'right?']\n",
    "# your code here"
   ]
  },
  {
   "cell_type": "code",
   "execution_count": null,
   "metadata": {
    "collapsed": true,
    "jupyter": {
     "outputs_hidden": true
    }
   },
   "outputs": [],
   "source": []
  }
 ],
 "metadata": {
  "kernelspec": {
   "display_name": "Python 3",
   "language": "python",
   "name": "python3"
  },
  "language_info": {
   "codemirror_mode": {
    "name": "ipython",
    "version": 3
   },
   "file_extension": ".py",
   "mimetype": "text/x-python",
   "name": "python",
   "nbconvert_exporter": "python",
   "pygments_lexer": "ipython3",
   "version": "3.8.0"
  }
 },
 "nbformat": 4,
 "nbformat_minor": 4
}
