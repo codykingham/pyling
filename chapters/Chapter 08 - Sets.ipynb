{
 "cells": [
  {
   "cell_type": "markdown",
   "metadata": {},
   "source": [
    "This material is copied (possibily with some modifications) from the [Python for Text-Analysis course](https://github.com/cltl/python-for-text-analysis/tree/master/Chapters)."
   ]
  },
  {
   "cell_type": "markdown",
   "metadata": {},
   "source": [
    "# Chapter 8 - Sets\n",
    "This chapter will introduce a different kind of container: **sets**. Sets are unordered lists with no duplicate entries. You might wonder why we need different kinds of containers. We will postpone that discussion until chapter 8.\n",
    "\n",
    "**At the end of this chapter, you will be able to:**\n",
    "* create a set\n",
    "* add items to a set\n",
    "* extract/inspect items in a set\n",
    "\n",
    "**If you want to learn more about these topics, you might find the following links useful:**\n",
    "* [Python documentation](https://docs.python.org/3/tutorial/datastructures.html#sets)\n",
    "* [A tutorial on sets](https://www.learnpython.org/en/Sets)"
   ]
  },
  {
   "cell_type": "markdown",
   "metadata": {},
   "source": [
    "If you have **questions** about this chapter, contact Cody in the Slack group."
   ]
  },
  {
   "cell_type": "markdown",
   "metadata": {},
   "source": [
    "## 1. How to create a set\n",
    "It's quite simple to create a set"
   ]
  },
  {
   "cell_type": "code",
   "execution_count": null,
   "metadata": {},
   "outputs": [],
   "source": [
    "a_set = {1, 2, 3}\n",
    "a_set"
   ]
  },
  {
   "cell_type": "code",
   "execution_count": null,
   "metadata": {},
   "outputs": [],
   "source": [
    "empty_set = set() # you have to use set() to create an empty set! (we will see why later)\n",
    "print(empty_set)"
   ]
  },
  {
   "cell_type": "markdown",
   "metadata": {},
   "source": [
    "* Sets are surrounded by curly brackets and the elements in the set are separated by commas\n",
    "* A set can be empty (use set() to create it)\n",
    "* Sets do not preserve **duplicates**\n",
    "* sets are unordered (the order in which you add items is not important)\n",
    "* A set can **only contain immutable objects** (for now that means only **strings** and **integers** can be added)\n",
    "* A set can not contain **mutable objects**, hence no lists or sets"
   ]
  },
  {
   "cell_type": "markdown",
   "metadata": {},
   "source": [
    "Please note that sets do not preserve **duplicates**. In the example below, the integer `1` will only be present once in the set."
   ]
  },
  {
   "cell_type": "code",
   "execution_count": null,
   "metadata": {},
   "outputs": [],
   "source": [
    "a_set = {1, 2, 1, 1}\n",
    "print(a_set)"
   ]
  },
  {
   "cell_type": "markdown",
   "metadata": {},
   "source": [
    "Please note that sets are **unordered**. This means that it can occur that if you print a set, it looks different than how you created it"
   ]
  },
  {
   "cell_type": "code",
   "execution_count": null,
   "metadata": {},
   "outputs": [],
   "source": [
    "a_set = {1, 3, 2}\n",
    "print(a_set)"
   ]
  },
  {
   "cell_type": "markdown",
   "metadata": {},
   "source": [
    "This also means that you can check if two sets are the same even if you don't know the order in which items were put in:"
   ]
  },
  {
   "cell_type": "code",
   "execution_count": null,
   "metadata": {},
   "outputs": [],
   "source": [
    "{1, 2, 3} == {2, 3, 1}"
   ]
  },
  {
   "cell_type": "markdown",
   "metadata": {},
   "source": [
    "Please note that sets can **only contain immutable objects**. Hence the following examples will work, since we are adding immutable objects"
   ]
  },
  {
   "cell_type": "code",
   "execution_count": null,
   "metadata": {},
   "outputs": [],
   "source": [
    "a_set = {1, 'a'}\n",
    "print(a_set)"
   ]
  },
  {
   "cell_type": "markdown",
   "metadata": {},
   "source": [
    "But the following example will result in an error, since we are trying to create a set with a **mutable object**"
   ]
  },
  {
   "cell_type": "code",
   "execution_count": null,
   "metadata": {},
   "outputs": [],
   "source": [
    "a_set = {1, []}"
   ]
  },
  {
   "cell_type": "markdown",
   "metadata": {},
   "source": [
    "## 2. How to add items to a set\n",
    "the most common way of adding an item to a set is by using the **add** method. The **add** method takes one positional argument, namely what you are going to add to the set and it returns None. "
   ]
  },
  {
   "cell_type": "code",
   "execution_count": null,
   "metadata": {},
   "outputs": [],
   "source": [
    "a_set = set()\n",
    "a_set.add(1)\n",
    "print(a_set)"
   ]
  },
  {
   "cell_type": "code",
   "execution_count": null,
   "metadata": {},
   "outputs": [],
   "source": [
    "a_set = set()\n",
    "a_set = a_set.add(1)\n",
    "print(a_set)"
   ]
  },
  {
   "cell_type": "markdown",
   "metadata": {},
   "source": [
    "## 3. How to extract/inspect items in a set"
   ]
  },
  {
   "cell_type": "markdown",
   "metadata": {},
   "source": [
    "When you use sets, you usually want to **compare the elements of different sets**, for instance, to find out how much overlap there is or how many of the items in set1 are not members of set2. Sets can be used to carry out mathematical set operations like **union**, **intersection**, **difference**, and **symmetric difference**. Please take a look at [this website](https://www.programiz.com/python-programming/set) if you prefer a more visual and more complete explanation. Here we explain the two most common methods (don't worry about the rest for now):"
   ]
  },
  {
   "cell_type": "code",
   "execution_count": null,
   "metadata": {},
   "outputs": [],
   "source": [
    "set1 = {1, 2, 3, 4, 5}\n",
    "set2 = {4, 5, 6, 7, 8}"
   ]
  },
  {
   "cell_type": "markdown",
   "metadata": {},
   "source": [
    "The **union** method takes one positional argument (a set) and returns the union of two sets."
   ]
  },
  {
   "cell_type": "code",
   "execution_count": null,
   "metadata": {},
   "outputs": [],
   "source": [
    "help(set.union)"
   ]
  },
  {
   "cell_type": "code",
   "execution_count": null,
   "metadata": {},
   "outputs": [],
   "source": [
    "set1.union(set2)"
   ]
  },
  {
   "cell_type": "markdown",
   "metadata": {},
   "source": [
    "The **intersection** method takes one positional argument (a set) and returns a new set containing only the intersection of the two sets."
   ]
  },
  {
   "cell_type": "code",
   "execution_count": null,
   "metadata": {},
   "outputs": [],
   "source": [
    "help(set.intersection)"
   ]
  },
  {
   "cell_type": "code",
   "execution_count": null,
   "metadata": {},
   "outputs": [],
   "source": [
    "set1.intersection(set2)"
   ]
  },
  {
   "cell_type": "markdown",
   "metadata": {},
   "source": [
    "Since sets are **unordered**, you can **not** use an index to extract an element from a set."
   ]
  },
  {
   "cell_type": "code",
   "execution_count": null,
   "metadata": {},
   "outputs": [],
   "source": [
    "a_set = set()\n",
    "a_set.add(1)\n",
    "a_set.add(2)\n",
    "a_set[0]"
   ]
  },
  {
   "cell_type": "markdown",
   "metadata": {},
   "source": [
    "## 4. Using built-in functions on sets\n",
    "The same range of **built-in functions that operate on lists** also work with sets. We can easily get some simple calculations done with these functions:"
   ]
  },
  {
   "cell_type": "code",
   "execution_count": null,
   "metadata": {},
   "outputs": [],
   "source": [
    "nums = {3, 41, 12, 9, 74, 15}\n",
    "print(len(nums)) # number of items in a set\n",
    "print(max(nums)) # highest value in a set\n",
    "print(min(nums)) # lowest value in a set\n",
    "print(sum(nums)) # sum of all values in a set"
   ]
  },
  {
   "cell_type": "markdown",
   "metadata": {},
   "source": [
    "## 5. An overview of set operations\n",
    "There are many more operations which we can perform on sets. Here is an overview of some of them.\n",
    "In order to get used to them, please call the **help** function on each of them (e.g., help(set.union)). This will give you the information about the positional argument, keyword arguments, and what is returned by the method."
   ]
  },
  {
   "cell_type": "code",
   "execution_count": null,
   "metadata": {},
   "outputs": [],
   "source": [
    "set_a = {1, 2, 3}\n",
    "set_b = {4, 5, 6}\n",
    "an_element = 4\n",
    "\n",
    "\n",
    "print(set_a)\n",
    "\n",
    "#do some operations \n",
    "set_a.add(an_element)  # Add an_element to set_a\n",
    "print(set_a)\n",
    "set_a.update(set_b)     # Add the elements of set_b to set_a\n",
    "print(set_a)\n",
    "set_a.pop()         # Remove and return an arbitrary set element. How does this compare to the list method pop?\n",
    "print(set_a)\n",
    "set_a.remove(an_element)     # Remove an_element from set_a\n",
    "print(set_a)\n",
    "\n"
   ]
  },
  {
   "cell_type": "markdown",
   "metadata": {},
   "source": [
    "You can use the **dir** built-in function to see an overview of all set methods:"
   ]
  },
  {
   "cell_type": "code",
   "execution_count": null,
   "metadata": {},
   "outputs": [],
   "source": [
    "dir(set)"
   ]
  },
  {
   "cell_type": "markdown",
   "metadata": {},
   "source": [
    "## Exercises"
   ]
  },
  {
   "cell_type": "markdown",
   "metadata": {},
   "source": [
    "**Exercise 1:**\n",
    "\n",
    "Please create an empty set and use the **add** method to add four items to it: 'a', 'set', 'is', 'born'"
   ]
  },
  {
   "cell_type": "code",
   "execution_count": null,
   "metadata": {},
   "outputs": [],
   "source": []
  },
  {
   "cell_type": "markdown",
   "metadata": {},
   "source": [
    "**Exercise 2:**\n",
    "\n",
    "Please use a built-in method to **count** how many items your set has"
   ]
  },
  {
   "cell_type": "code",
   "execution_count": null,
   "metadata": {},
   "outputs": [],
   "source": []
  },
  {
   "cell_type": "markdown",
   "metadata": {},
   "source": [
    "**Exercise 3:**\n",
    "\n",
    "How would you **remove** one item from the set?"
   ]
  },
  {
   "cell_type": "code",
   "execution_count": null,
   "metadata": {},
   "outputs": [],
   "source": []
  },
  {
   "cell_type": "markdown",
   "metadata": {},
   "source": [
    "**Exercise 4:**\n",
    "\n",
    "Please check which items are in both sets:"
   ]
  },
  {
   "cell_type": "code",
   "execution_count": null,
   "metadata": {},
   "outputs": [],
   "source": [
    "set_1 = {'just', 'some', 'words'}\n",
    "set_2 = {'some', 'other', 'words'}\n",
    "# your code here"
   ]
  },
  {
   "cell_type": "code",
   "execution_count": null,
   "metadata": {},
   "outputs": [],
   "source": []
  },
  {
   "cell_type": "code",
   "execution_count": null,
   "metadata": {},
   "outputs": [],
   "source": []
  }
 ],
 "metadata": {
  "kernelspec": {
   "display_name": "Python 3",
   "language": "python",
   "name": "python3"
  },
  "language_info": {
   "codemirror_mode": {
    "name": "ipython",
    "version": 3
   },
   "file_extension": ".py",
   "mimetype": "text/x-python",
   "name": "python",
   "nbconvert_exporter": "python",
   "pygments_lexer": "ipython3",
   "version": "3.8.0"
  }
 },
 "nbformat": 4,
 "nbformat_minor": 4
}
