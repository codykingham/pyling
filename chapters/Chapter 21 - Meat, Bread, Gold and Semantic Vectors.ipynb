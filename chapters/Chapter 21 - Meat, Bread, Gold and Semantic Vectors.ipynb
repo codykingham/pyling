{
 "cells": [
  {
   "cell_type": "markdown",
   "metadata": {},
   "source": [
    "# Meat, Bread, Gold: Illustrating Vector Semantics\n",
    "\n",
    "Semantic vector spaces is one way of representing word meaning mathematically.\n",
    "This notebook contains a very basic example of a semantic vector space built using\n",
    "syntax data for the Hebrew Bible.\n",
    "\n",
    "There are tools in Python made for building advanced semantic vector spaces that don't\n",
    "use syntax data, but mere co-occurrence of tokens.\n",
    "\n",
    "### Read about [bag of words models](https://en.wikipedia.org/wiki/Bag-of-words_model)\n",
    "### Read about [ngram models](https://en.wikipedia.org/wiki/N-gram)\n",
    "\n",
    "I'd encourage you to look at [Word2vec](https://radimrehurek.com/gensim/models/word2vec.html)\n",
    "for more impressive uses of the semantic vector spaces.\n",
    "\n",
    "The baby-method shown herein is inspired by [Padó and Lapata's syntax model](https://www.researchgate.net/publication/220355312_Dependency-Based_Construction_of_Semantic_Space_Models)."
   ]
  },
  {
   "cell_type": "markdown",
   "metadata": {},
   "source": [
    "## Research Question: \n",
    "### Which two nouns are most similar out of \"meat\", \"bread\", and \"gold\" in Biblical Hebrew?\n",
    "\n",
    "## Brief\n",
    "\n",
    "In this notebook, we will compare the semantic similarity of three nouns in the Hebrew Bible:\n",
    "\n",
    "```\n",
    "בשׂר    \"meat\"\n",
    "לחם    \"bread\"\n",
    "זהב     \"gold\"\n",
    "```\n",
    "\n",
    "We will do this using a simple vector semantic model. In particular, we want to see how much distance lies between these three nouns in terms of the the following uses:\n",
    "\n",
    "* **number of times used as the direct object of נתן \"give\"**\n",
    "* **number of times used as the direct object of אכל \"eat\"**\n",
    "\n",
    "For the syntax data we will rely on the [BHSA](https://www.github.com/etcbc/bhsa) of the [ETCBC](http://www.etcbc.nl). This data will be accessed using the Python corpus analysis module, [Text-Fabric](https://www.github.com/annotation/text-fabric). \n",
    "\n",
    "\n",
    "<hr>\n",
    "\n",
    "# Python"
   ]
  },
  {
   "cell_type": "code",
   "execution_count": 1,
   "metadata": {},
   "outputs": [
    {
     "name": "stderr",
     "output_type": "stream",
     "text": [
      "To increase the rate,see https://annotation.github.io/text-fabric/Api/Repo/\n",
      "To increase the rate,see https://annotation.github.io/text-fabric/Api/Repo/\n",
      "To increase the rate,see https://annotation.github.io/text-fabric/Api/Repo/\n",
      "To increase the rate,see https://annotation.github.io/text-fabric/Api/Repo/\n",
      "To increase the rate,see https://annotation.github.io/text-fabric/Api/Repo/\n"
     ]
    },
    {
     "data": {
      "text/html": [
       "<style>\n",
       "@font-face {\n",
       "  font-family: \"Ezra SIL\";\n",
       "  src:\n",
       "    local(\"SILEOT.ttf\"),\n",
       "    url(\"https://github.com/annotation/text-fabric/blob/master/tf/server/static/fonts/SILEOT.woff?raw=true\");\n",
       "}\n",
       ".features {\n",
       "    font-family: monospace;\n",
       "    font-size: medium;\n",
       "    font-weight: bold;\n",
       "    color: #0a6611;\n",
       "    display: flex;\n",
       "    flex-flow: column nowrap;\n",
       "    padding: 0.1em;\n",
       "    margin: 0.1em;\n",
       "    direction: ltr;\n",
       "}\n",
       ".features div,.features span {\n",
       "    padding: 0;\n",
       "    margin: -0.1rem 0;\n",
       "}\n",
       ".features .f {\n",
       "    font-family: sans-serif;\n",
       "    font-size: x-small;\n",
       "    font-weight: normal;\n",
       "    color: #5555bb;\n",
       "}\n",
       ".features .xft {\n",
       "  color: #000000;\n",
       "  background-color: #eeeeee;\n",
       "  font-size: medium;\n",
       "  margin: 0.1em 0em;\n",
       "}\n",
       ".features .xft .f {\n",
       "  color: #000000;\n",
       "  background-color: #eeeeee;\n",
       "  font-style: italic;\n",
       "  font-size: small;\n",
       "  font-weight: normal;\n",
       "}\n",
       ".ltr {\n",
       "    direction: ltr ! important;\n",
       "}\n",
       ".verse {\n",
       "    display: flex;\n",
       "    flex-flow: row wrap;\n",
       "    direction: rtl;\n",
       "}\n",
       ".vl {\n",
       "    display: flex;\n",
       "    flex-flow: column nowrap;\n",
       "    justify-content: flex-end;\n",
       "    align-items: flex-end;\n",
       "    direction: ltr;\n",
       "    width: 100%;\n",
       "}\n",
       ".outeritem {\n",
       "    display: flex;\n",
       "    flex-flow: row wrap;\n",
       "    direction: rtl;\n",
       "}\n",
       ".sentence,.clause,.phrase {\n",
       "    margin-top: -1.2em;\n",
       "    margin-left: 1em;\n",
       "    background: #ffffff none repeat scroll 0 0;\n",
       "    padding: 0 0.3em;\n",
       "    border-style: solid;\n",
       "    border-radius: 0.2em;\n",
       "    font-size: small;\n",
       "    display: block;\n",
       "    width: fit-content;\n",
       "    max-width: fit-content;\n",
       "    direction: ltr;\n",
       "}\n",
       ".atoms {\n",
       "    display: flex;\n",
       "    flex-flow: row wrap;\n",
       "    margin: 0.3em;\n",
       "    padding: 0.3em;\n",
       "    direction: rtl;\n",
       "    background-color: #ffffff;\n",
       "}\n",
       ".satom,.catom,.patom {\n",
       "    margin: 0.3em;\n",
       "    padding: 0.3em;\n",
       "    border-radius: 0.3em;\n",
       "    border-style: solid;\n",
       "    display: flex;\n",
       "    flex-flow: column nowrap;\n",
       "    direction: rtl;\n",
       "    background-color: #ffffff;\n",
       "}\n",
       ".sentence {\n",
       "    border-color: #aa3333;\n",
       "    border-width: 1px;\n",
       "}\n",
       ".clause {\n",
       "    border-color: #aaaa33;\n",
       "    border-width: 1px;\n",
       "}\n",
       ".phrase {\n",
       "    border-color: #33aaaa;\n",
       "    border-width: 1px;\n",
       "}\n",
       ".satom {\n",
       "    border-color: #aa3333;\n",
       "    border-width: 4px;\n",
       "}\n",
       ".catom {\n",
       "    border-color: #aaaa33;\n",
       "    border-width: 3px;\n",
       "}\n",
       ".patom {\n",
       "    border-color: #33aaaa;\n",
       "    border-width: 3px;\n",
       "}\n",
       ".word {\n",
       "    padding: 0.1em;\n",
       "    margin: 0.1em;\n",
       "    border-radius: 0.1em;\n",
       "    border: 1px solid #cccccc;\n",
       "    display: flex;\n",
       "    flex-flow: column nowrap;\n",
       "    direction: rtl;\n",
       "    background-color: #ffffff;\n",
       "}\n",
       ".lextp {\n",
       "    padding: 0.1em;\n",
       "    margin: 0.1em;\n",
       "    border-radius: 0.1em;\n",
       "    border: 2px solid #888888;\n",
       "    width: fit-content;\n",
       "    display: flex;\n",
       "    flex-flow: column nowrap;\n",
       "    direction: rtl;\n",
       "    background-color: #ffffff;\n",
       "}\n",
       ".occs {\n",
       "    font-size: x-small;\n",
       "}\n",
       ".satom.l,.catom.l,.patom.l {\n",
       "    border-left-style: dotted\n",
       "}\n",
       ".satom.r,.catom.r,.patom.r {\n",
       "    border-right-style: dotted\n",
       "}\n",
       ".satom.lno,.catom.lno,.patom.lno {\n",
       "    border-left-style: none\n",
       "}\n",
       ".satom.rno,.catom.rno,.patom.rno {\n",
       "    border-right-style: none\n",
       "}\n",
       ".tr,.tr a:visited,.tr a:link {\n",
       "    font-family: sans-serif;\n",
       "    font-size: large;\n",
       "    color: #000044;\n",
       "    direction: ltr;\n",
       "    text-decoration: none;\n",
       "}\n",
       ".trb,.trb a:visited,.trb a:link {\n",
       "    font-family: sans-serif;\n",
       "    font-size: normal;\n",
       "    direction: ltr;\n",
       "    text-decoration: none;\n",
       "}\n",
       ".prb,.prb a:visited,.prb a:link {\n",
       "    font-family: sans-serif;\n",
       "    font-size: large;\n",
       "    direction: ltr;\n",
       "    text-decoration: none;\n",
       "}\n",
       ".h,.h a:visited,.h a:link {\n",
       "    font-family: \"Ezra SIL\", \"SBL Hebrew\", sans-serif;\n",
       "    font-size: large;\n",
       "    color: #000044;\n",
       "    direction: rtl;\n",
       "    text-decoration: none;\n",
       "}\n",
       ".hb,.hb a:visited,.hb a:link {\n",
       "    font-family: \"Ezra SIL\", \"SBL Hebrew\", sans-serif;\n",
       "    font-size: large;\n",
       "    line-height: 2;\n",
       "    direction: rtl;\n",
       "    text-decoration: none;\n",
       "}\n",
       ".vn {\n",
       "  font-size: small !important;\n",
       "  padding-right: 1em;\n",
       "}\n",
       ".rela,.function,.typ {\n",
       "    font-family: monospace;\n",
       "    font-size: small;\n",
       "    color: #0000bb;\n",
       "}\n",
       ".pdp,.pdp a:visited,.pdp a:link {\n",
       "    font-family: monospace;\n",
       "    font-size: medium;\n",
       "    color: #0000bb;\n",
       "    text-decoration: none;\n",
       "}\n",
       ".voc_lex {\n",
       "    font-family: monospace;\n",
       "    font-size: medium;\n",
       "    color: #0000bb;\n",
       "}\n",
       ".vs {\n",
       "    font-family: monospace;\n",
       "    font-size: medium;\n",
       "    font-weight: bold;\n",
       "    color: #0000bb;\n",
       "}\n",
       ".vt {\n",
       "    font-family: monospace;\n",
       "    font-size: medium;\n",
       "    font-weight: bold;\n",
       "    color: #0000bb;\n",
       "}\n",
       ".gloss {\n",
       "    font-family: sans-serif;\n",
       "    font-size: small;\n",
       "    font-weight: normal;\n",
       "    color: #444444;\n",
       "}\n",
       ".vrs {\n",
       "    font-family: sans-serif;\n",
       "    font-size: small;\n",
       "    font-weight: bold;\n",
       "    color: #444444;\n",
       "}\n",
       ".nd {\n",
       "    font-family: monospace;\n",
       "    font-size: x-small;\n",
       "    color: #999999;\n",
       "}\n",
       ".hl {\n",
       "    background-color: #ffee66;\n",
       "}\n",
       "\n",
       "tr.tf, td.tf, th.tf {\n",
       "  text-align: left;\n",
       "}\n",
       "\n",
       "span.hldot {\n",
       "\tbackground-color: var(--hl-strong);\n",
       "\tborder: 0.2rem solid var(--hl-rim);\n",
       "\tborder-radius: 0.4rem;\n",
       "\t/*\n",
       "\tdisplay: inline-block;\n",
       "\twidth: 0.8rem;\n",
       "\theight: 0.8rem;\n",
       "\t*/\n",
       "}\n",
       "span.hl {\n",
       "\tbackground-color: var(--hl-strong);\n",
       "\tborder-width: 0;\n",
       "\tborder-radius: 0.1rem;\n",
       "\tborder-style: solid;\n",
       "}\n",
       "\n",
       "span.hlup {\n",
       "\tborder-color: var(--hl-dark);\n",
       "\tborder-width: 0.1rem;\n",
       "\tborder-style: solid;\n",
       "\tborder-radius: 0.2rem;\n",
       "  padding: 0.2rem;\n",
       "}\n",
       "\n",
       ":root {\n",
       "\t--hl-strong:        hsla( 60, 100%,  70%, 0.9  );\n",
       "\t--hl-rim:           hsla( 55, 100%,  60%, 0.9  );\n",
       "\t--hl-dark:          hsla( 55, 100%,  40%, 0.9  );\n",
       "}\n",
       "</style>"
      ],
      "text/plain": [
       "<IPython.core.display.HTML object>"
      ]
     },
     "metadata": {},
     "output_type": "display_data"
    }
   ],
   "source": [
    "# load standard modules\n",
    "import collections\n",
    "import random\n",
    "\n",
    "# load Text-Fabric with BHSA data\n",
    "from tf.app import use\n",
    "bhsa = use('bhsa', mod='etcbc/heads/tf', silent='deep')\n",
    "F, T, L, = bhsa.api.F, bhsa.api.T, bhsa.api.L # methods for accessing corpus data\n",
    "\n",
    "# load data science / plotting modules\n",
    "import numpy as np\n",
    "import pandas as pd\n",
    "import matplotlib.pyplot as plt\n",
    "from matplotlib import rcParams\n",
    "rcParams['font.serif'] = ['Times New Roman'] # setup serif fonts for Hebrew\n",
    "from bidi.algorithm import get_display # for Hebrew in plots"
   ]
  },
  {
   "cell_type": "markdown",
   "metadata": {},
   "source": [
    "## Collect instances of \"meat\", \"bread\", \"gold\" in the Hebrew Bible\n",
    "\n",
    "We will collect all instances of בשׂר, לחם, and זהב that occur as direct objects to either נתן or אכל. We can do this with a Text-Fabric query."
   ]
  },
  {
   "cell_type": "code",
   "execution_count": 3,
   "metadata": {},
   "outputs": [
    {
     "name": "stdout",
     "output_type": "stream",
     "text": [
      "  8.98s 131 results\n"
     ]
    }
   ],
   "source": [
    "meat_bread_gold = \"\"\"\n",
    "\n",
    "clause\n",
    "    phrase function=Pred|PreS\n",
    "        word lex=NTN[|>KL[\n",
    "    phrase function=Predphrase function=Objc\n",
    "        <nhead- word lex=LXM/|BFR/|ZHB/\n",
    "\"\"\"\n",
    "\n",
    "query = bhsa.search(meat_bread_gold)"
   ]
  },
  {
   "cell_type": "markdown",
   "metadata": {},
   "source": [
    "We get 131 results. Let's sample some at random. Re-run the following cell arbitrarily to show random results in groups of 25."
   ]
  },
  {
   "cell_type": "code",
   "execution_count": 5,
   "metadata": {},
   "outputs": [
    {
     "data": {
      "text/html": [
       "<a href=\"https://shebanq.ancient-data.org/hebrew/text?book=Nehemia&amp;chapter=5&amp;verse=14&amp;version=c&amp;mr=m&amp;qw=q&amp;tp=txt_p&amp;tr=hb&amp;wget=v&amp;qget=v&amp;nget=vt\" title=\"show this passage in SHEBANQ\" sec=\"Nehemiah 5:14\">Nehemiah 5:14</a>&nbsp;<span class=\"hb\">גַּ֞ם מִיֹּ֣ום׀ מִשְּׁנַ֣ת עֶשְׂרִ֗ים וְ֠עַד שְׁנַ֨ת שְׁלֹשִׁ֤ים וּשְׁתַּ֨יִם֙ לְאַרְתַּחְשַׁ֣סְתְּא הַמֶּ֔לֶךְ שָׁנִ֖ים שְׁתֵּ֣ים עֶשְׂרֵ֑ה אֲנִ֣י וְאַחַ֔י <span  class=\"hl\" >לֶ֥חֶם </span>הַפֶּ֖חָה לֹ֥א <span  class=\"hl\" >אָכַֽלְתִּי׃ </span></span>"
      ],
      "text/plain": [
       "<IPython.core.display.HTML object>"
      ]
     },
     "metadata": {},
     "output_type": "display_data"
    },
    {
     "data": {
      "text/html": [
       "<a href=\"https://shebanq.ancient-data.org/hebrew/text?book=Chronica_II&amp;chapter=1&amp;verse=15&amp;version=c&amp;mr=m&amp;qw=q&amp;tp=txt_p&amp;tr=hb&amp;wget=v&amp;qget=v&amp;nget=vt\" title=\"show this passage in SHEBANQ\" sec=\"2_Chronicles 1:15\">2_Chronicles 1:15</a>&nbsp;<span class=\"hb\">וַ<span  class=\"hl\" >יִּתֵּ֨ן </span>הַמֶּ֜לֶךְ אֶת־הַכֶּ֧סֶף וְאֶת־הַ<span  class=\"hl\" >זָּהָ֛ב </span>בִּירוּשָׁלִַ֖ם כָּאֲבָנִ֑ים </span>"
      ],
      "text/plain": [
       "<IPython.core.display.HTML object>"
      ]
     },
     "metadata": {},
     "output_type": "display_data"
    },
    {
     "data": {
      "text/html": [
       "<a href=\"https://shebanq.ancient-data.org/hebrew/text?book=Exodus&amp;chapter=12&amp;verse=8&amp;version=c&amp;mr=m&amp;qw=q&amp;tp=txt_p&amp;tr=hb&amp;wget=v&amp;qget=v&amp;nget=vt\" title=\"show this passage in SHEBANQ\" sec=\"Exodus 12:8\">Exodus 12:8</a>&nbsp;<span class=\"hb\">וְ<span  class=\"hl\" >אָכְל֥וּ </span>אֶת־הַ<span  class=\"hl\" >בָּשָׂ֖ר </span>בַּלַּ֣יְלָה הַזֶּ֑ה צְלִי־אֵ֣שׁ </span>"
      ],
      "text/plain": [
       "<IPython.core.display.HTML object>"
      ]
     },
     "metadata": {},
     "output_type": "display_data"
    },
    {
     "data": {
      "text/html": [
       "<a href=\"https://shebanq.ancient-data.org/hebrew/text?book=Leviticus&amp;chapter=21&amp;verse=22&amp;version=c&amp;mr=m&amp;qw=q&amp;tp=txt_p&amp;tr=hb&amp;wget=v&amp;qget=v&amp;nget=vt\" title=\"show this passage in SHEBANQ\" sec=\"Leviticus 21:22\">Leviticus 21:22</a>&nbsp;<span class=\"hb\"><span  class=\"hl\" >לֶ֣חֶם </span>אֱלֹהָ֔יו מִקָּדְשֵׁ֖י הַקֳּדָשִׁ֑ים וּמִן־הַקֳּדָשִׁ֖ים <span  class=\"hl\" >יֹאכֵֽל׃ </span></span>"
      ],
      "text/plain": [
       "<IPython.core.display.HTML object>"
      ]
     },
     "metadata": {},
     "output_type": "display_data"
    },
    {
     "data": {
      "text/html": [
       "<a href=\"https://shebanq.ancient-data.org/hebrew/text?book=Reges_I&amp;chapter=13&amp;verse=16&amp;version=c&amp;mr=m&amp;qw=q&amp;tp=txt_p&amp;tr=hb&amp;wget=v&amp;qget=v&amp;nget=vt\" title=\"show this passage in SHEBANQ\" sec=\"1_Kings 13:16\">1_Kings 13:16</a>&nbsp;<span class=\"hb\">וְלֹֽא־<span  class=\"hl\" >אֹ֣כַל </span><span  class=\"hl\" >לֶ֗חֶם </span></span>"
      ],
      "text/plain": [
       "<IPython.core.display.HTML object>"
      ]
     },
     "metadata": {},
     "output_type": "display_data"
    },
    {
     "data": {
      "text/html": [
       "<a href=\"https://shebanq.ancient-data.org/hebrew/text?book=Reges_I&amp;chapter=13&amp;verse=22&amp;version=c&amp;mr=m&amp;qw=q&amp;tp=txt_p&amp;tr=hb&amp;wget=v&amp;qget=v&amp;nget=vt\" title=\"show this passage in SHEBANQ\" sec=\"1_Kings 13:22\">1_Kings 13:22</a>&nbsp;<span class=\"hb\">אַל־<span  class=\"hl\" >תֹּ֥אכַל </span><span  class=\"hl\" >לֶ֖חֶם </span></span>"
      ],
      "text/plain": [
       "<IPython.core.display.HTML object>"
      ]
     },
     "metadata": {},
     "output_type": "display_data"
    },
    {
     "data": {
      "text/html": [
       "<a href=\"https://shebanq.ancient-data.org/hebrew/text?book=Jesaia&amp;chapter=44&amp;verse=16&amp;version=c&amp;mr=m&amp;qw=q&amp;tp=txt_p&amp;tr=hb&amp;wget=v&amp;qget=v&amp;nget=vt\" title=\"show this passage in SHEBANQ\" sec=\"Isaiah 44:16\">Isaiah 44:16</a>&nbsp;<span class=\"hb\"><span  class=\"hl\" >בָּשָׂ֣ר </span><span  class=\"hl\" >יֹאכֵ֔ל </span></span>"
      ],
      "text/plain": [
       "<IPython.core.display.HTML object>"
      ]
     },
     "metadata": {},
     "output_type": "display_data"
    },
    {
     "data": {
      "text/html": [
       "<a href=\"https://shebanq.ancient-data.org/hebrew/text?book=Jesaia&amp;chapter=30&amp;verse=20&amp;version=c&amp;mr=m&amp;qw=q&amp;tp=txt_p&amp;tr=hb&amp;wget=v&amp;qget=v&amp;nget=vt\" title=\"show this passage in SHEBANQ\" sec=\"Isaiah 30:20\">Isaiah 30:20</a>&nbsp;<span class=\"hb\">וְ<span  class=\"hl\" >נָתַ֨ן </span>לָכֶ֧ם אֲדֹנָ֛י <span  class=\"hl\" >לֶ֥חֶם </span>צָ֖ר וּמַ֣יִם לָ֑חַץ </span>"
      ],
      "text/plain": [
       "<IPython.core.display.HTML object>"
      ]
     },
     "metadata": {},
     "output_type": "display_data"
    },
    {
     "data": {
      "text/html": [
       "<a href=\"https://shebanq.ancient-data.org/hebrew/text?book=Ezechiel&amp;chapter=39&amp;verse=18&amp;version=c&amp;mr=m&amp;qw=q&amp;tp=txt_p&amp;tr=hb&amp;wget=v&amp;qget=v&amp;nget=vt\" title=\"show this passage in SHEBANQ\" sec=\"Ezekiel 39:18\">Ezekiel 39:18</a>&nbsp;<span class=\"hb\"><span  class=\"hl\" >בְּשַׂ֤ר </span>גִּבֹּורִים֙ <span  class=\"hl\" >תֹּאכֵ֔לוּ </span></span>"
      ],
      "text/plain": [
       "<IPython.core.display.HTML object>"
      ]
     },
     "metadata": {},
     "output_type": "display_data"
    },
    {
     "data": {
      "text/html": [
       "<a href=\"https://shebanq.ancient-data.org/hebrew/text?book=Jesaia&amp;chapter=44&amp;verse=16&amp;version=c&amp;mr=m&amp;qw=q&amp;tp=txt_p&amp;tr=hb&amp;wget=v&amp;qget=v&amp;nget=vt\" title=\"show this passage in SHEBANQ\" sec=\"Isaiah 44:16\">Isaiah 44:16</a>&nbsp;<span class=\"hb\"><span  class=\"hl\" >בָּשָׂ֣ר </span><span  class=\"hl\" >יֹאכֵ֔ל </span></span>"
      ],
      "text/plain": [
       "<IPython.core.display.HTML object>"
      ]
     },
     "metadata": {},
     "output_type": "display_data"
    },
    {
     "data": {
      "text/html": [
       "<a href=\"https://shebanq.ancient-data.org/hebrew/text?book=Deuteronomium&amp;chapter=12&amp;verse=20&amp;version=c&amp;mr=m&amp;qw=q&amp;tp=txt_p&amp;tr=hb&amp;wget=v&amp;qget=v&amp;nget=vt\" title=\"show this passage in SHEBANQ\" sec=\"Deuteronomy 12:20\">Deuteronomy 12:20</a>&nbsp;<span class=\"hb\">לֶ<span  class=\"hl\" >אֱכֹ֣ל </span><span  class=\"hl\" >בָּשָׂ֑ר </span></span>"
      ],
      "text/plain": [
       "<IPython.core.display.HTML object>"
      ]
     },
     "metadata": {},
     "output_type": "display_data"
    },
    {
     "data": {
      "text/html": [
       "<a href=\"https://shebanq.ancient-data.org/hebrew/text?book=Josua&amp;chapter=6&amp;verse=24&amp;version=c&amp;mr=m&amp;qw=q&amp;tp=txt_p&amp;tr=hb&amp;wget=v&amp;qget=v&amp;nget=vt\" title=\"show this passage in SHEBANQ\" sec=\"Joshua 6:24\">Joshua 6:24</a>&nbsp;<span class=\"hb\">רַ֣ק׀ הַכֶּ֣סֶף וְהַ<span  class=\"hl\" >זָּהָ֗ב </span>וּכְלֵ֤י הַנְּחֹ֨שֶׁת֙ וְהַבַּרְזֶ֔ל <span  class=\"hl\" >נָתְנ֖וּ </span>אֹוצַ֥ר בֵּית־יְהוָֽה׃ </span>"
      ],
      "text/plain": [
       "<IPython.core.display.HTML object>"
      ]
     },
     "metadata": {},
     "output_type": "display_data"
    },
    {
     "data": {
      "text/html": [
       "<a href=\"https://shebanq.ancient-data.org/hebrew/text?book=Deuteronomium&amp;chapter=12&amp;verse=15&amp;version=c&amp;mr=m&amp;qw=q&amp;tp=txt_p&amp;tr=hb&amp;wget=v&amp;qget=v&amp;nget=vt\" title=\"show this passage in SHEBANQ\" sec=\"Deuteronomy 12:15\">Deuteronomy 12:15</a>&nbsp;<span class=\"hb\">וְ<span  class=\"hl\" >אָכַלְתָּ֣ </span><span  class=\"hl\" >בָשָׂ֗ר </span>כְּבִרְכַּ֨ת יְהוָ֧ה אֱלֹהֶ֛יךָ </span>"
      ],
      "text/plain": [
       "<IPython.core.display.HTML object>"
      ]
     },
     "metadata": {},
     "output_type": "display_data"
    },
    {
     "data": {
      "text/html": [
       "<a href=\"https://shebanq.ancient-data.org/hebrew/text?book=Numeri&amp;chapter=11&amp;verse=18&amp;version=c&amp;mr=m&amp;qw=q&amp;tp=txt_p&amp;tr=hb&amp;wget=v&amp;qget=v&amp;nget=vt\" title=\"show this passage in SHEBANQ\" sec=\"Numbers 11:18\">Numbers 11:18</a>&nbsp;<span class=\"hb\">וַ<span  class=\"hl\" >אֲכַלְתֶּ֣ם </span><span  class=\"hl\" >בָּשָׂר֒ </span></span>"
      ],
      "text/plain": [
       "<IPython.core.display.HTML object>"
      ]
     },
     "metadata": {},
     "output_type": "display_data"
    },
    {
     "data": {
      "text/html": [
       "<a href=\"https://shebanq.ancient-data.org/hebrew/text?book=Reges_II&amp;chapter=4&amp;verse=8&amp;version=c&amp;mr=m&amp;qw=q&amp;tp=txt_p&amp;tr=hb&amp;wget=v&amp;qget=v&amp;nget=vt\" title=\"show this passage in SHEBANQ\" sec=\"2_Kings 4:8\">2_Kings 4:8</a>&nbsp;<span class=\"hb\">לֶ<span  class=\"hl\" >אֱכָל־</span><span  class=\"hl\" >לָֽחֶם׃ </span></span>"
      ],
      "text/plain": [
       "<IPython.core.display.HTML object>"
      ]
     },
     "metadata": {},
     "output_type": "display_data"
    },
    {
     "data": {
      "text/html": [
       "<a href=\"https://shebanq.ancient-data.org/hebrew/text?book=Ezechiel&amp;chapter=4&amp;verse=13&amp;version=c&amp;mr=m&amp;qw=q&amp;tp=txt_p&amp;tr=hb&amp;wget=v&amp;qget=v&amp;nget=vt\" title=\"show this passage in SHEBANQ\" sec=\"Ezekiel 4:13\">Ezekiel 4:13</a>&nbsp;<span class=\"hb\">כָּ֣כָה <span  class=\"hl\" >יֹאכְל֧וּ </span>בְנֵֽי־יִשְׂרָאֵ֛ל אֶת־<span  class=\"hl\" >לַחְמָ֖ם </span>טָמֵ֑א בַּגֹּויִ֕ם </span>"
      ],
      "text/plain": [
       "<IPython.core.display.HTML object>"
      ]
     },
     "metadata": {},
     "output_type": "display_data"
    },
    {
     "data": {
      "text/html": [
       "<a href=\"https://shebanq.ancient-data.org/hebrew/text?book=Reges_II&amp;chapter=9&amp;verse=36&amp;version=c&amp;mr=m&amp;qw=q&amp;tp=txt_p&amp;tr=hb&amp;wget=v&amp;qget=v&amp;nget=vt\" title=\"show this passage in SHEBANQ\" sec=\"2_Kings 9:36\">2_Kings 9:36</a>&nbsp;<span class=\"hb\">בְּחֵ֣לֶק יִזְרְעֶ֔אל <span  class=\"hl\" >יֹאכְל֥וּ </span>הַכְּלָבִ֖ים אֶת־<span  class=\"hl\" >בְּשַׂ֥ר </span>אִיזָֽבֶל׃ </span>"
      ],
      "text/plain": [
       "<IPython.core.display.HTML object>"
      ]
     },
     "metadata": {},
     "output_type": "display_data"
    },
    {
     "data": {
      "text/html": [
       "<a href=\"https://shebanq.ancient-data.org/hebrew/text?book=Samuel_I&amp;chapter=14&amp;verse=28&amp;version=c&amp;mr=m&amp;qw=q&amp;tp=txt_p&amp;tr=hb&amp;wget=v&amp;qget=v&amp;nget=vt\" title=\"show this passage in SHEBANQ\" sec=\"1_Samuel 14:28\">1_Samuel 14:28</a>&nbsp;<span class=\"hb\">אֲשֶׁר־<span  class=\"hl\" >יֹ֥אכַל </span><span  class=\"hl\" >לֶ֖חֶם </span>הַיֹּ֑ום </span>"
      ],
      "text/plain": [
       "<IPython.core.display.HTML object>"
      ]
     },
     "metadata": {},
     "output_type": "display_data"
    },
    {
     "data": {
      "text/html": [
       "<a href=\"https://shebanq.ancient-data.org/hebrew/text?book=Nehemia&amp;chapter=9&amp;verse=15&amp;version=c&amp;mr=m&amp;qw=q&amp;tp=txt_p&amp;tr=hb&amp;wget=v&amp;qget=v&amp;nget=vt\" title=\"show this passage in SHEBANQ\" sec=\"Nehemiah 9:15\">Nehemiah 9:15</a>&nbsp;<span class=\"hb\">וְ֠<span  class=\"hl\" >לֶחֶם </span>מִשָּׁמַ֜יִם <span  class=\"hl\" >נָתַ֤תָּה </span>לָהֶם֙ לִרְעָבָ֔ם </span>"
      ],
      "text/plain": [
       "<IPython.core.display.HTML object>"
      ]
     },
     "metadata": {},
     "output_type": "display_data"
    },
    {
     "data": {
      "text/html": [
       "<a href=\"https://shebanq.ancient-data.org/hebrew/text?book=Psalmi&amp;chapter=53&amp;verse=5&amp;version=c&amp;mr=m&amp;qw=q&amp;tp=txt_p&amp;tr=hb&amp;wget=v&amp;qget=v&amp;nget=vt\" title=\"show this passage in SHEBANQ\" sec=\"Psalms 53:5\">Psalms 53:5</a>&nbsp;<span class=\"hb\">אֹכְלֵ֣י עַ֭מִּי <span  class=\"hl\" >אָ֣כְלוּ </span><span  class=\"hl\" >לֶ֑חֶם </span></span>"
      ],
      "text/plain": [
       "<IPython.core.display.HTML object>"
      ]
     },
     "metadata": {},
     "output_type": "display_data"
    },
    {
     "data": {
      "text/html": [
       "<a href=\"https://shebanq.ancient-data.org/hebrew/text?book=Reges_II&amp;chapter=25&amp;verse=29&amp;version=c&amp;mr=m&amp;qw=q&amp;tp=txt_p&amp;tr=hb&amp;wget=v&amp;qget=v&amp;nget=vt\" title=\"show this passage in SHEBANQ\" sec=\"2_Kings 25:29\">2_Kings 25:29</a>&nbsp;<span class=\"hb\">וְ<span  class=\"hl\" >אָכַ֨ל </span><span  class=\"hl\" >לֶ֧חֶם </span>תָּמִ֛יד לְפָנָ֖יו כָּל־יְמֵ֥י חַיָּֽיו׃ </span>"
      ],
      "text/plain": [
       "<IPython.core.display.HTML object>"
      ]
     },
     "metadata": {},
     "output_type": "display_data"
    },
    {
     "data": {
      "text/html": [
       "<a href=\"https://shebanq.ancient-data.org/hebrew/text?book=Deuteronomium&amp;chapter=29&amp;verse=5&amp;version=c&amp;mr=m&amp;qw=q&amp;tp=txt_p&amp;tr=hb&amp;wget=v&amp;qget=v&amp;nget=vt\" title=\"show this passage in SHEBANQ\" sec=\"Deuteronomy 29:5\">Deuteronomy 29:5</a>&nbsp;<span class=\"hb\"><span  class=\"hl\" >לֶ֚חֶם </span>לֹ֣א <span  class=\"hl\" >אֲכַלְתֶּ֔ם </span></span>"
      ],
      "text/plain": [
       "<IPython.core.display.HTML object>"
      ]
     },
     "metadata": {},
     "output_type": "display_data"
    },
    {
     "data": {
      "text/html": [
       "<a href=\"https://shebanq.ancient-data.org/hebrew/text?book=Ezechiel&amp;chapter=39&amp;verse=18&amp;version=c&amp;mr=m&amp;qw=q&amp;tp=txt_p&amp;tr=hb&amp;wget=v&amp;qget=v&amp;nget=vt\" title=\"show this passage in SHEBANQ\" sec=\"Ezekiel 39:18\">Ezekiel 39:18</a>&nbsp;<span class=\"hb\"><span  class=\"hl\" >בְּשַׂ֤ר </span>גִּבֹּורִים֙ <span  class=\"hl\" >תֹּאכֵ֔לוּ </span></span>"
      ],
      "text/plain": [
       "<IPython.core.display.HTML object>"
      ]
     },
     "metadata": {},
     "output_type": "display_data"
    },
    {
     "data": {
      "text/html": [
       "<a href=\"https://shebanq.ancient-data.org/hebrew/text?book=Reges_I&amp;chapter=13&amp;verse=15&amp;version=c&amp;mr=m&amp;qw=q&amp;tp=txt_p&amp;tr=hb&amp;wget=v&amp;qget=v&amp;nget=vt\" title=\"show this passage in SHEBANQ\" sec=\"1_Kings 13:15\">1_Kings 13:15</a>&nbsp;<span class=\"hb\">וֶ<span  class=\"hl\" >אֱכֹ֖ל </span><span  class=\"hl\" >לָֽחֶם׃ </span></span>"
      ],
      "text/plain": [
       "<IPython.core.display.HTML object>"
      ]
     },
     "metadata": {},
     "output_type": "display_data"
    },
    {
     "data": {
      "text/html": [
       "<a href=\"https://shebanq.ancient-data.org/hebrew/text?book=Samuel_I&amp;chapter=2&amp;verse=15&amp;version=c&amp;mr=m&amp;qw=q&amp;tp=txt_p&amp;tr=hb&amp;wget=v&amp;qget=v&amp;nget=vt\" title=\"show this passage in SHEBANQ\" sec=\"1_Samuel 2:15\">1_Samuel 2:15</a>&nbsp;<span class=\"hb\"><span  class=\"hl\" >תְּנָ֣ה </span><span  class=\"hl\" >בָשָׂ֔ר </span></span>"
      ],
      "text/plain": [
       "<IPython.core.display.HTML object>"
      ]
     },
     "metadata": {},
     "output_type": "display_data"
    }
   ],
   "source": [
    "shuffled_query_results = []\n",
    "\n",
    "# select 26 examples at random\n",
    "for i in range(1, 26):\n",
    "    example = random.choice(query)\n",
    "    shuffled_query_results.append(example)\n",
    "    \n",
    "# show results\n",
    "for result in shuffled_query_results:\n",
    "    bhsa.plain(result[0], highlights={result[2], result[4]})"
   ]
  },
  {
   "cell_type": "markdown",
   "metadata": {},
   "source": [
    "## Build a co-occurrence table of the individual instances"
   ]
  },
  {
   "cell_type": "code",
   "execution_count": 6,
   "metadata": {},
   "outputs": [],
   "source": [
    "co_occurrences = collections.defaultdict(lambda:collections.Counter()) # e.g. dict[noun][context] += 1\n",
    "\n",
    "# iterate through results and count noun/co-occurrence features\n",
    "for result in query:\n",
    "    noun = F.lex_utf8.v(result[4]) # get UTF8 lex-string:\n",
    "    co_verb = F.lex_utf8.v(result[2])\n",
    "    co_occurrences[noun][co_verb] += 1\n",
    "    \n",
    "co_occurrences = pd.DataFrame.from_dict(co_occurrences, orient='index').fillna(0) # convert dict to dataframe"
   ]
  },
  {
   "cell_type": "markdown",
   "metadata": {},
   "source": [
    "We now have a co-occurrence table between our sample nouns and our co-occurrence features. Let's have a look at it."
   ]
  },
  {
   "cell_type": "code",
   "execution_count": 7,
   "metadata": {},
   "outputs": [
    {
     "data": {
      "text/html": [
       "<div>\n",
       "<style scoped>\n",
       "    .dataframe tbody tr th:only-of-type {\n",
       "        vertical-align: middle;\n",
       "    }\n",
       "\n",
       "    .dataframe tbody tr th {\n",
       "        vertical-align: top;\n",
       "    }\n",
       "\n",
       "    .dataframe thead th {\n",
       "        text-align: right;\n",
       "    }\n",
       "</style>\n",
       "<table border=\"1\" class=\"dataframe\">\n",
       "  <thead>\n",
       "    <tr style=\"text-align: right;\">\n",
       "      <th></th>\n",
       "      <th>אכל</th>\n",
       "      <th>נתן</th>\n",
       "    </tr>\n",
       "  </thead>\n",
       "  <tbody>\n",
       "    <tr>\n",
       "      <th>לחם</th>\n",
       "      <td>64.0</td>\n",
       "      <td>19</td>\n",
       "    </tr>\n",
       "    <tr>\n",
       "      <th>בשׂר</th>\n",
       "      <td>29.0</td>\n",
       "      <td>7</td>\n",
       "    </tr>\n",
       "    <tr>\n",
       "      <th>זהב</th>\n",
       "      <td>0.0</td>\n",
       "      <td>12</td>\n",
       "    </tr>\n",
       "  </tbody>\n",
       "</table>\n",
       "</div>"
      ],
      "text/plain": [
       "       אכל  נתן\n",
       "לחם   64.0   19\n",
       "בשׂר  29.0    7\n",
       "זהב    0.0   12"
      ]
     },
     "execution_count": 7,
     "metadata": {},
     "output_type": "execute_result"
    }
   ],
   "source": [
    "co_occurrences"
   ]
  },
  {
   "cell_type": "markdown",
   "metadata": {},
   "source": [
    "We normalize the data by converting it into a percentage:"
   ]
  },
  {
   "cell_type": "code",
   "execution_count": 8,
   "metadata": {},
   "outputs": [
    {
     "data": {
      "text/html": [
       "<div>\n",
       "<style scoped>\n",
       "    .dataframe tbody tr th:only-of-type {\n",
       "        vertical-align: middle;\n",
       "    }\n",
       "\n",
       "    .dataframe tbody tr th {\n",
       "        vertical-align: top;\n",
       "    }\n",
       "\n",
       "    .dataframe thead th {\n",
       "        text-align: right;\n",
       "    }\n",
       "</style>\n",
       "<table border=\"1\" class=\"dataframe\">\n",
       "  <thead>\n",
       "    <tr style=\"text-align: right;\">\n",
       "      <th></th>\n",
       "      <th>אכל</th>\n",
       "      <th>נתן</th>\n",
       "    </tr>\n",
       "  </thead>\n",
       "  <tbody>\n",
       "    <tr>\n",
       "      <th>לחם</th>\n",
       "      <td>77.0</td>\n",
       "      <td>23.0</td>\n",
       "    </tr>\n",
       "    <tr>\n",
       "      <th>בשׂר</th>\n",
       "      <td>81.0</td>\n",
       "      <td>19.0</td>\n",
       "    </tr>\n",
       "    <tr>\n",
       "      <th>זהב</th>\n",
       "      <td>0.0</td>\n",
       "      <td>100.0</td>\n",
       "    </tr>\n",
       "  </tbody>\n",
       "</table>\n",
       "</div>"
      ],
      "text/plain": [
       "       אכל    נתן\n",
       "לחם   77.0   23.0\n",
       "בשׂר  81.0   19.0\n",
       "זהב    0.0  100.0"
      ]
     },
     "execution_count": 8,
     "metadata": {},
     "output_type": "execute_result"
    }
   ],
   "source": [
    "co_occurrences_percent = (co_occurrences.div(co_occurrences.sum(1), axis=0) * 100).round()\n",
    "\n",
    "co_occurrences_percent"
   ]
  },
  {
   "cell_type": "markdown",
   "metadata": {},
   "source": [
    "We see that, for instance, $77\\%$ of לחם's uses are with אכל."
   ]
  },
  {
   "cell_type": "markdown",
   "metadata": {},
   "source": [
    "## Plot into basic semantic space\n",
    "\n",
    "Now we want to model the **distance** between the three nouns. **We can use this distance to answer our research question about which two nouns are most similar.**\n",
    "\n",
    "Our dataset contains only two variables:\n",
    "\n",
    "* number of times used as direct object of אכל \"to eat\"\n",
    "* number of times used as direct object of נתן \"to give\"\n",
    "\n",
    "We can map these variables onto an X and Y axis of a cartesian plane. We do that below:"
   ]
  },
  {
   "cell_type": "code",
   "execution_count": 9,
   "metadata": {},
   "outputs": [
    {
     "data": {
      "image/png": "[encoded data removed]",
      "text/plain": [
       "<Figure size 720x720 with 1 Axes>"
      ]
     },
     "metadata": {
      "needs_background": "light"
     },
     "output_type": "display_data"
    }
   ],
   "source": [
    "# build matplotlib graph\n",
    "fig, ax = plt.subplots(figsize=(10, 10))\n",
    "\n",
    "#ax.scatter(x_axis, y_axis, color='')\n",
    "ax.set_xlim(-20, 120)\n",
    "ax.set_ylim(-20, 150)\n",
    "ax.set_xlabel('% direct object to \"eat\"', size=15)\n",
    "ax.set_ylabel('% direct object with \"give\"', size=15)\n",
    "\n",
    "# plot words on the graph\n",
    "for word in co_occurrences_percent.index:\n",
    "    display_word = get_display(word) # bidirectional text\n",
    "    x, y = co_occurrences_percent.loc[word]\n",
    "    ax.text(x, y, s=display_word, size=28, fontfamily='serif')\n",
    "    \n",
    "plt.savefig('sem_distance.png', dpi=300, bbox_inches='tight')\n",
    "ax.set_title('Hypothetical semantic distance between \"meat\", \"bread\", and \"gold\"\\n', size=18)\n",
    "\n",
    "plt.show()"
   ]
  },
  {
   "cell_type": "markdown",
   "metadata": {},
   "source": [
    "## Measuring the distances\n",
    "\n",
    "We can see clearly in the graph that בשׂר and לחם (\"meat\" and \"bread\") are more similar than זהב (\"gold\") is to either. If we want to precisely quantify similarity, though, we'll need a way to measure distance between the points. The simplest way to measure the distances between two points in Euclidean space is with the distance formula:\n",
    "\n",
    "$distance=\\sqrt{(x_{2}-x_{1})^2+(y_{2}-y_1)^2}$\n",
    "\n",
    "Using this formula, we can compare every point in our 3-sample-word dataset pairwise, with $x_{2}$ and $y_{2}$ being the $x$ and $y$ values for a $wordA$ and $x_{1}$ and $y_{1}$ for a $wordB$. We do so below in a loop. The result is a $3x3$ distance matrix that compares the distance of every word in the dataset to every other word."
   ]
  },
  {
   "cell_type": "code",
   "execution_count": 10,
   "metadata": {},
   "outputs": [],
   "source": [
    "dist_matrix = [] # data to go here\n",
    "all_words = co_occurrences_percent.index # words to iterate over\n",
    "\n",
    "# for every wordA find distance to wordB\n",
    "for wordA in all_words:\n",
    "    x2, y2 = co_occurrences_percent.loc[wordA]\n",
    "    distances = []\n",
    "    for wordB in all_words:\n",
    "        x1, y1 = co_occurrences_percent.loc[wordB]\n",
    "        distance = np.sqrt((x2-x1)**2 + (y2-y1)**2) # cf. formula above\n",
    "        distances.append(distance)\n",
    "    dist_matrix.append(distances)\n",
    "    \n",
    "# convert to DataFrame with labeled columns/rows\n",
    "dist_matrix = pd.DataFrame(dist_matrix, columns=all_words, index=all_words)\n",
    "dist_matrix = dist_matrix.round(2) # round values"
   ]
  },
  {
   "cell_type": "markdown",
   "metadata": {},
   "source": [
    "Let's have a look at the distance matrix."
   ]
  },
  {
   "cell_type": "code",
   "execution_count": 11,
   "metadata": {},
   "outputs": [
    {
     "data": {
      "text/html": [
       "<div>\n",
       "<style scoped>\n",
       "    .dataframe tbody tr th:only-of-type {\n",
       "        vertical-align: middle;\n",
       "    }\n",
       "\n",
       "    .dataframe tbody tr th {\n",
       "        vertical-align: top;\n",
       "    }\n",
       "\n",
       "    .dataframe thead th {\n",
       "        text-align: right;\n",
       "    }\n",
       "</style>\n",
       "<table border=\"1\" class=\"dataframe\">\n",
       "  <thead>\n",
       "    <tr style=\"text-align: right;\">\n",
       "      <th></th>\n",
       "      <th>לחם</th>\n",
       "      <th>בשׂר</th>\n",
       "      <th>זהב</th>\n",
       "    </tr>\n",
       "  </thead>\n",
       "  <tbody>\n",
       "    <tr>\n",
       "      <th>לחם</th>\n",
       "      <td>0.00</td>\n",
       "      <td>5.66</td>\n",
       "      <td>108.89</td>\n",
       "    </tr>\n",
       "    <tr>\n",
       "      <th>בשׂר</th>\n",
       "      <td>5.66</td>\n",
       "      <td>0.00</td>\n",
       "      <td>114.55</td>\n",
       "    </tr>\n",
       "    <tr>\n",
       "      <th>זהב</th>\n",
       "      <td>108.89</td>\n",
       "      <td>114.55</td>\n",
       "      <td>0.00</td>\n",
       "    </tr>\n",
       "  </tbody>\n",
       "</table>\n",
       "</div>"
      ],
      "text/plain": [
       "         לחם    בשׂר     זהב\n",
       "לחם     0.00    5.66  108.89\n",
       "בשׂר    5.66    0.00  114.55\n",
       "זהב   108.89  114.55    0.00"
      ]
     },
     "execution_count": 11,
     "metadata": {},
     "output_type": "execute_result"
    }
   ],
   "source": [
    "dist_matrix"
   ]
  },
  {
   "cell_type": "markdown",
   "metadata": {},
   "source": [
    "Note the $0.00$ distance in the diagonal, which represents a given word's comparison to itself.\n",
    "\n",
    "We have no successfully quantified the distance between all words. The shortest non-zero distance is between בשׂר and לחם at $5.66$. זהב is the least similar to the two items with distances of $108.89$ and $114.55$. These values give formal confirmation to the visual distance in the scatterplot. We can also take note that זהב is slightly closer to לחם than to בשׂר. Looking at the dataset, we can attribute this to a slightly higher use of לחם with נתן (at $23\\%$) and a slightly lower use with אכל (at $77\\%$) when compared to בשׂר (respectively, $19\\%$ and $81\\%$). "
   ]
  },
  {
   "cell_type": "markdown",
   "metadata": {},
   "source": [
    "# Looking further\n",
    "\n",
    "The model shown in this notebook is a very simple example of a [semantic vector space](https://en.wikipedia.org/wiki/Vector_space_model) that consists of three sample words and two features. But most linguistic data contains much more than simply two features. Yet it is still possible to plot such data by applying [dimensionality reduction](https://en.wikipedia.org/wiki/Dimensionality_reduction) to the dataset. Dimensionality reduction can compress any number of features into 2 dimensions that can be plotted on a graph. \n",
    "\n",
    "The distance formula, on the other hand, works just as well with 3+ dimensions. A method which is better suited for some datasets is [cosine similarity](https://en.wikipedia.org/wiki/Cosine_similarity). This measure makes it possible to model features as directions in space rather than positions.\n",
    "\n",
    "There is a lot of literature on semantic vector spaces. Here are some resources which have been particularly helpful:\n",
    "\n",
    "* Clark, Stephen. \"Vector Space Models of Lexical Meaning.\" In *The Handbook of Contemporary Semantic Theory*, 2015. 493–522. ([online](https://onlinelibrary.wiley.com/doi/abs/10.1002/9781118882139.ch16))\n",
    "* Levshina, Natalia. \"Introduction to Semantic Vector Spaces.\" In *How to do Linguistics with R*, 2015. 323–331."
   ]
  },
  {
   "cell_type": "markdown",
   "metadata": {},
   "source": [
    "# Conclusions\n",
    "\n",
    "This notebook has shown as simple method of comparing hypothetical semantic distance between two sample words in the Hebrew Bible. We have shown that out of as sample of בשׂר \"meat\", לחם \"bread\", זהב \"gold\", with features of \"direct object to 'give'\" and \"direct object to 'eat'\", בשׂר and לחם are most similar to each other. We also looked at the Euclidean distance formula as a means of formally comparing distances between words."
   ]
  }
 ],
 "metadata": {
  "kernelspec": {
   "display_name": "Python 3",
   "language": "python",
   "name": "python3"
  },
  "language_info": {
   "codemirror_mode": {
    "name": "ipython",
    "version": 3
   },
   "file_extension": ".py",
   "mimetype": "text/x-python",
   "name": "python",
   "nbconvert_exporter": "python",
   "pygments_lexer": "ipython3",
   "version": "3.8.0"
  }
 },
 "nbformat": 4,
 "nbformat_minor": 4
}
