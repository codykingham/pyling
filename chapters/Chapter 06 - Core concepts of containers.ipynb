{
 "cells": [
  {
   "cell_type": "markdown",
   "metadata": {},
   "source": [
    "This material is copied (possibily with some modifications) from the [Python for Text-Analysis course](https://github.com/cltl/python-for-text-analysis/tree/master/Chapters)."
   ]
  },
  {
   "cell_type": "markdown",
   "metadata": {},
   "source": [
    "# Chapter 6 - Core concepts of containers\n",
    "In the next chapters, we will introduce the most important containers in the Python language, which are **lists**, **sets**, **tuples**, and **dictionaries**. However, before we can introduce them, it's important that we present some things that they all share, which is hence the goal of this chapter."
   ]
  },
  {
   "cell_type": "markdown",
   "metadata": {},
   "source": [
    "**At the end of this chapter, you will be able to understand the following concepts:**\n",
    "\n",
    "* positional arguments\n",
    "* keyword arguments\n",
    "* mutability"
   ]
  },
  {
   "cell_type": "markdown",
   "metadata": {},
   "source": [
    "**If you want to learn more about these topics, you might find the following links useful:**\n",
    "* [the Python glossary](https://docs.python.org/3/glossary.html): please look for the terms *immutable* and *argument*\n"
   ]
  },
  {
   "cell_type": "markdown",
   "metadata": {},
   "source": [
    "If you have **questions** about this chapter, contact Cody in the Slack group."
   ]
  },
  {
   "cell_type": "markdown",
   "metadata": {},
   "source": [
    "## 1. Containers\n",
    "\n",
    "When working with data, we use different python objects (which we call **containers**) to order data in a way that is convenient for the task we are trying to solve. Each of the following container types has different advantages for storing and accessing data (which you will learn about in the following chapters):\n",
    "\n",
    "* lists\n",
    "* tuples\n",
    "* sets\n",
    "* dictionaries\n",
    "\n",
    "Each of the container types can be manipulated using different methods and functions, for instance, allowing us to add, access, or remove data. It is important that you understand those."
   ]
  },
  {
   "cell_type": "code",
   "execution_count": null,
   "metadata": {},
   "outputs": [],
   "source": [
    "# Some examples (you do not have to remember this now):\n",
    "\n",
    "a_list = [1,2,3, \"let's\", \"use\", \"containers\"]\n",
    "a_tuple = (1, 2, 3, \"let's\", \"use\", \"containers\")\n",
    "a_set = {1, 2, 3, \"let's\", \"use\", \"containers\"}\n",
    "a_dict = {1:\"let's\",  2:\"use\", 3: \"containers\"}\n",
    "\n",
    "#print(a_list)\n",
    "#print(a_tuple)\n",
    "#print(a_set)\n",
    "#print(a_dict)"
   ]
  },
  {
   "cell_type": "markdown",
   "metadata": {},
   "source": [
    "## 2. Positional arguments (args) and keyword arguments (kwargs)\n",
    "Args and kwargs are basically used to specify what a function or method is supposed to do. Therefore, a good understanding of the terms **args** and **kwargs** is important for the use of functions and methods in Python. Let's look at some string method examples from the last topic:"
   ]
  },
  {
   "cell_type": "code",
   "execution_count": null,
   "metadata": {},
   "outputs": [],
   "source": [
    "a_string = 'hello world'\n",
    "print('example 1. upper method:', a_string.upper())\n",
    "print('example 2. count method:', a_string.count('l'))\n",
    "print('example 3. replace method:', a_string.replace('l', 'b'))\n",
    "print('example 4. split method:', a_string.split())\n",
    "print('example 5. split method:', a_string.split(sep='o'))"
   ]
  },
  {
   "cell_type": "markdown",
   "metadata": {},
   "source": [
    "`'l'` in example 2 is a positional argument. `sep='o'` in example 5 is an example of a keyword argument. Let's analyze the examples.\n",
    "\n",
    "| example | method  | positional arguments (args) | keyword arguments (kwargs) |\n",
    "|---------|---------| -----------------|----------------------------|\n",
    "| `1`     | upper   | 0                | 0                          |\n",
    "| `2`     | count   | 1                | 0                          |\n",
    "| `3`     | replace | 2                | 0                          |\n",
    "| `4`     | split   | 0                | 0                          |\n",
    "| `5`     | split   | 0                | 1                          |"
   ]
  },
  {
   "cell_type": "markdown",
   "metadata": {},
   "source": [
    "This might look a bit confusing because sometimes methods have positional arguments and/or keyword arguments, and sometimes they do not. Luckily Python has a built-in function **help**, which provides us insight into how to use each method."
   ]
  },
  {
   "cell_type": "code",
   "execution_count": null,
   "metadata": {},
   "outputs": [],
   "source": [
    "help(str.upper)"
   ]
  },
  {
   "cell_type": "markdown",
   "metadata": {},
   "source": [
    "we learn that **str.upper** takes no positional arguments and no keyword arguments (nothing between the parentheses) and returns a string."
   ]
  },
  {
   "cell_type": "code",
   "execution_count": null,
   "metadata": {},
   "outputs": [],
   "source": [
    "help(str.count)"
   ]
  },
  {
   "cell_type": "markdown",
   "metadata": {},
   "source": [
    "we learn that **str.count** takes one positional argument (*sub*) and returns an integer (-> int). You can ignore the information between square brackets for now."
   ]
  },
  {
   "cell_type": "code",
   "execution_count": null,
   "metadata": {},
   "outputs": [],
   "source": [
    "help(str.replace)"
   ]
  },
  {
   "cell_type": "markdown",
   "metadata": {},
   "source": [
    "we learn that **str.replace** takes two positional arguments (*old* and *new*) and one keyword argument (*count*). It returns a string."
   ]
  },
  {
   "cell_type": "code",
   "execution_count": null,
   "metadata": {},
   "outputs": [],
   "source": [
    "help(str.split)"
   ]
  },
  {
   "cell_type": "markdown",
   "metadata": {},
   "source": [
    "Now it becomes interesting. **str.split** has no positional arguments and two keyword arguments (*sep* and *maxsplit*). The method returns a list of strings."
   ]
  },
  {
   "cell_type": "markdown",
   "metadata": {},
   "source": [
    "## 3. Difference between positional arguments (args) and keyword arguments (kwargs)\n",
    "* Positional arguments (args) are **compulsory** in order to call a method.\n",
    "* Keyword arguments (kwargs) are **optional**. They can be optional since they usually have a **default** value. By using the keyword argument, you simply change the default value to another value."
   ]
  },
  {
   "cell_type": "markdown",
   "metadata": {},
   "source": [
    "For example, if we call a method that needs a positional argument without any, we get an error:"
   ]
  },
  {
   "cell_type": "code",
   "execution_count": null,
   "metadata": {},
   "outputs": [],
   "source": [
    "a_string = 'hello world'\n",
    "a_string.count()"
   ]
  },
  {
   "cell_type": "markdown",
   "metadata": {},
   "source": [
    "However, if we do not provide a value for keyword arguments, we do not get an error:"
   ]
  },
  {
   "cell_type": "code",
   "execution_count": null,
   "metadata": {},
   "outputs": [],
   "source": [
    "a_string = 'hello world'\n",
    "a_string.split()"
   ]
  },
  {
   "cell_type": "markdown",
   "metadata": {},
   "source": [
    "## 4. Mutability\n",
    "Hopefully, it will become clear in the following chapters what we mean by **mutability**. For now, you can think of it in terms of 'can I change the data?'. Please remember the following categories for the subsequent chapters:"
   ]
  },
  {
   "cell_type": "markdown",
   "metadata": {},
   "source": [
    "| **immutable**   | **mutable** | \n",
    "|-----------------|-------------|\n",
    "|   integer       |  list       |\n",
    "|   string        |  set        |\n",
    "|     -           |  dictionary |"
   ]
  },
  {
   "cell_type": "markdown",
   "metadata": {},
   "source": [
    "# Exercises\n",
    "\n",
    "Please find some exercises about core concepts of python containers below. "
   ]
  },
  {
   "cell_type": "markdown",
   "metadata": {},
   "source": [
    "### Exercise 1: \n",
    "Use the help function to figure out what the string methods below are doing. Then analyze how many positional and keyword arguments are used in the following examples:"
   ]
  },
  {
   "cell_type": "code",
   "execution_count": null,
   "metadata": {},
   "outputs": [],
   "source": [
    "print(a_string.lower())\n",
    "print(a_string.strip())\n",
    "print(a_string.strip('an'))\n",
    "print(a_string.partition('and'))"
   ]
  },
  {
   "cell_type": "markdown",
   "metadata": {},
   "source": [
    "### Exercise 2: \n",
    "\n",
    "Please illustrate the difference between ARGS and KWARGS using the example of string methds. Feel free to use dir(str) and the help function for inspiration."
   ]
  },
  {
   "cell_type": "code",
   "execution_count": null,
   "metadata": {},
   "outputs": [],
   "source": [
    "# your examples here"
   ]
  }
 ],
 "metadata": {
  "anaconda-cloud": {},
  "kernelspec": {
   "display_name": "Python 3",
   "language": "python",
   "name": "python3"
  },
  "language_info": {
   "codemirror_mode": {
    "name": "ipython",
    "version": 3
   },
   "file_extension": ".py",
   "mimetype": "text/x-python",
   "name": "python",
   "nbconvert_exporter": "python",
   "pygments_lexer": "ipython3",
   "version": "3.8.0"
  }
 },
 "nbformat": 4,
 "nbformat_minor": 4
}
